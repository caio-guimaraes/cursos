{
 "cells": [
  {
   "cell_type": "markdown",
   "metadata": {},
   "source": [
    "# Para saber mais: obtendo arquivos JSON de APIs\n",
    "\n",
    "Para obter dados no formato JSON podemos utilizar uma **API** (Application Programming Interface). Ela é uma interface de programação de aplicação que permite a comunicação entre diferentes programas ou sistemas.\n",
    "\n",
    ">Atenção: Caso queira aprofundar no assunto, temos um [Alura +](https://cursos.alura.com.br/extra/alura-mais/o-que-e-uma-api--c697) explicando o que é uma API.\n",
    "\n",
    "Existem vários formatos que podem ser usados em APIs e um dos mais comuns é o **JSON** (*JavaScript Object Notation*). O JSON é um formato leve de troca de informações entre sistemas que utiliza uma notação baseada em objetos do **JavaScript**.\n",
    "\n",
    "Nós temos a seguinte situação-problema:\n",
    "\n",
    "“Uma empresa de alimentos saudáveis está enfrentando um problema com a popularidade de seus produtos. Apesar de oferecer opções saudáveis, muitos(as) clientes estão relutantes em comprar os produtos devido à falta de informação sobre os valores nutricionais das frutas que são utilizadas na produção dos alimentos”.\n",
    "\n",
    "Nesta situação podemos acessar uma API chamada [Fruitvice](https://fruityvice.com/) para coletar informações detalhadas sobre os valores nutricionais das frutas que são usadas nos produtos. Com essas informações, a empresa pode atualizar suas embalagens e materiais de marketing para destacar os valores nutricionais das frutas e, assim, atrair mais clientes que buscam opções saudáveis. Além disso, a empresa pode utilizar as informações para desenvolver novos produtos que atendam ainda mais às necessidades nutricionais de sua clientela.\n",
    "\n",
    "Uma maneira comum de acessar APIs é por meio da biblioteca [requests](https://pypi.org/project/requests/). Para isso, também é necessário importar o módulo ```json```:"
   ]
  },
  {
   "cell_type": "code",
   "execution_count": null,
   "metadata": {},
   "outputs": [],
   "source": [
    "import requests\n",
    "import json"
   ]
  },
  {
   "cell_type": "markdown",
   "metadata": {},
   "source": [
    "Os dados da API Fruitvice serão obtidos com a função ```request.get('url')```. Dentro dela nós passamos o endereço da API seguido de ```api/fruit/all``` para obter os dados de todas as frutas."
   ]
  },
  {
   "cell_type": "code",
   "execution_count": null,
   "metadata": {},
   "outputs": [],
   "source": [
    "dados_frutas = requests.get('https://fruityvice.com/api/fruit/all')"
   ]
  },
  {
   "cell_type": "markdown",
   "metadata": {},
   "source": [
    "Conseguimos recuperar os resultados usando a função ```json.loads()```. Para isso, é necessário passar a variável ```dados_frutas```, criada anteriormente com o atributo ```text``` que retorna o conteúdo da resposta."
   ]
  },
  {
   "cell_type": "code",
   "execution_count": null,
   "metadata": {},
   "outputs": [],
   "source": [
    "resultado = json.loads(dados_frutas.text)"
   ]
  },
  {
   "cell_type": "markdown",
   "metadata": {},
   "source": [
    "Em seguida, podemos visualizar o DataFrame."
   ]
  },
  {
   "cell_type": "code",
   "execution_count": null,
   "metadata": {},
   "outputs": [],
   "source": [
    "pd.DataFrame(resultado)"
   ]
  },
  {
   "cell_type": "markdown",
   "metadata": {},
   "source": [
    "Agora sabemos como utilizar a biblioteca requests e o módulo JSON para obter dados de APIs!"
   ]
  }
 ],
 "metadata": {
  "kernelspec": {
   "display_name": "Python 3",
   "language": "python",
   "name": "python3"
  },
  "language_info": {
   "codemirror_mode": {
    "name": "ipython",
    "version": 3
   },
   "file_extension": ".py",
   "mimetype": "text/x-python",
   "name": "python",
   "nbconvert_exporter": "python",
   "pygments_lexer": "ipython3",
   "version": "3.12.6"
  }
 },
 "nbformat": 4,
 "nbformat_minor": 2
}
