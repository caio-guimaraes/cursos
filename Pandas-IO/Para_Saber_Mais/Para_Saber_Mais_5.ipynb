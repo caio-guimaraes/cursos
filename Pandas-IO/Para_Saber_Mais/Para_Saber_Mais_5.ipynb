{
 "cells": [
  {
   "cell_type": "markdown",
   "metadata": {},
   "source": [
    "# Para saber mais: o que é HTML?\n",
    "\n",
    "HTML (*Hypertext Markup Language* - Linguagem de marcação de hipertexto) é o código que usamos para estruturar uma página web e seu conteúdo. O HTML consiste em uma série de elementos que são usados para delimitar ou agrupar diferentes partes do conteúdo para que ele apareça ou atue de determinada maneira.\n",
    "\n",
    "Um documento HTML começa com a tag ```<html>``` e termina com a tag ```</html>```. Ele também contém um cabeçalho (```<head>```) que descreve o título da página e outras informações relevantes; e um corpo (```<body>```) que contém o conteúdo da página. O cabeçalho e o corpo são delimitados pelas tags ```<head>``` e ```</head>```, e ```<body>``` e ```</body>```, respectivamente.\n",
    "\n",
    "Dentro do corpo podemos usar vários elementos para criar a estrutura do conteúdo. Note cada detalhe no exemplo a seguir:\n",
    "\n",
    "tags ```<h1>``` a ```<h6>``` : criar títulos e subtítulos.\n",
    "tags ```<p>```: criar parágrafos.\n",
    "tags ```<ul>``` e ```<li>``` : criar listas não ordenadas.\n",
    "tags ```<img>```: inserir imagens.\n",
    "tags ```<table>```, ```<tr>```, ```<th>``` e ```<td>```: criar tabelas.\n",
    "Além disso, podemos usar atributos nos elementos HTML para especificar propriedades adicionais. Por exemplo: podemos usar o atributo src na tag ```<img>``` para indicar o endereço da imagem que queremos mostrar, ou o atributo href na tag ```<a>``` para indicar o endereço do link que queremos criar.\n",
    "\n",
    "Caso queira aprofundar ainda mais nesse assunto recomendamos os seguintes artigos:\n",
    "\n",
    "[O que é o HTML e suas tags? Parte 1: estrutura básica](https://www.alura.com.br/artigos/o-que-e-html-suas-tags-parte-1-estrutura-basica).\n",
    "\n",
    "[O que é o HTML e suas tags? Parte 2: elementos inline](https://www.alura.com.br/artigos/o-que-e-html-suas-tags-parte-1-estrutura-basica).\n",
    "\n",
    "[O que é o HTML e suas tags? Parte 3: elementos block-level](https://www.alura.com.br/artigos/html-tags-elementos-block-level?utm_source=gnarus&utm_medium=timeline)."
   ]
  },
  {
   "cell_type": "markdown",
   "metadata": {},
   "source": []
  }
 ],
 "metadata": {
  "language_info": {
   "name": "python"
  }
 },
 "nbformat": 4,
 "nbformat_minor": 2
}
