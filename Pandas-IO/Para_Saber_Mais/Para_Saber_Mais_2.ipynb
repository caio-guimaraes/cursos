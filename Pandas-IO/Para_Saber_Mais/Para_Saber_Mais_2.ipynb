{
 "cells": [
  {
   "cell_type": "markdown",
   "metadata": {},
   "source": [
    "# Para saber mais: aprofundando na função read_excel\n",
    "\n",
    "O Microsoft Excel é uma das ferramentas de planilha mais utilizadas no mundo, sendo amplamente utilizado para armazenar e analisar dados em formato de tabela. Nós demonstramos como a função read_excel pode ser utilizada para ler um arquivo Excel no formato *xlsx*. No entanto, essa função é capaz de ler arquivos em outros formatos, como: *xls*, *xlsm*, *xlsb*, *odf*, *ods* e *odt*.\n",
    "\n",
    "Vamos entender um pouco mais sobre esses diferentes tipos de arquivos?\n",
    "\n",
    "## ```xls```\n",
    "O *xls* é um formato de arquivo do Excel mais antigo e usado até a versão de 2003.\n",
    "\n",
    "## ```xlsx```\n",
    "Já o *xlsx* é o formato de arquivo padrão do Excel a partir da versão 2007. Esse formato é baseado em XML (*Extensible Markup Language* - Linguagem de marcação extensível) e é amplamente suportado por outras ferramentas de planilha eletrônica, incluindo o Google Planilhas.\n",
    "\n",
    ">Atenção: Se surgiram algumas dúvidas com o termo XML, não se preocupe! Mais adiante teremos uma aula sobre esse tema. Nela você entenderá o que é esse formato, na medida em que lê e escreve em XML.\n",
    "\n",
    "## ```xlsm```\n",
    "Há também o *xlsm*, uma extensão de arquivo usada pelo Excel para armazenar planilhas que contêm as macros. Estas são sequências de comandos ou instruções que podem ser executadas automaticamente para realizar tarefas específicas na planilha.\n",
    "\n",
    "Então, o formato *xlsm* permite que as macros sejam salvas juntamente com a planilha, para que possam ser executadas sempre que a planilha for aberta.\n",
    "\n",
    "## ```xlsb```\n",
    "Por fim, temos o formato *xlsb*, uma extensão de arquivo usada pelo Excel para armazenar planilhas em formato binário. A codificação binária permite que as planilhas sejam abertas e salvas com mais rapidez do que aquelas no formato *xlsx*.\n",
    "\n",
    "Já os formatos *odf*, *ods* e *odt* são arquivos abertos, livres e universais que podem ser usados por qualquer software, ou seja, foram criados para serem independentes de plataformas, isso significa que podem ser usados em sistemas operacionais diferentes, como Windows, Linux e Mac OS.\n",
    "\n",
    "Além disso, são independentes de aplicativos e podem ser usados em vários programas diferentes, incluindo o OpenOffice, o LibreOffice, o Google Docs e o Microsoft Office. Esse padrão de arquivos foi criado e é mantido pela OASIS (Organization for the Advancement of Structured Information Standards), uma organização internacional criada para desenvolver e promover padrões digitais para uso na Internet.\n",
    "\n",
    "Legal! Agora sabemos um pouco mais sobre todos os tipos de arquivos que podem ser lidos com a função ```read_excel```."
   ]
  }
 ],
 "metadata": {
  "language_info": {
   "name": "python"
  }
 },
 "nbformat": 4,
 "nbformat_minor": 2
}
