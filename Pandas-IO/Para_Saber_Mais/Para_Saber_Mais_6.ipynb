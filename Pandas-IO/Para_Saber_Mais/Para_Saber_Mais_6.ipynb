{
 "cells": [
  {
   "cell_type": "markdown",
   "metadata": {},
   "source": [
    "# Para saber mais: o que é XML?\n",
    "\n",
    "XML é uma linguagem de marcação que permite criar e descrever dados de forma estruturada e padronizada. Ela é composta por linhas de comandos que usam tags para definir os elementos e os atributos dos dados.\n",
    "\n",
    "A estrutura básica de um documento XML é formada por:\n",
    "* Uma declaração inicial que indica a versão, o encoding e o tipo do documento.\n",
    "* Um elemento raiz que contém todos os outros elementos do documento.\n",
    "* Elementos filhos que podem ter outros elementos ou conteúdo de texto dentro deles.\n",
    "* Atributos que fornecem informações adicionais sobre os elementos."
   ]
  }
 ],
 "metadata": {
  "language_info": {
   "name": "python"
  }
 },
 "nbformat": 4,
 "nbformat_minor": 2
}
