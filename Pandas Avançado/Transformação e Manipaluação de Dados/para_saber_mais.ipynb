{
 "cells": [
  {
   "cell_type": "markdown",
   "metadata": {},
   "source": [
    "# Para saber mais\n",
    "\n",
    "## 1 - precificação inteligente\n",
    "A precificação inteligente para hospedagem é uma estratégia de estimação de preços de forma automatizada e dinâmica, que considera fatores como oferta e demanda, sazonalidade, eventos locais, características do local, entre outros. Com base nessas informações, um algoritmo pode ajustar os preços para maximizar a receita e a rentabilidade da pessoa proprietária.\n",
    "\n",
    "Normalmente essa estratégia é aplicada a um modelo de inteligência artificial que ajusta automaticamente os preços das diárias. Por exemplo, se a demanda por hospedagem em um determinado destino aumentar, a precificação inteligente ajustará automaticamente os preços das diárias para cima, com o fim de maximizar a receita da propriedade. Da mesma forma, se a demanda diminuir, a precificação inteligente ajustará os preços para baixo para manter a ocupação da propriedade e evitar perdas financeiras.\n",
    "\n",
    "Embora o machine learning seja frequentemente usado em sistemas de precificação inteligente, existem outras abordagens que podem ser usadas para implementar esses sistemas. Por exemplo, pode-se usar um modelo de regras baseado em lógica e heurísticas para definir as condições e regras de precificação.\n",
    "\n",
    "Mesmo assim, é importante ressaltar que o uso de machine learning pode oferecer benefícios adicionais, como a capacidade de analisar grandes volumes de dados, identificar padrões de comportamento do consumidor e ajustar os preços de forma mais precisa e dinâmica."
   ]
  },
  {
   "cell_type": "markdown",
   "metadata": {},
   "source": [
    "## 2- descrição dos dados\n",
    "Quando trabalhamos com um conjunto de dados qualquer, precisamos saber quais informações esses dados estão trazendo, pois só assim conseguiremos estudá-lo e analisá-lo para desenvolver uma solução de análise e tratamento de dados para ele.\n",
    "\n",
    "Nesse curso, vamos trabalhar com o conjunto de dados presentes no arquivo *dados_hospedagem.json* e, para que seja possível avançar nos estudos quanto aos dados fornecidos por esse arquivo, vamos entender o que cada coluna traz de informação.\n",
    "\n",
    "* ```avaliacao_geral```: refere-se à média de notas dadas para a avaliação da hospedagem no imóvel.\n",
    "* ```experiencia_local```: descreve as experiências oferecidas durante a hospedagem no imóvel.\n",
    "* ```max_hospedes```: informa a quantidade máxima de hóspedes que o local permite.\n",
    "* ```descricao_local```: descreve o imóvel.\n",
    "* ```descricao_vizinhanca```: descreve a vizinhança ao redor do imóvel.\n",
    "* ```quantidade_banheiros```: informa a quantidade de banheiros disponíveis.\n",
    "* ```quantidade_quartos```: informa a quantidade de quartos disponíveis.\n",
    "* ```quantidade_camas```: informa a quantidade de camas disponíveis.\n",
    "* ```modelo_cama```: informa o modelo de cama oferecido.\n",
    "* ```comodidades```: informa as comodidades oferecidas pelo imóvel.\n",
    "* ```taxa_deposito```: informa a taxa de depósito mínima para segurança de hospedagem.\n",
    "* ```taxa_limpeza```: informa a taxa cobrada para o serviço de limpeza.\n",
    "* ```preco```: refere-se ao preço base a ser cobrado pela diária no imóvel."
   ]
  },
  {
   "cell_type": "markdown",
   "metadata": {},
   "source": [
    "## 3 - Aprofundando em regex\n",
    "Regex (ou expressão regular) é uma sequência de caracteres que define um padrão de busca em um texto. Ele é uma ferramenta poderosa e versátil que permite encontrar, substituir e manipular padrões de texto de forma eficiente. O regex é amplamente utilizado em diferentes áreas, incluindo programação, ciência de dados e processamento de texto.\n",
    "\n",
    "Em ciência de dados, o regex é frequentemente usado para processar dados de texto brutos. Algumas dessas aplicações incluem a limpeza de dados, onde o regex pode ser usado para encontrar e substituir certos caracteres. Também pode ser usado em projetos de classificação; um exemplo é usar o regex como auxílio para encontrar padrões no texto de e-mails, o que ajuda a classificar se eles são spam ou não spam.\n",
    "\n",
    "De maneira geral, o regex permite que os cientistas de dados processem, analisem e classifiquem grandes volumes de dados de texto de forma eficiente e automatizada. O uso adequado do regex pode ajudar a extrair informações valiosas de dados de texto, além de facilitar a limpeza e organização desses dados.\n",
    "\n",
    "Você pode construir um regex com a ajuda do site [regex101.com](https://regex101.com/). Caso deseje conhecer mais sobre regex e uma aplicação em banco de dados, vale a pena ler o artigo [Principais casos de uso de Regex para tratamento de dados](https://www.alura.com.br/artigos/principais-casos-uso-regex-para-tratamento-dados), que mostra uma aplicação de regex em bancos de dados."
   ]
  },
  {
   "cell_type": "markdown",
   "metadata": {},
   "source": [
    "\n",
    "## 4 - O tipo datetime\n",
    "A classe ```datetime``` é um tipo de dado que representa uma data e hora específicas em Python. Ela permite trabalhar e manipular dados de ano, mês, dia, hora, minuto, segundo e microssegundo, além de dias da semana, como segunda, terça, quarta, etc. Essa classe é definida no módulo ```datetime``` e é fundamental na manipulação de datas e horários em Python. Com ela, é possível realizar operações de cálculo de diferenças entre datas, formatação de datas e horas em diferentes formatos, além de ser muito útil em análises de dados que envolvem séries temporais.\n",
    "\n",
    "Com a biblioteca Pandas, é possível realizar diversas operações com datas e horários, como a conversão de dados de string para ```datetime```, a filtragem de dados baseada em intervalos de tempo específicos, a agregação de dados por hora, dia, mês ou ano, entre outras funcionalidades. Desse modo, com essa biblioteca, é possível realizar diversas operações com datas de forma simples e eficiente dentro de um conjunto de dados.\n",
    "\n",
    "### Biblioteca datetime\n",
    "Conseguimos trabalhar diretamente com o ```datetime``` através da biblioteca datetime, uma biblioteca padrão do Python que fornece classes para trabalhar com datas e horas. Com essa biblioteca, é possível criar objetos de data e hora, realizar cálculos de tempo, formatar datas e horas em diferentes formatos e muito mais.\n",
    "\n",
    "Dentro da biblioteca datetime, existe a classe datetime, que representa uma data e hora específicas. Veja um exemplo:"
   ]
  },
  {
   "cell_type": "code",
   "execution_count": null,
   "metadata": {},
   "outputs": [],
   "source": [
    "import datetime\n",
    "\n",
    "# criando um objeto datetime com a data e hora atual\n",
    "agora = datetime.datetime.now()\n",
    "\n",
    "print(\"Data e hora atual:\", agora)"
   ]
  },
  {
   "cell_type": "markdown",
   "metadata": {},
   "source": [
    "Neste exemplo, o método ```now()``` da classe datetime é usado para criar um objeto que representa a data e a hora atual. O objeto resultante é armazenado na variável ```agora``` e, em seguida, é impresso na tela usando a função ```print()```.\n",
    "\n",
    "Outra classe importante na biblioteca datetime é a classe date, que representa apenas uma data. Veja um exemplo:"
   ]
  },
  {
   "cell_type": "code",
   "execution_count": null,
   "metadata": {},
   "outputs": [],
   "source": [
    "import datetime\n",
    "# criando um objeto date com a data de hoje\n",
    "hoje = datetime.date.today()\n",
    "\n",
    "print(\"Data de hoje:\", hoje)"
   ]
  },
  {
   "cell_type": "markdown",
   "metadata": {},
   "source": [
    "Neste exemplo, o método ```today()``` da classe date é usado para criar um objeto que representa a data de hoje. O objeto resultante é armazenado na variável ```hoje``` e, em seguida, é impresso na tela usando a função ```print()```.\n",
    "\n",
    "A biblioteca datetime também permite realizar operações matemáticas com datas e horas. Veja um exemplo de como calcular a diferença entre duas datas:"
   ]
  },
  {
   "cell_type": "code",
   "execution_count": null,
   "metadata": {},
   "outputs": [],
   "source": [
    "import datetime\n",
    "\n",
    "# criando dois objetos date com datas diferentes\n",
    "data_1 = datetime.date(2022, 1, 1)\n",
    "data_2 = datetime.date(2023, 1, 1)\n",
    "\n",
    "# calculando a diferença entre as duas datas\n",
    "diferenca = data_2 - data_1\n",
    "\n",
    "print(\"Diferença entre as duas datas:\", diferenca)"
   ]
  },
  {
   "cell_type": "markdown",
   "metadata": {},
   "source": [
    "Neste exemplo, dois objetos date são criados com datas diferentes. Em seguida, o operador de subtração é usado para calcular a diferença entre as duas datas. O resultado é armazenado na variável ```diferenca``` e, em seguida, é impresso na tela usando a função ```print()```.\n",
    "\n",
    "Para se aprofundar nos usos do tipo datetime consulte o artigo Python datetime: [Como faço para definir data e hora em Python?](https://www.alura.com.br/artigos/lidando-com-datas-e-horarios-no-python) e também a documentação da [biblioteca datetime](https://docs.python.org/3/library/datetime.html)."
   ]
  }
 ],
 "metadata": {
  "kernelspec": {
   "display_name": "Python 3",
   "language": "python",
   "name": "python3"
  },
  "language_info": {
   "codemirror_mode": {
    "name": "ipython",
    "version": 3
   },
   "file_extension": ".py",
   "mimetype": "text/x-python",
   "name": "python",
   "nbconvert_exporter": "python",
   "pygments_lexer": "ipython3",
   "version": "3.7.6"
  }
 },
 "nbformat": 4,
 "nbformat_minor": 2
}
