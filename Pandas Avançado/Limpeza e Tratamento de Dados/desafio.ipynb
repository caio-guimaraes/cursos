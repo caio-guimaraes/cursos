{
 "cells": [
  {
   "cell_type": "markdown",
   "metadata": {},
   "source": [
    "# Desafios"
   ]
  },
  {
   "cell_type": "markdown",
   "metadata": {},
   "source": [
    "# Desafio 1: Utilizando parâmetros do json_normalize\n",
    "\n",
    "Ao normalizar o objeto JSON durante a aula passamos simplesmente ```pd.json_normalize()``` mas o método json_normalize possui diversos parâmetros para trabalhar com estruturas de dados mais complexas.\n",
    "\n",
    "Você recebeu a tarefa de normalizar o seguinte arquivo JSON chamado [“informacoes.json”](https://cdn3.gnarususercontent.com.br/2929-pandas/informacoes.json) referente a algumas informações de identificação de um cliente. O arquivo possui o seguinte conteúdo:"
   ]
  },
  {
   "cell_type": "code",
   "execution_count": null,
   "metadata": {},
   "outputs": [],
   "source": [
    "{\n",
    "  \"nome\": \"João\",\n",
    "  \"idade\": 28,\n",
    "  \"enderecos\": [\n",
    "    {\n",
    "      \"tipo\": \"casa\",\n",
    "      \"rua\": \"Rua A\",\n",
    "      \"numero\": 123,\n",
    "      \"cidade\": \"São Paulo\"\n",
    "    },\n",
    "    {\n",
    "      \"tipo\": \"trabalho\",\n",
    "      \"rua\": \"Rua B\",\n",
    "      \"numero\": 456,\n",
    "      \"cidade\": \"Rio de Janeiro\"\n",
    "    }\n",
    "  ]\n",
    "}"
   ]
  },
  {
   "attachments": {
    "image.png": {
     "image/png": "[encoded data removed]"
    }
   },
   "cell_type": "markdown",
   "metadata": {},
   "source": [
    "O resultado final deve ser um Pandas DataFrame que possui a seguinte estrutura:\n",
    "\n",
    "![image.png](attachment:image.png)\n",
    "\n",
    "Como podemos fazer isso?"
   ]
  },
  {
   "cell_type": "code",
   "execution_count": null,
   "metadata": {},
   "outputs": [],
   "source": [
    "import json\n",
    "\n",
    "with open('informacoes.json') as f:\n",
    "    dados = json.load(f)"
   ]
  },
  {
   "cell_type": "code",
   "execution_count": null,
   "metadata": {},
   "outputs": [],
   "source": [
    "import pandas as pd\n",
    "\n",
    "informacoes = pd.json_normalize(dados, record_path='enderecos', meta=['nome', 'idade'])"
   ]
  },
  {
   "cell_type": "markdown",
   "metadata": {},
   "source": [
    "## Desafio 2\n",
    "\n",
    "Você recebeu e fez o [download o arquivo JSON chamado “dados.json”](https://cdn3.gnarususercontent.com.br/2929-pandas/dados.json). Sua tarefa é realizar alguns tratamentos e deixar esse arquivo JSON como um Pandas DataFrame, sem dados vazios e com a tipagem das colunas de forma correta. Como isso pode ser feito?"
   ]
  },
  {
   "cell_type": "code",
   "execution_count": 2,
   "metadata": {},
   "outputs": [],
   "source": [
    "import pandas as pd\n",
    "import json\n",
    "\n",
    "with open('dados.json') as f:\n",
    "    dados_json = json.load(f)    "
   ]
  },
  {
   "cell_type": "code",
   "execution_count": 3,
   "metadata": {},
   "outputs": [
    {
     "data": {
      "text/plain": [
       "{'pessoas': [{'nome': 'JoÃ£o',\n",
       "   'idade': '25',\n",
       "   'endereco': {'rua': 'Rua A', 'numero': 123, 'cidade': 'SÃ£o Paulo'},\n",
       "   'telefones': ['11 1111-1111', '11 2222-2222']},\n",
       "  {'nome': 'Maria',\n",
       "   'idade': 30,\n",
       "   'endereco': {'rua': '', 'numero': 456, 'cidade': 'Rio de Janeiro'},\n",
       "   'telefones': ['21 3333-3333']}]}"
      ]
     },
     "execution_count": 3,
     "metadata": {},
     "output_type": "execute_result"
    }
   ],
   "source": [
    "dados_json"
   ]
  },
  {
   "cell_type": "code",
   "execution_count": 7,
   "metadata": {},
   "outputs": [
    {
     "data": {
      "text/html": [
       "<div>\n",
       "<style scoped>\n",
       "    .dataframe tbody tr th:only-of-type {\n",
       "        vertical-align: middle;\n",
       "    }\n",
       "\n",
       "    .dataframe tbody tr th {\n",
       "        vertical-align: top;\n",
       "    }\n",
       "\n",
       "    .dataframe thead th {\n",
       "        text-align: right;\n",
       "    }\n",
       "</style>\n",
       "<table border=\"1\" class=\"dataframe\">\n",
       "  <thead>\n",
       "    <tr style=\"text-align: right;\">\n",
       "      <th></th>\n",
       "      <th>nome</th>\n",
       "      <th>idade</th>\n",
       "      <th>telefones</th>\n",
       "      <th>endereco.rua</th>\n",
       "      <th>endereco.numero</th>\n",
       "      <th>endereco.cidade</th>\n",
       "    </tr>\n",
       "  </thead>\n",
       "  <tbody>\n",
       "    <tr>\n",
       "      <th>0</th>\n",
       "      <td>JoÃ£o</td>\n",
       "      <td>25</td>\n",
       "      <td>[11 1111-1111, 11 2222-2222]</td>\n",
       "      <td>Rua A</td>\n",
       "      <td>123</td>\n",
       "      <td>SÃ£o Paulo</td>\n",
       "    </tr>\n",
       "    <tr>\n",
       "      <th>1</th>\n",
       "      <td>Maria</td>\n",
       "      <td>30</td>\n",
       "      <td>[21 3333-3333]</td>\n",
       "      <td></td>\n",
       "      <td>456</td>\n",
       "      <td>Rio de Janeiro</td>\n",
       "    </tr>\n",
       "  </tbody>\n",
       "</table>\n",
       "</div>"
      ],
      "text/plain": [
       "    nome idade                     telefones endereco.rua  endereco.numero  \\\n",
       "0  JoÃ£o    25  [11 1111-1111, 11 2222-2222]        Rua A              123   \n",
       "1  Maria    30                [21 3333-3333]                           456   \n",
       "\n",
       "  endereco.cidade  \n",
       "0      SÃ£o Paulo  \n",
       "1  Rio de Janeiro  "
      ]
     },
     "execution_count": 7,
     "metadata": {},
     "output_type": "execute_result"
    }
   ],
   "source": [
    "df = pd.json_normalize(dados_json, record_path=['pessoas'])\n",
    "df"
   ]
  },
  {
   "cell_type": "code",
   "execution_count": 16,
   "metadata": {},
   "outputs": [
    {
     "name": "stdout",
     "output_type": "stream",
     "text": [
      "<class 'pandas.core.frame.DataFrame'>\n",
      "RangeIndex: 2 entries, 0 to 1\n",
      "Data columns (total 6 columns):\n",
      " #   Column           Non-Null Count  Dtype \n",
      "---  ------           --------------  ----- \n",
      " 0   nome             2 non-null      object\n",
      " 1   idade            2 non-null      object\n",
      " 2   telefones        2 non-null      object\n",
      " 3   endereco.rua     2 non-null      object\n",
      " 4   endereco.numero  2 non-null      int64 \n",
      " 5   endereco.cidade  2 non-null      object\n",
      "dtypes: int64(1), object(5)\n",
      "memory usage: 224.0+ bytes\n"
     ]
    }
   ],
   "source": [
    "df.info()"
   ]
  },
  {
   "cell_type": "code",
   "execution_count": 20,
   "metadata": {},
   "outputs": [],
   "source": [
    "df['idade'] = df['idade'].astype('int')"
   ]
  },
  {
   "cell_type": "code",
   "execution_count": 21,
   "metadata": {},
   "outputs": [
    {
     "data": {
      "text/html": [
       "<div>\n",
       "<style scoped>\n",
       "    .dataframe tbody tr th:only-of-type {\n",
       "        vertical-align: middle;\n",
       "    }\n",
       "\n",
       "    .dataframe tbody tr th {\n",
       "        vertical-align: top;\n",
       "    }\n",
       "\n",
       "    .dataframe thead th {\n",
       "        text-align: right;\n",
       "    }\n",
       "</style>\n",
       "<table border=\"1\" class=\"dataframe\">\n",
       "  <thead>\n",
       "    <tr style=\"text-align: right;\">\n",
       "      <th></th>\n",
       "      <th>nome</th>\n",
       "      <th>idade</th>\n",
       "      <th>telefones</th>\n",
       "      <th>endereco.rua</th>\n",
       "      <th>endereco.numero</th>\n",
       "      <th>endereco.cidade</th>\n",
       "    </tr>\n",
       "  </thead>\n",
       "  <tbody>\n",
       "    <tr>\n",
       "      <th>0</th>\n",
       "      <td>João</td>\n",
       "      <td>25</td>\n",
       "      <td>[11 1111-1111, 11 2222-2222]</td>\n",
       "      <td>Rua A</td>\n",
       "      <td>123</td>\n",
       "      <td>São Paulo</td>\n",
       "    </tr>\n",
       "  </tbody>\n",
       "</table>\n",
       "</div>"
      ],
      "text/plain": [
       "   nome  idade                     telefones endereco.rua  endereco.numero  \\\n",
       "0  João     25  [11 1111-1111, 11 2222-2222]        Rua A              123   \n",
       "\n",
       "  endereco.cidade  \n",
       "0       São Paulo  "
      ]
     },
     "execution_count": 21,
     "metadata": {},
     "output_type": "execute_result"
    }
   ],
   "source": [
    "df_filtrado = df.query('`endereco.rua` != \"\"')\n",
    "df_filtrado"
   ]
  },
  {
   "cell_type": "markdown",
   "metadata": {},
   "source": [
    "### Desafio 3 - Tratando uma base de dados\n",
    "\n",
    "Para facilitar a análise dos dados de cadastro de cursos de uma plataforma, você recebeu um [arquivo chamado cursos_cadastrados.json](https://cdn3.gnarususercontent.com.br/2929-pandas/cursos_cadastrados.json). Você foi informado que esses dados podem apresentar problemas que podem prejudicar a análise e interpretação correta dos dados.\n",
    "\n",
    "Para resolver isso, foi solicitado que você identifique e remova as amostras que apresentam os seguintes problemas:\n",
    "\n",
    "- Valores nulos: são valores ausentes em algumas das colunas que devem ser preenchidos para que a análise seja correta.\n",
    "- Duplicatas: registros iguais que podem prejudicar a análise dos dados, já que estão representando a mesma informação.\n",
    "- Strings vazias: valores de texto que não apresentam nenhum conteúdo escrito, o que pode dificultar a análise de dados, principalmente se a coluna tiver muitos valores assim.\n",
    "- Conversão de tipos: algumas colunas do arquivo podem estar no tipo de dados errado, como texto em vez de número, o que pode prejudicar a análise. Nesse caso você deve realizar a conversão para o tipo correto de cada coluna.\n",
    "\n",
    "Dentro desse contexto, você precisará de uma abordagem sistemática para limpar os dados. Assim, como isso pode ser feito?\n"
   ]
  },
  {
   "cell_type": "code",
   "execution_count": 23,
   "metadata": {},
   "outputs": [
    {
     "data": {
      "text/html": [
       "<div>\n",
       "<style scoped>\n",
       "    .dataframe tbody tr th:only-of-type {\n",
       "        vertical-align: middle;\n",
       "    }\n",
       "\n",
       "    .dataframe tbody tr th {\n",
       "        vertical-align: top;\n",
       "    }\n",
       "\n",
       "    .dataframe thead th {\n",
       "        text-align: right;\n",
       "    }\n",
       "</style>\n",
       "<table border=\"1\" class=\"dataframe\">\n",
       "  <thead>\n",
       "    <tr style=\"text-align: right;\">\n",
       "      <th></th>\n",
       "      <th>curso</th>\n",
       "      <th>categoria</th>\n",
       "      <th>carga_horaria</th>\n",
       "      <th>concluintes</th>\n",
       "      <th>data_inicio</th>\n",
       "      <th>data_conclusao</th>\n",
       "      <th>descricao</th>\n",
       "      <th>preco</th>\n",
       "      <th>instrutor.nome</th>\n",
       "      <th>instrutor.email</th>\n",
       "      <th>instrutor.telefone</th>\n",
       "    </tr>\n",
       "  </thead>\n",
       "  <tbody>\n",
       "    <tr>\n",
       "      <th>0</th>\n",
       "      <td>IntroduÃ§Ã£o Ã  programaÃ§Ã£o</td>\n",
       "      <td>ProgramaÃ§Ã£o</td>\n",
       "      <td>20 horas</td>\n",
       "      <td>100</td>\n",
       "      <td>2022-01-01</td>\n",
       "      <td>2022-01-20</td>\n",
       "      <td>Curso introdutÃ³rio Ã  programaÃ§Ã£o com Python</td>\n",
       "      <td>99.90</td>\n",
       "      <td>JoÃ£o Silva</td>\n",
       "      <td>joao.silva@emailaleatorio.com</td>\n",
       "      <td>(11) 9999-9999</td>\n",
       "    </tr>\n",
       "    <tr>\n",
       "      <th>1</th>\n",
       "      <td>Excel para iniciantes</td>\n",
       "      <td>Produtividade</td>\n",
       "      <td>None</td>\n",
       "      <td>None</td>\n",
       "      <td>None</td>\n",
       "      <td>None</td>\n",
       "      <td>None</td>\n",
       "      <td>None</td>\n",
       "      <td>Maria Oliveira</td>\n",
       "      <td>maria.oliveira@emailaleatorio.com</td>\n",
       "      <td>(11) 8888-8888</td>\n",
       "    </tr>\n",
       "    <tr>\n",
       "      <th>2</th>\n",
       "      <td>Marketing digital para negÃ³cios</td>\n",
       "      <td>Marketing</td>\n",
       "      <td>30 horas</td>\n",
       "      <td>75</td>\n",
       "      <td>2022-03-01</td>\n",
       "      <td>2022-03-31</td>\n",
       "      <td>Curso introdutÃ³rio em marketing</td>\n",
       "      <td>89.9</td>\n",
       "      <td>Ana Santos</td>\n",
       "      <td>ana.santos@emailaleatorio.com</td>\n",
       "      <td>(11) 7777-7777</td>\n",
       "    </tr>\n",
       "    <tr>\n",
       "      <th>3</th>\n",
       "      <td>InteligÃªncia artificial</td>\n",
       "      <td>ProgramaÃ§Ã£o</td>\n",
       "      <td>40 horas</td>\n",
       "      <td></td>\n",
       "      <td>2022-04-01</td>\n",
       "      <td></td>\n",
       "      <td>Curso avanÃ§ado sobre inteligÃªncia artificial...</td>\n",
       "      <td>129.9</td>\n",
       "      <td></td>\n",
       "      <td>contato@emailaleatorio.com</td>\n",
       "      <td></td>\n",
       "    </tr>\n",
       "    <tr>\n",
       "      <th>4</th>\n",
       "      <td>InglÃªs para negÃ³cios</td>\n",
       "      <td>Idiomas</td>\n",
       "      <td>20 horas</td>\n",
       "      <td>30</td>\n",
       "      <td></td>\n",
       "      <td></td>\n",
       "      <td>Curso de inglÃªs para negÃ³cios</td>\n",
       "      <td>69.9</td>\n",
       "      <td>John Smith</td>\n",
       "      <td></td>\n",
       "      <td></td>\n",
       "    </tr>\n",
       "    <tr>\n",
       "      <th>5</th>\n",
       "      <td>IntroduÃ§Ã£o Ã  programaÃ§Ã£o</td>\n",
       "      <td>ProgramaÃ§Ã£o</td>\n",
       "      <td>20 horas</td>\n",
       "      <td>100</td>\n",
       "      <td>2022-01-01</td>\n",
       "      <td>2022-01-20</td>\n",
       "      <td>Curso introdutÃ³rio Ã  programaÃ§Ã£o com Python</td>\n",
       "      <td>99.90</td>\n",
       "      <td>JoÃ£o Silva</td>\n",
       "      <td>joao.silva@emailaleatorio.com</td>\n",
       "      <td>(11) 9999-9999</td>\n",
       "    </tr>\n",
       "  </tbody>\n",
       "</table>\n",
       "</div>"
      ],
      "text/plain": [
       "                              curso      categoria carga_horaria concluintes  \\\n",
       "0     IntroduÃ§Ã£o Ã  programaÃ§Ã£o  ProgramaÃ§Ã£o      20 horas         100   \n",
       "1             Excel para iniciantes  Produtividade          None        None   \n",
       "2  Marketing digital para negÃ³cios      Marketing      30 horas          75   \n",
       "3          InteligÃªncia artificial  ProgramaÃ§Ã£o      40 horas               \n",
       "4            InglÃªs para negÃ³cios        Idiomas      20 horas          30   \n",
       "5     IntroduÃ§Ã£o Ã  programaÃ§Ã£o  ProgramaÃ§Ã£o      20 horas         100   \n",
       "\n",
       "  data_inicio data_conclusao  \\\n",
       "0  2022-01-01     2022-01-20   \n",
       "1        None           None   \n",
       "2  2022-03-01     2022-03-31   \n",
       "3  2022-04-01                  \n",
       "4                              \n",
       "5  2022-01-01     2022-01-20   \n",
       "\n",
       "                                           descricao  preco  instrutor.nome  \\\n",
       "0    Curso introdutÃ³rio Ã  programaÃ§Ã£o com Python  99.90     JoÃ£o Silva   \n",
       "1                                               None   None  Maria Oliveira   \n",
       "2                   Curso introdutÃ³rio em marketing   89.9      Ana Santos   \n",
       "3  Curso avanÃ§ado sobre inteligÃªncia artificial...  129.9                   \n",
       "4                    Curso de inglÃªs para negÃ³cios   69.9      John Smith   \n",
       "5    Curso introdutÃ³rio Ã  programaÃ§Ã£o com Python  99.90     JoÃ£o Silva   \n",
       "\n",
       "                     instrutor.email instrutor.telefone  \n",
       "0      joao.silva@emailaleatorio.com     (11) 9999-9999  \n",
       "1  maria.oliveira@emailaleatorio.com     (11) 8888-8888  \n",
       "2      ana.santos@emailaleatorio.com     (11) 7777-7777  \n",
       "3         contato@emailaleatorio.com                     \n",
       "4                                                        \n",
       "5      joao.silva@emailaleatorio.com     (11) 9999-9999  "
      ]
     },
     "execution_count": 23,
     "metadata": {},
     "output_type": "execute_result"
    }
   ],
   "source": [
    "import pandas as pd\n",
    "import json\n",
    "\n",
    "with open('cursos_cadastrados.json', 'r') as f:\n",
    "    data = json.load(f)\n",
    "\n",
    "df = pd.json_normalize(data)\n",
    "df"
   ]
  },
  {
   "cell_type": "code",
   "execution_count": 24,
   "metadata": {},
   "outputs": [
    {
     "data": {
      "text/plain": [
       "6"
      ]
     },
     "execution_count": 24,
     "metadata": {},
     "output_type": "execute_result"
    }
   ],
   "source": [
    "df.isnull().sum().sum()"
   ]
  },
  {
   "cell_type": "code",
   "execution_count": 25,
   "metadata": {},
   "outputs": [
    {
     "data": {
      "text/html": [
       "<div>\n",
       "<style scoped>\n",
       "    .dataframe tbody tr th:only-of-type {\n",
       "        vertical-align: middle;\n",
       "    }\n",
       "\n",
       "    .dataframe tbody tr th {\n",
       "        vertical-align: top;\n",
       "    }\n",
       "\n",
       "    .dataframe thead th {\n",
       "        text-align: right;\n",
       "    }\n",
       "</style>\n",
       "<table border=\"1\" class=\"dataframe\">\n",
       "  <thead>\n",
       "    <tr style=\"text-align: right;\">\n",
       "      <th></th>\n",
       "      <th>curso</th>\n",
       "      <th>categoria</th>\n",
       "      <th>carga_horaria</th>\n",
       "      <th>concluintes</th>\n",
       "      <th>data_inicio</th>\n",
       "      <th>data_conclusao</th>\n",
       "      <th>descricao</th>\n",
       "      <th>preco</th>\n",
       "      <th>instrutor.nome</th>\n",
       "      <th>instrutor.email</th>\n",
       "      <th>instrutor.telefone</th>\n",
       "    </tr>\n",
       "  </thead>\n",
       "  <tbody>\n",
       "    <tr>\n",
       "      <th>1</th>\n",
       "      <td>Excel para iniciantes</td>\n",
       "      <td>Produtividade</td>\n",
       "      <td>None</td>\n",
       "      <td>None</td>\n",
       "      <td>None</td>\n",
       "      <td>None</td>\n",
       "      <td>None</td>\n",
       "      <td>None</td>\n",
       "      <td>Maria Oliveira</td>\n",
       "      <td>maria.oliveira@emailaleatorio.com</td>\n",
       "      <td>(11) 8888-8888</td>\n",
       "    </tr>\n",
       "  </tbody>\n",
       "</table>\n",
       "</div>"
      ],
      "text/plain": [
       "                   curso      categoria carga_horaria concluintes data_inicio  \\\n",
       "1  Excel para iniciantes  Produtividade          None        None        None   \n",
       "\n",
       "  data_conclusao descricao preco  instrutor.nome  \\\n",
       "1           None      None  None  Maria Oliveira   \n",
       "\n",
       "                     instrutor.email instrutor.telefone  \n",
       "1  maria.oliveira@emailaleatorio.com     (11) 8888-8888  "
      ]
     },
     "execution_count": 25,
     "metadata": {},
     "output_type": "execute_result"
    }
   ],
   "source": [
    "df[df.isna().any(axis=1)]"
   ]
  },
  {
   "cell_type": "code",
   "execution_count": 26,
   "metadata": {},
   "outputs": [],
   "source": [
    "df.dropna(inplace=True)"
   ]
  },
  {
   "cell_type": "code",
   "execution_count": 27,
   "metadata": {},
   "outputs": [
    {
     "data": {
      "text/plain": [
       "0    False\n",
       "2    False\n",
       "3    False\n",
       "4    False\n",
       "5     True\n",
       "dtype: bool"
      ]
     },
     "execution_count": 27,
     "metadata": {},
     "output_type": "execute_result"
    }
   ],
   "source": [
    "df.duplicated()"
   ]
  },
  {
   "cell_type": "code",
   "execution_count": 28,
   "metadata": {},
   "outputs": [],
   "source": [
    "df.drop_duplicates(inplace=True)"
   ]
  },
  {
   "cell_type": "code",
   "execution_count": 29,
   "metadata": {},
   "outputs": [
    {
     "data": {
      "text/html": [
       "<div>\n",
       "<style scoped>\n",
       "    .dataframe tbody tr th:only-of-type {\n",
       "        vertical-align: middle;\n",
       "    }\n",
       "\n",
       "    .dataframe tbody tr th {\n",
       "        vertical-align: top;\n",
       "    }\n",
       "\n",
       "    .dataframe thead th {\n",
       "        text-align: right;\n",
       "    }\n",
       "</style>\n",
       "<table border=\"1\" class=\"dataframe\">\n",
       "  <thead>\n",
       "    <tr style=\"text-align: right;\">\n",
       "      <th></th>\n",
       "      <th>curso</th>\n",
       "      <th>categoria</th>\n",
       "      <th>carga_horaria</th>\n",
       "      <th>concluintes</th>\n",
       "      <th>data_inicio</th>\n",
       "      <th>data_conclusao</th>\n",
       "      <th>descricao</th>\n",
       "      <th>preco</th>\n",
       "      <th>instrutor.nome</th>\n",
       "      <th>instrutor.email</th>\n",
       "      <th>instrutor.telefone</th>\n",
       "    </tr>\n",
       "  </thead>\n",
       "  <tbody>\n",
       "    <tr>\n",
       "      <th>3</th>\n",
       "      <td>InteligÃªncia artificial</td>\n",
       "      <td>ProgramaÃ§Ã£o</td>\n",
       "      <td>40 horas</td>\n",
       "      <td></td>\n",
       "      <td>2022-04-01</td>\n",
       "      <td></td>\n",
       "      <td>Curso avanÃ§ado sobre inteligÃªncia artificial...</td>\n",
       "      <td>129.9</td>\n",
       "      <td></td>\n",
       "      <td>contato@emailaleatorio.com</td>\n",
       "      <td></td>\n",
       "    </tr>\n",
       "  </tbody>\n",
       "</table>\n",
       "</div>"
      ],
      "text/plain": [
       "                      curso      categoria carga_horaria concluintes  \\\n",
       "3  InteligÃªncia artificial  ProgramaÃ§Ã£o      40 horas               \n",
       "\n",
       "  data_inicio data_conclusao  \\\n",
       "3  2022-04-01                  \n",
       "\n",
       "                                           descricao  preco instrutor.nome  \\\n",
       "3  Curso avanÃ§ado sobre inteligÃªncia artificial...  129.9                  \n",
       "\n",
       "              instrutor.email instrutor.telefone  \n",
       "3  contato@emailaleatorio.com                     "
      ]
     },
     "execution_count": 29,
     "metadata": {},
     "output_type": "execute_result"
    }
   ],
   "source": [
    "df[df['instrutor.nome'] == \"\"]"
   ]
  },
  {
   "cell_type": "code",
   "execution_count": 30,
   "metadata": {},
   "outputs": [
    {
     "data": {
      "text/html": [
       "<div>\n",
       "<style scoped>\n",
       "    .dataframe tbody tr th:only-of-type {\n",
       "        vertical-align: middle;\n",
       "    }\n",
       "\n",
       "    .dataframe tbody tr th {\n",
       "        vertical-align: top;\n",
       "    }\n",
       "\n",
       "    .dataframe thead th {\n",
       "        text-align: right;\n",
       "    }\n",
       "</style>\n",
       "<table border=\"1\" class=\"dataframe\">\n",
       "  <thead>\n",
       "    <tr style=\"text-align: right;\">\n",
       "      <th></th>\n",
       "      <th>curso</th>\n",
       "      <th>categoria</th>\n",
       "      <th>carga_horaria</th>\n",
       "      <th>concluintes</th>\n",
       "      <th>data_inicio</th>\n",
       "      <th>data_conclusao</th>\n",
       "      <th>descricao</th>\n",
       "      <th>preco</th>\n",
       "      <th>instrutor.nome</th>\n",
       "      <th>instrutor.email</th>\n",
       "      <th>instrutor.telefone</th>\n",
       "    </tr>\n",
       "  </thead>\n",
       "  <tbody>\n",
       "    <tr>\n",
       "      <th>3</th>\n",
       "      <td>InteligÃªncia artificial</td>\n",
       "      <td>ProgramaÃ§Ã£o</td>\n",
       "      <td>40 horas</td>\n",
       "      <td></td>\n",
       "      <td>2022-04-01</td>\n",
       "      <td></td>\n",
       "      <td>Curso avanÃ§ado sobre inteligÃªncia artificial...</td>\n",
       "      <td>129.9</td>\n",
       "      <td></td>\n",
       "      <td>contato@emailaleatorio.com</td>\n",
       "      <td></td>\n",
       "    </tr>\n",
       "    <tr>\n",
       "      <th>4</th>\n",
       "      <td>InglÃªs para negÃ³cios</td>\n",
       "      <td>Idiomas</td>\n",
       "      <td>20 horas</td>\n",
       "      <td>30</td>\n",
       "      <td></td>\n",
       "      <td></td>\n",
       "      <td>Curso de inglÃªs para negÃ³cios</td>\n",
       "      <td>69.9</td>\n",
       "      <td>John Smith</td>\n",
       "      <td></td>\n",
       "      <td></td>\n",
       "    </tr>\n",
       "  </tbody>\n",
       "</table>\n",
       "</div>"
      ],
      "text/plain": [
       "                      curso      categoria carga_horaria concluintes  \\\n",
       "3  InteligÃªncia artificial  ProgramaÃ§Ã£o      40 horas               \n",
       "4    InglÃªs para negÃ³cios        Idiomas      20 horas          30   \n",
       "\n",
       "  data_inicio data_conclusao  \\\n",
       "3  2022-04-01                  \n",
       "4                              \n",
       "\n",
       "                                           descricao  preco instrutor.nome  \\\n",
       "3  Curso avanÃ§ado sobre inteligÃªncia artificial...  129.9                  \n",
       "4                    Curso de inglÃªs para negÃ³cios   69.9     John Smith   \n",
       "\n",
       "              instrutor.email instrutor.telefone  \n",
       "3  contato@emailaleatorio.com                     \n",
       "4                                                 "
      ]
     },
     "execution_count": 30,
     "metadata": {},
     "output_type": "execute_result"
    }
   ],
   "source": [
    "df[df['data_conclusao'] == \"\"]"
   ]
  },
  {
   "cell_type": "code",
   "execution_count": 31,
   "metadata": {},
   "outputs": [],
   "source": [
    "# Substitui strings vazias por valores nulos\n",
    "df.replace('', pd.NA, inplace=True)"
   ]
  },
  {
   "cell_type": "code",
   "execution_count": 33,
   "metadata": {},
   "outputs": [
    {
     "data": {
      "text/html": [
       "<div>\n",
       "<style scoped>\n",
       "    .dataframe tbody tr th:only-of-type {\n",
       "        vertical-align: middle;\n",
       "    }\n",
       "\n",
       "    .dataframe tbody tr th {\n",
       "        vertical-align: top;\n",
       "    }\n",
       "\n",
       "    .dataframe thead th {\n",
       "        text-align: right;\n",
       "    }\n",
       "</style>\n",
       "<table border=\"1\" class=\"dataframe\">\n",
       "  <thead>\n",
       "    <tr style=\"text-align: right;\">\n",
       "      <th></th>\n",
       "      <th>curso</th>\n",
       "      <th>categoria</th>\n",
       "      <th>carga_horaria</th>\n",
       "      <th>concluintes</th>\n",
       "      <th>data_inicio</th>\n",
       "      <th>data_conclusao</th>\n",
       "      <th>descricao</th>\n",
       "      <th>preco</th>\n",
       "      <th>instrutor.nome</th>\n",
       "      <th>instrutor.email</th>\n",
       "      <th>instrutor.telefone</th>\n",
       "    </tr>\n",
       "  </thead>\n",
       "  <tbody>\n",
       "    <tr>\n",
       "      <th>0</th>\n",
       "      <td>IntroduÃ§Ã£o Ã  programaÃ§Ã£o</td>\n",
       "      <td>ProgramaÃ§Ã£o</td>\n",
       "      <td>20 horas</td>\n",
       "      <td>100</td>\n",
       "      <td>2022-01-01</td>\n",
       "      <td>2022-01-20</td>\n",
       "      <td>Curso introdutÃ³rio Ã  programaÃ§Ã£o com Python</td>\n",
       "      <td>99.90</td>\n",
       "      <td>JoÃ£o Silva</td>\n",
       "      <td>joao.silva@emailaleatorio.com</td>\n",
       "      <td>(11) 9999-9999</td>\n",
       "    </tr>\n",
       "    <tr>\n",
       "      <th>2</th>\n",
       "      <td>Marketing digital para negÃ³cios</td>\n",
       "      <td>Marketing</td>\n",
       "      <td>30 horas</td>\n",
       "      <td>75</td>\n",
       "      <td>2022-03-01</td>\n",
       "      <td>2022-03-31</td>\n",
       "      <td>Curso introdutÃ³rio em marketing</td>\n",
       "      <td>89.9</td>\n",
       "      <td>Ana Santos</td>\n",
       "      <td>ana.santos@emailaleatorio.com</td>\n",
       "      <td>(11) 7777-7777</td>\n",
       "    </tr>\n",
       "  </tbody>\n",
       "</table>\n",
       "</div>"
      ],
      "text/plain": [
       "                              curso      categoria carga_horaria concluintes  \\\n",
       "0     IntroduÃ§Ã£o Ã  programaÃ§Ã£o  ProgramaÃ§Ã£o      20 horas         100   \n",
       "2  Marketing digital para negÃ³cios      Marketing      30 horas          75   \n",
       "\n",
       "  data_inicio data_conclusao                                        descricao  \\\n",
       "0  2022-01-01     2022-01-20  Curso introdutÃ³rio Ã  programaÃ§Ã£o com Python   \n",
       "2  2022-03-01     2022-03-31                 Curso introdutÃ³rio em marketing   \n",
       "\n",
       "   preco instrutor.nome                instrutor.email instrutor.telefone  \n",
       "0  99.90    JoÃ£o Silva  joao.silva@emailaleatorio.com     (11) 9999-9999  \n",
       "2   89.9     Ana Santos  ana.santos@emailaleatorio.com     (11) 7777-7777  "
      ]
     },
     "execution_count": 33,
     "metadata": {},
     "output_type": "execute_result"
    }
   ],
   "source": [
    "df.dropna(inplace=True)\n",
    "df"
   ]
  },
  {
   "cell_type": "code",
   "execution_count": 34,
   "metadata": {},
   "outputs": [
    {
     "name": "stdout",
     "output_type": "stream",
     "text": [
      "<class 'pandas.core.frame.DataFrame'>\n",
      "Int64Index: 2 entries, 0 to 2\n",
      "Data columns (total 11 columns):\n",
      " #   Column              Non-Null Count  Dtype \n",
      "---  ------              --------------  ----- \n",
      " 0   curso               2 non-null      object\n",
      " 1   categoria           2 non-null      object\n",
      " 2   carga_horaria       2 non-null      object\n",
      " 3   concluintes         2 non-null      object\n",
      " 4   data_inicio         2 non-null      object\n",
      " 5   data_conclusao      2 non-null      object\n",
      " 6   descricao           2 non-null      object\n",
      " 7   preco               2 non-null      object\n",
      " 8   instrutor.nome      2 non-null      object\n",
      " 9   instrutor.email     2 non-null      object\n",
      " 10  instrutor.telefone  2 non-null      object\n",
      "dtypes: object(11)\n",
      "memory usage: 192.0+ bytes\n"
     ]
    }
   ],
   "source": [
    "df.info()"
   ]
  },
  {
   "cell_type": "code",
   "execution_count": 35,
   "metadata": {},
   "outputs": [],
   "source": [
    "df['concluintes'] = df['concluintes'].astype(int)\n",
    "df['data_inicio'] = pd.to_datetime(df['data_inicio'])\n",
    "df['data_conclusao'] = pd.to_datetime(df['data_conclusao'])\n",
    "df['preco'] = df['preco'].astype(float)"
   ]
  },
  {
   "cell_type": "code",
   "execution_count": 36,
   "metadata": {},
   "outputs": [
    {
     "name": "stdout",
     "output_type": "stream",
     "text": [
      "<class 'pandas.core.frame.DataFrame'>\n",
      "Int64Index: 2 entries, 0 to 2\n",
      "Data columns (total 11 columns):\n",
      " #   Column              Non-Null Count  Dtype         \n",
      "---  ------              --------------  -----         \n",
      " 0   curso               2 non-null      object        \n",
      " 1   categoria           2 non-null      object        \n",
      " 2   carga_horaria       2 non-null      object        \n",
      " 3   concluintes         2 non-null      int32         \n",
      " 4   data_inicio         2 non-null      datetime64[ns]\n",
      " 5   data_conclusao      2 non-null      datetime64[ns]\n",
      " 6   descricao           2 non-null      object        \n",
      " 7   preco               2 non-null      float64       \n",
      " 8   instrutor.nome      2 non-null      object        \n",
      " 9   instrutor.email     2 non-null      object        \n",
      " 10  instrutor.telefone  2 non-null      object        \n",
      "dtypes: datetime64[ns](2), float64(1), int32(1), object(7)\n",
      "memory usage: 184.0+ bytes\n"
     ]
    }
   ],
   "source": [
    "df.info()"
   ]
  },
  {
   "cell_type": "markdown",
   "metadata": {},
   "source": [
    "## Desafio 3\n",
    "\n",
    "Você trabalha em um banco como cientista de dados e recebeu o seguinte conjunto de dados para analisar:"
   ]
  },
  {
   "cell_type": "code",
   "execution_count": 37,
   "metadata": {},
   "outputs": [],
   "source": [
    "import pandas as pd\n",
    "\n",
    "# criando um DataFrame com 30 transações aleatórias\n",
    "df = pd.DataFrame({\n",
    "    'ID da transação': range(1, 31),\n",
    "    'Valor da transação': [100, 200, 150, 500, 300, 913, 250, 400, 200, 150, \n",
    "                           200, 200, 400, 300, 150, 301, 805, 300, 400, 250, \n",
    "                           150, 100, 500, 600, 200, 350, 100, 250, 800, 250],\n",
    "    'Data da transação': pd.date_range(start='2022-01-01', end='2022-01-30', freq='D'),\n",
    "    'Local da transação': ['São Paulo, Brasil', 'Rio de Janeiro, Brasil', 'Belo Horizonte, Brasil', 'São Paulo, Brasil', \n",
    "                           'São Paulo, Brasil', 'Nova Iorque, EUA', 'São Paulo, Brasil', 'São Paulo, Brasil', 'São Paulo, Brasil',\n",
    "                           'Rio de Janeiro, Brasil', 'São Paulo, Brasil', 'São Paulo, Brasil', 'São Paulo, Brasil', 'São Paulo, Brasil',\n",
    "                           'São Paulo, Brasil', 'São Paulo, Brasil', 'Los Angeles, EUA', 'São Paulo, Brasil', 'São Paulo, Brasil', 'São Paulo, Brasil',\n",
    "                           'São Paulo, Brasil', 'São Paulo, Brasil', 'São Paulo, Brasil', 'São Paulo, Brasil', 'São Paulo, Brasil', 'São Paulo, Brasil',\n",
    "                           'São Paulo, Brasil', 'São Paulo, Brasil', 'Miami, EUA', 'São Paulo, Brasil']\n",
    "})"
   ]
  },
  {
   "cell_type": "markdown",
   "metadata": {},
   "source": [
    "Foi informado que nessa base de dados há possíveis fraudes que podem ser identificadas através dos outliers no “valor da transação”. Basicamente a fraude seria um outlier.\n",
    "\n",
    "Sua missão é construir uma função que recebe dois parâmetros, a coluna que você quer analisar se tem outlier e o DataFrame em questão. A intenção de fazer isso é aproveitar novamente essa função tanto para outras colunas quanto para outros DataFrames futuramente em outras análises. O método que deve ser implementado para identificação do outlier é do intervalo interquartil.\n",
    "\n",
    "Como podemos fazer isso?"
   ]
  },
  {
   "cell_type": "code",
   "execution_count": 38,
   "metadata": {},
   "outputs": [],
   "source": [
    "def calc_outliers(column, dataframe): \n",
    "\n",
    "  # calculando o IQR e definindo o limite para outliers\n",
    "  Q1 = dataframe[column].quantile(0.25)\n",
    "  Q3 = dataframe[column].quantile(0.75)\n",
    "  IQR = Q3 - Q1\n",
    "  limite_inferior = Q1 - 1.5 * IQR\n",
    "  limite_superior = Q3 + 1.5 * IQR\n",
    "\n",
    "  # identificando os outliers\n",
    "  outliers = dataframe[(dataframe[column] < limite_inferior) | (dataframe[column] > limite_superior)]\n",
    "\n",
    "  # retornando os outliers\n",
    "  return outliers"
   ]
  },
  {
   "cell_type": "code",
   "execution_count": 40,
   "metadata": {},
   "outputs": [
    {
     "data": {
      "text/html": [
       "<div>\n",
       "<style scoped>\n",
       "    .dataframe tbody tr th:only-of-type {\n",
       "        vertical-align: middle;\n",
       "    }\n",
       "\n",
       "    .dataframe tbody tr th {\n",
       "        vertical-align: top;\n",
       "    }\n",
       "\n",
       "    .dataframe thead th {\n",
       "        text-align: right;\n",
       "    }\n",
       "</style>\n",
       "<table border=\"1\" class=\"dataframe\">\n",
       "  <thead>\n",
       "    <tr style=\"text-align: right;\">\n",
       "      <th></th>\n",
       "      <th>ID da transação</th>\n",
       "      <th>Valor da transação</th>\n",
       "      <th>Data da transação</th>\n",
       "      <th>Local da transação</th>\n",
       "    </tr>\n",
       "  </thead>\n",
       "  <tbody>\n",
       "    <tr>\n",
       "      <th>5</th>\n",
       "      <td>6</td>\n",
       "      <td>913</td>\n",
       "      <td>2022-01-06</td>\n",
       "      <td>Nova Iorque, EUA</td>\n",
       "    </tr>\n",
       "    <tr>\n",
       "      <th>16</th>\n",
       "      <td>17</td>\n",
       "      <td>805</td>\n",
       "      <td>2022-01-17</td>\n",
       "      <td>Los Angeles, EUA</td>\n",
       "    </tr>\n",
       "    <tr>\n",
       "      <th>28</th>\n",
       "      <td>29</td>\n",
       "      <td>800</td>\n",
       "      <td>2022-01-29</td>\n",
       "      <td>Miami, EUA</td>\n",
       "    </tr>\n",
       "  </tbody>\n",
       "</table>\n",
       "</div>"
      ],
      "text/plain": [
       "    ID da transação  Valor da transação Data da transação Local da transação\n",
       "5                 6                 913        2022-01-06   Nova Iorque, EUA\n",
       "16               17                 805        2022-01-17   Los Angeles, EUA\n",
       "28               29                 800        2022-01-29         Miami, EUA"
      ]
     },
     "execution_count": 40,
     "metadata": {},
     "output_type": "execute_result"
    }
   ],
   "source": [
    "calc_outliers('Valor da transação', df)"
   ]
  }
 ],
 "metadata": {
  "kernelspec": {
   "display_name": "Python 3",
   "language": "python",
   "name": "python3"
  },
  "language_info": {
   "codemirror_mode": {
    "name": "ipython",
    "version": 3
   },
   "file_extension": ".py",
   "mimetype": "text/x-python",
   "name": "python",
   "nbconvert_exporter": "python",
   "pygments_lexer": "ipython3",
   "version": "3.7.6"
  }
 },
 "nbformat": 4,
 "nbformat_minor": 2
}
