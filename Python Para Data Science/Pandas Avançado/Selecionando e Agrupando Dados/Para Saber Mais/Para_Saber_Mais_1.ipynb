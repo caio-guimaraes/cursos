{
 "cells": [
  {
   "cell_type": "markdown",
   "metadata": {},
   "source": [
    "# Para saber mais: removendo uma coluna\n",
    "\n",
    "Para removermos dados de um DataFrame, podemos utilizar o método ```drop()```. Ele permite a remoção tanto de linhas quanto de colunas, com a utilização dos respectivos parâmetros ```index``` e ```columns``` ou do parâmetro ```axis``` que indicam os índices (linhas) pelo valor 0 e colunas pelo valor 1.\n",
    "\n",
    "Esse método pode remover mais de um elemento de uma só vez se for passado como uma lista e gera uma cópia do DataFrame como resultado com as colunas removidas. O DataFrame original não é modificado e caso seja o desejo manter as alterações, é necessário armazenar a cópia na mesma variável ou usar o parâmetro ```inplace=True```. É um método muito completo e útil.\n",
    "\n",
    "Mas existe uma outra forma de remover dados com a biblioteca pandas: o método ```pop()```. Ele não é tão completo como o ```drop()``` e só é possível remover colunas do DataFrame e apenas uma por vez.\n",
    "\n",
    "Além disso, diferente do método ```drop()```, não é necessário fazer a atribuição do DataFrame na mesma variável, porque o ```pop()``` remove a coluna no DataFrame original.\n",
    "\n",
    "O código para utilizar o método ```pop()``` é o seguinte:"
   ]
  },
  {
   "cell_type": "code",
   "execution_count": null,
   "metadata": {},
   "outputs": [],
   "source": [
    "dataframe.pop(nome_coluna)"
   ]
  },
  {
   "cell_type": "markdown",
   "metadata": {},
   "source": [
    "O método ```pop()``` também retorna a coluna que está sendo removida, portanto, caso a coluna seja utilizada posteriormente em alguma análise, é possível armazená-la em uma variável na mesma linha de código:"
   ]
  },
  {
   "cell_type": "code",
   "execution_count": null,
   "metadata": {},
   "outputs": [],
   "source": [
    "coluna_removida = dataframe.pop(nome_coluna)"
   ]
  }
 ],
 "metadata": {
  "language_info": {
   "name": "python"
  }
 },
 "nbformat": 4,
 "nbformat_minor": 2
}
