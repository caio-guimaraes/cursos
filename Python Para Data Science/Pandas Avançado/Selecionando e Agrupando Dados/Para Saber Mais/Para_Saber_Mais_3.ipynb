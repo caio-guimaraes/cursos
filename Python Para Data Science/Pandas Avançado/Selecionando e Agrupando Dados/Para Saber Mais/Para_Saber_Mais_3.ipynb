{
 "cells": [
  {
   "cell_type": "markdown",
   "metadata": {},
   "source": [
    "# Para saber mais: como funciona o groupby\n",
    "\n",
    "O agrupamento de dados é uma aplicação muito utilizada para encontrar medidas resumidas e ter um entendimento maior dos dados. Com a biblioteca pandas, é possível utilizar o método groupby, que é um processo que ocorre através de diferentes etapas conhecidas como split-apply-combine ou dividir, aplicar e combinar, em português.\n",
    "\n",
    "A etapa \"dividir\" consiste basicamente em separar o conjunto de dados em diferentes tabelas, uma para cada grupo. Os grupos são gerados a partir das categorias de uma ou mais colunas da tabela com base na informação que desejamos agrupar. Nesta etapa, podemos visualizar os grupos formados com o atributo groups e visualizar os dados de um grupo específico a partir do método get_group().\n",
    "\n",
    "Já a etapa \"aplicar\" se refere ao momento de utilizar uma função matemática nos dados de cada grupo separadamente. Se o desejo for encontrar o valor total de cada grupo, então a soma será aplicada a cada grupo; se quisermos o valor médio, a função média será aplicada a cada grupo, e assim por diante. Existem diversas funções que podem ser aplicadas e cada uma dependerá do objetivo de análise dos dados:\n",
    "* mean() : calcula a média dos grupos\n",
    "* sum() : calcula a soma dos valores do grupo\n",
    "* size() : calcula tamanhos de grupo\n",
    "* count() : calcula a contagem do grupo\n",
    "* std() : desvio padrão de grupos\n",
    "* var() : calcula a variação de grupos\n",
    "* sem() : erro padrão da média dos grupos\n",
    "* describe() : gera estatísticas descritivas\n",
    "* first() : calcula o primeiro dos valores do grupo\n",
    "* last() : calcula o último dos valores do grupo\n",
    "* nth() : pega o n-ésimo valor do grupo\n",
    "* min() : calcula o mínimo de valores do grupo\n",
    "* max() : calcula o máximo de valores do grupo\n",
    "\n",
    "Por fim, a etapa \"combinar\" consiste em juntar todas as informações de agregação de cada grupo em uma única tabela, contendo o resumo das informações. A partir dela e com o resultado final, é possível extrair insights a partir dos dados e fazer comparações dos resultados entre cada grupo."
   ]
  }
 ],
 "metadata": {
  "language_info": {
   "name": "python"
  }
 },
 "nbformat": 4,
 "nbformat_minor": 2
}
