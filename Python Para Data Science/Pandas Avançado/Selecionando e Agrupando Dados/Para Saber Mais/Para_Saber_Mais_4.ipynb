{
 "cells": [
  {
   "cell_type": "markdown",
   "metadata": {},
   "source": [
    "# Para saber mais: métodos de junção\n",
    "A biblioteca ```pandas``` oferece várias ferramentas para trabalhar com DataFrames, incluindo a capacidade de combinar, juntar e mesclá-los. Essas operações são úteis para combinar dados de diferentes fontes em um único DataFrame. Existem três principais métodos de união de DataFrames em pandas: concat, join e merge.\n",
    "\n",
    "## Concatenação (concat)\n",
    "A concatenação é um método simples para combinar DataFrames, no qual suas colunas e índices são mantidos e os valores são simplesmente concatenados uns sobre os outros. O método ```concat()``` permite que você concatene DataFrames verticalmente (um acima do outro) ou horizontalmente (lado a lado).\n",
    "\n",
    "A sintaxe básica para usar o método concat é a seguinte:"
   ]
  },
  {
   "cell_type": "code",
   "execution_count": null,
   "metadata": {},
   "outputs": [],
   "source": [
    "pd.concat([dataframe1, dataframe2, ...], axis=0/1)"
   ]
  },
  {
   "cell_type": "markdown",
   "metadata": {},
   "source": [
    "No qual, ```axis``` é o eixo do qual a concatenação vai acontecer. Se ```axis=0```, a concatenação ocorre ao longo do eixo vertical (empilhamento). Se ```axis=1```, a concatenação ocorre ao longo do eixo horizontal (lado a lado).\n",
    "\n",
    "## Join\n",
    "O método ```join``` é usado para unir dois DataFrames com base em suas colunas de índice ou uma coluna de nome especificada. Ele pode ser usado para unir DataFrames com as mesmas colunas ou com colunas diferentes.\n",
    "\n",
    "Os dois DataFrames precisam ter uma coluna com nome em comum ou possuírem os índices contendo o mesmo tipo de informação, caso a união ocorra pelo índice e não usando alguma coluna. A sintaxe básica para usar o método join é a seguinte:"
   ]
  },
  {
   "cell_type": "code",
   "execution_count": null,
   "metadata": {},
   "outputs": [],
   "source": [
    "dataframe1.join(dataframe2, on='nome_coluna', how='left')"
   ]
  },
  {
   "cell_type": "markdown",
   "metadata": {},
   "source": [
    "\n",
    "No qual ```on``` é o nome da coluna em comum entre os dois DataFrames usada como chave de junção. Caso não seja utilizado nenhum valor, a união será feita com base nos índices dos DataFrames. O parâmetro ```how``` é o tipo de junção a ser realizada, podendo ser 'left', 'right', 'inner', 'outer'.\n",
    "\n",
    "## Merge\n",
    "O método ```merge``` é o método mais completo para unir dois DataFrames com base em seus índices ou em colunas de ligação. A sintaxe básica para usar o método merge é a seguinte:"
   ]
  },
  {
   "cell_type": "code",
   "execution_count": null,
   "metadata": {},
   "outputs": [],
   "source": [
    "dataframe1.merge(dataframe2, on=None, how='inner', left_on='nome_coluna_dataframe1', right_on='nome_coluna_dataframe2')"
   ]
  },
  {
   "cell_type": "markdown",
   "metadata": {},
   "source": [
    "Nela, o ```on``` é o nome da coluna nos dois DataFrames, caso seja o mesmo nome. O parâmetro how é o tipo de junção a ser realizada, podendo ser 'left', 'right', 'inner', 'outer' e 'cross'. Os parâmetros ```left_on``` e ```right_on``` são respectivamente os nomes das colunas do DataFrame 1 e DataFrame 2, caso tenham nomes diferentes."
   ]
  }
 ],
 "metadata": {
  "language_info": {
   "name": "python"
  }
 },
 "nbformat": 4,
 "nbformat_minor": 2
}
