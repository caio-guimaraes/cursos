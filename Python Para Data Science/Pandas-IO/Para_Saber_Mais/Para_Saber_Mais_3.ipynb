{
 "cells": [
  {
   "cell_type": "markdown",
   "metadata": {},
   "source": [
    "# Para saber mais: aprofundando na normalização\n",
    "\n",
    "Normalização de dados é um processo importante em ciência de dados que tem como objetivo organizar e padronizar dados para facilitar a análise e comparação entre eles. Quando se trata de dados no formato JSON (JavaScript Object Notation - Notação de Objetos JavaScript), é comum que eles estejam aninhados, o que pode dificultar sua análise e manipulação.\n",
    "\n",
    "A biblioteca Pandas possui uma função chamada json_normalize() que permite a transformação dos dados em um formato tabular, facilitando a visualização e análise das informações. A seguir vamos aprender como usar essa função para normalizar diferentes tipos de JSON em DataFrames.\n",
    "\n",
    "## Normalizando um JSON simples\n",
    "Abaixo temos uma variável chamada dados e dentro dela há um objeto JSON com três chaves e seus respectivos valores:"
   ]
  },
  {
   "cell_type": "code",
   "execution_count": 3,
   "metadata": {},
   "outputs": [],
   "source": [
    "import pandas as pd\n",
    "dados = {'Pesquisa': 'Principais Indicadores de Doenca Cardiaca', 'Ano': 2020, 'Numero_Pacientes':3}"
   ]
  },
  {
   "cell_type": "markdown",
   "metadata": {},
   "source": [
    "Para normalizar essa variável, podemos passa-lá dentro da função ```json_normalize``` e analisar o DataFrame obtido:"
   ]
  },
  {
   "cell_type": "code",
   "execution_count": 4,
   "metadata": {},
   "outputs": [
    {
     "data": {
      "text/html": [
       "<div>\n",
       "<style scoped>\n",
       "    .dataframe tbody tr th:only-of-type {\n",
       "        vertical-align: middle;\n",
       "    }\n",
       "\n",
       "    .dataframe tbody tr th {\n",
       "        vertical-align: top;\n",
       "    }\n",
       "\n",
       "    .dataframe thead th {\n",
       "        text-align: right;\n",
       "    }\n",
       "</style>\n",
       "<table border=\"1\" class=\"dataframe\">\n",
       "  <thead>\n",
       "    <tr style=\"text-align: right;\">\n",
       "      <th></th>\n",
       "      <th>Pesquisa</th>\n",
       "      <th>Ano</th>\n",
       "      <th>Numero_Pacientes</th>\n",
       "    </tr>\n",
       "  </thead>\n",
       "  <tbody>\n",
       "    <tr>\n",
       "      <th>0</th>\n",
       "      <td>Principais Indicadores de Doenca Cardiaca</td>\n",
       "      <td>2020</td>\n",
       "      <td>3</td>\n",
       "    </tr>\n",
       "  </tbody>\n",
       "</table>\n",
       "</div>"
      ],
      "text/plain": [
       "                                    Pesquisa   Ano  Numero_Pacientes\n",
       "0  Principais Indicadores de Doenca Cardiaca  2020                 3"
      ]
     },
     "execution_count": 4,
     "metadata": {},
     "output_type": "execute_result"
    }
   ],
   "source": [
    "df = pd.json_normalize(dados)\n",
    "df"
   ]
  },
  {
   "cell_type": "markdown",
   "metadata": {},
   "source": [
    "O resultado parece ótimo! Temos 3 colunas que são as nossas chaves e uma linha contendo os valores para cada chave.\n",
    "\n",
    "## Normalizando um JSON com vários níveis\n",
    "Existem situações em que o arquivo JSON pode conter mais de um objeto, como é o caso do exemplo abaixo, no qual temos uma lista, armazenada na variável ```json_lista```, contendo **dois objetos JSON**:"
   ]
  },
  {
   "cell_type": "code",
   "execution_count": 5,
   "metadata": {},
   "outputs": [],
   "source": [
    "json_lista = [\n",
    "    { 'ID': '01', 'Faixa_etaria': '55-59', 'Sexo_biologico': 'feminino'},\n",
    "    { 'ID': '02', 'Faixa_etaria': '80 ou +', 'Sexo_biologico': 'feminino'}\n",
    "]"
   ]
  },
  {
   "cell_type": "markdown",
   "metadata": {},
   "source": [
    "Para normalizar essa lista podemos aplicar a função ```json_normalize```:"
   ]
  },
  {
   "cell_type": "code",
   "execution_count": 6,
   "metadata": {},
   "outputs": [
    {
     "data": {
      "text/html": [
       "<div>\n",
       "<style scoped>\n",
       "    .dataframe tbody tr th:only-of-type {\n",
       "        vertical-align: middle;\n",
       "    }\n",
       "\n",
       "    .dataframe tbody tr th {\n",
       "        vertical-align: top;\n",
       "    }\n",
       "\n",
       "    .dataframe thead th {\n",
       "        text-align: right;\n",
       "    }\n",
       "</style>\n",
       "<table border=\"1\" class=\"dataframe\">\n",
       "  <thead>\n",
       "    <tr style=\"text-align: right;\">\n",
       "      <th></th>\n",
       "      <th>ID</th>\n",
       "      <th>Faixa_etaria</th>\n",
       "      <th>Sexo_biologico</th>\n",
       "    </tr>\n",
       "  </thead>\n",
       "  <tbody>\n",
       "    <tr>\n",
       "      <th>0</th>\n",
       "      <td>01</td>\n",
       "      <td>55-59</td>\n",
       "      <td>feminino</td>\n",
       "    </tr>\n",
       "    <tr>\n",
       "      <th>1</th>\n",
       "      <td>02</td>\n",
       "      <td>80 ou +</td>\n",
       "      <td>feminino</td>\n",
       "    </tr>\n",
       "  </tbody>\n",
       "</table>\n",
       "</div>"
      ],
      "text/plain": [
       "   ID Faixa_etaria Sexo_biologico\n",
       "0  01        55-59       feminino\n",
       "1  02      80 ou +       feminino"
      ]
     },
     "execution_count": 6,
     "metadata": {},
     "output_type": "execute_result"
    }
   ],
   "source": [
    "pd.json_normalize(json_lista)"
   ]
  },
  {
   "cell_type": "markdown",
   "metadata": {},
   "source": [
    "A função ```json_normalize()``` é capaz de converter cada registro da lista em uma linha de forma tabular.\n",
    "\n",
    "## Normalizando um JSON com uma lista aninhada\n",
    "Bom, notamos que a função ```json_normalize()``` funciona muito bem nas situações anteriores, mas e em outras situações?\n",
    "\n",
    "### Dados como um dicionário\n",
    "Vamos começar analisando a normalização quando os dados são um dicionário. Temos um dicionário armazenado na variável ```json_obj```. Note que na chave “Saude” temos outro dicionário:"
   ]
  },
  {
   "cell_type": "code",
   "execution_count": 7,
   "metadata": {},
   "outputs": [],
   "source": [
    "json_obj = {\n",
    "    'ID': '01',\n",
    "    'Faixa_etaria': '55-59',\n",
    "    'Sexo_biologico': 'Feminino',\n",
    "    'Saude': {'Dificuldade_caminhar': 'Nao',\n",
    "              'Atividade_fisica': 'Sim',\n",
    "              'IMC': 16.6,\n",
    "              'Doenca_cardiaca': 'Nao',\n",
    "          }\n",
    "      }"
   ]
  },
  {
   "cell_type": "markdown",
   "metadata": {},
   "source": [
    "Fazendo a normalização:"
   ]
  },
  {
   "cell_type": "code",
   "execution_count": 8,
   "metadata": {},
   "outputs": [
    {
     "data": {
      "text/html": [
       "<div>\n",
       "<style scoped>\n",
       "    .dataframe tbody tr th:only-of-type {\n",
       "        vertical-align: middle;\n",
       "    }\n",
       "\n",
       "    .dataframe tbody tr th {\n",
       "        vertical-align: top;\n",
       "    }\n",
       "\n",
       "    .dataframe thead th {\n",
       "        text-align: right;\n",
       "    }\n",
       "</style>\n",
       "<table border=\"1\" class=\"dataframe\">\n",
       "  <thead>\n",
       "    <tr style=\"text-align: right;\">\n",
       "      <th></th>\n",
       "      <th>ID</th>\n",
       "      <th>Faixa_etaria</th>\n",
       "      <th>Sexo_biologico</th>\n",
       "      <th>Saude.Dificuldade_caminhar</th>\n",
       "      <th>Saude.Atividade_fisica</th>\n",
       "      <th>Saude.IMC</th>\n",
       "      <th>Saude.Doenca_cardiaca</th>\n",
       "    </tr>\n",
       "  </thead>\n",
       "  <tbody>\n",
       "    <tr>\n",
       "      <th>0</th>\n",
       "      <td>01</td>\n",
       "      <td>55-59</td>\n",
       "      <td>Feminino</td>\n",
       "      <td>Nao</td>\n",
       "      <td>Sim</td>\n",
       "      <td>16.6</td>\n",
       "      <td>Nao</td>\n",
       "    </tr>\n",
       "  </tbody>\n",
       "</table>\n",
       "</div>"
      ],
      "text/plain": [
       "   ID Faixa_etaria Sexo_biologico Saude.Dificuldade_caminhar  \\\n",
       "0  01        55-59       Feminino                        Nao   \n",
       "\n",
       "  Saude.Atividade_fisica  Saude.IMC Saude.Doenca_cardiaca  \n",
       "0                    Sim       16.6                   Nao  "
      ]
     },
     "execution_count": 8,
     "metadata": {},
     "output_type": "execute_result"
    }
   ],
   "source": [
    "pd.json_normalize(json_obj)"
   ]
  },
  {
   "cell_type": "markdown",
   "metadata": {},
   "source": [
    "O DataFrame gerado possui uma coluna para cada informação contida no dicionário que estava em “Saude”. As colunas criadas possuem o prefixo “Saude.”, pois as informações vieram dessa mesma chave.\n",
    "\n",
    "### Dados como uma lista de dicionários\n",
    "Agora nós temos uma lista de dicionários armazenada na variável ```json_list```:"
   ]
  },
  {
   "cell_type": "code",
   "execution_count": 9,
   "metadata": {},
   "outputs": [],
   "source": [
    "json_list = [\n",
    "    {\n",
    "    'ID': '01',\n",
    "    'Faixa_etaria': '55-59',\n",
    "    'Sexo_biologico': 'Feminino',\n",
    "    'Saude': {'Dificuldade_caminhar': 'Nao',\n",
    "              'Atividade_fisica': 'Sim',\n",
    "              'IMC': 16.6,\n",
    "              'Doenca_cardiaca': 'Nao',\n",
    "          }\n",
    "      },\n",
    "      {\n",
    "          'ID': '02',\n",
    "          'Faixa_etaria': '80 ou +',\n",
    "          'Sexo_biologico': 'Feminino',\n",
    "          'Saude': {'Dificuldade_caminhar': 'Nao',\n",
    "                    'Atividade_fisica': 'Sim',\n",
    "                    'IMC': 20.34,\n",
    "                    'Doenca_cardiaca': 'Sim'}\n",
    "       }\n",
    "    ]"
   ]
  },
  {
   "cell_type": "markdown",
   "metadata": {},
   "source": [
    "Fazendo a normalização:"
   ]
  },
  {
   "cell_type": "code",
   "execution_count": 10,
   "metadata": {},
   "outputs": [
    {
     "data": {
      "text/html": [
       "<div>\n",
       "<style scoped>\n",
       "    .dataframe tbody tr th:only-of-type {\n",
       "        vertical-align: middle;\n",
       "    }\n",
       "\n",
       "    .dataframe tbody tr th {\n",
       "        vertical-align: top;\n",
       "    }\n",
       "\n",
       "    .dataframe thead th {\n",
       "        text-align: right;\n",
       "    }\n",
       "</style>\n",
       "<table border=\"1\" class=\"dataframe\">\n",
       "  <thead>\n",
       "    <tr style=\"text-align: right;\">\n",
       "      <th></th>\n",
       "      <th>ID</th>\n",
       "      <th>Faixa_etaria</th>\n",
       "      <th>Sexo_biologico</th>\n",
       "      <th>Saude.Dificuldade_caminhar</th>\n",
       "      <th>Saude.Atividade_fisica</th>\n",
       "      <th>Saude.IMC</th>\n",
       "      <th>Saude.Doenca_cardiaca</th>\n",
       "    </tr>\n",
       "  </thead>\n",
       "  <tbody>\n",
       "    <tr>\n",
       "      <th>0</th>\n",
       "      <td>01</td>\n",
       "      <td>55-59</td>\n",
       "      <td>Feminino</td>\n",
       "      <td>Nao</td>\n",
       "      <td>Sim</td>\n",
       "      <td>16.60</td>\n",
       "      <td>Nao</td>\n",
       "    </tr>\n",
       "    <tr>\n",
       "      <th>1</th>\n",
       "      <td>02</td>\n",
       "      <td>80 ou +</td>\n",
       "      <td>Feminino</td>\n",
       "      <td>Nao</td>\n",
       "      <td>Sim</td>\n",
       "      <td>20.34</td>\n",
       "      <td>Sim</td>\n",
       "    </tr>\n",
       "  </tbody>\n",
       "</table>\n",
       "</div>"
      ],
      "text/plain": [
       "   ID Faixa_etaria Sexo_biologico Saude.Dificuldade_caminhar  \\\n",
       "0  01        55-59       Feminino                        Nao   \n",
       "1  02      80 ou +       Feminino                        Nao   \n",
       "\n",
       "  Saude.Atividade_fisica  Saude.IMC Saude.Doenca_cardiaca  \n",
       "0                    Sim      16.60                   Nao  \n",
       "1                    Sim      20.34                   Sim  "
      ]
     },
     "execution_count": 10,
     "metadata": {},
     "output_type": "execute_result"
    }
   ],
   "source": [
    "pd.json_normalize(json_list)"
   ]
  },
  {
   "cell_type": "markdown",
   "metadata": {},
   "source": [
    "Podemos analisar que todos os valores aninhados em cada registro da lista foram convertidos em colunas separadas. E os dados que nós normalizamos no vídeo anterior? Lembra que a normalização deles foi feita de um jeito diferente?\n",
    "\n",
    "Recapitulando, vamos copiar os dados do arquivo [pacientes_2.json](https://github.com/alura-cursos/Pandas/blob/main/pacientes_2.json) e armazená-los numa variável chamada dados_dict."
   ]
  },
  {
   "cell_type": "code",
   "execution_count": 11,
   "metadata": {},
   "outputs": [],
   "source": [
    "dados_dict = {\n",
    "  \"Pesquisa\": \"Principais Indicadores de Doenca Cardiaca\",\n",
    "  \"Ano\": 2020,\n",
    "  \"Pacientes\": [\n",
    "    {\n",
    "      \"ID\": \"01\",\n",
    "      \"Faixa_etaria\": \"55-59\",\n",
    "      \"Sexo_biologico\": \"Feminino\",\n",
    "      \"Raça\": \"Branca\",\n",
    "      \"IMC\": 16.6,\n",
    "      \"Fumante\": \"Sim\",\n",
    "      \"Consumo_alcool\": \"Nao\",\n",
    "      \"Saude_fisica\": 3,\n",
    "      \"Saude_mental\": 30,\n",
    "      \"Dificuldade_caminhar\": \"Nao\",\n",
    "      \"Atividade_fisica\": \"Sim\",\n",
    "      \"Saude_geral\": \"Muito boa\",\n",
    "      \"Horas_sono\": 5,\n",
    "      \"Problemas_saude\": [\n",
    "        \"Diabetes\",\n",
    "        \"Asma\",\n",
    "        \"Cancer_pele\"\n",
    "      ]\n",
    "    },\n",
    "    {\n",
    "      \"ID\": \"02\",\n",
    "      \"Faixa_etaria\": \"80 ou +\",\n",
    "      \"Sexo_biologico\": \"Feminino\",\n",
    "      \"Raça\": \"Branca\",\n",
    "      \"IMC\": 20.34,\n",
    "      \"Fumante\": \"Nao\",\n",
    "      \"Consumo_alcool\": \"Nao\",\n",
    "      \"Saude_fisica\": 0,\n",
    "      \"Saude_mental\": 0,\n",
    "      \"Dificuldade_caminhar\": \"Nao\",\n",
    "      \"Atividade_fisica\": \"Sim\",\n",
    "      \"Saude_geral\": \"Muito boa\",\n",
    "      \"Horas_sono\": 7,\n",
    "      \"Problemas_saude\": [\n",
    "        \"AVC\"\n",
    "      ]\n",
    "    },\n",
    "    {\n",
    "      \"ID\": \"03\",\n",
    "      \"Faixa_etaria\": \"65-69\",\n",
    "      \"Sexo_biologico\": \"Masculino\",\n",
    "      \"Raça\": \"Branca\",\n",
    "      \"IMC\": 26.58,\n",
    "      \"Fumante\": \"Sim\",\n",
    "      \"Consumo_alcool\": \"Nao\",\n",
    "      \"Saude_fisica\": 20,\n",
    "      \"Saude_mental\": 30,\n",
    "      \"Dificuldade_caminhar\": \"Nao\",\n",
    "      \"Atividade_fisica\": \"Sim\",\n",
    "      \"Saude_geral\": \"Muito boa\",\n",
    "      \"Horas_sono\": 8,\n",
    "      \"Problemas_saude\": [\n",
    "        \"diabetes\",\n",
    "        \"Asma\"\n",
    "      ]\n",
    "    }\n",
    "  ]\n",
    "}"
   ]
  },
  {
   "cell_type": "markdown",
   "metadata": {},
   "source": [
    "Se tentarmos normalizar esses dados:"
   ]
  },
  {
   "cell_type": "code",
   "execution_count": 12,
   "metadata": {},
   "outputs": [
    {
     "data": {
      "text/html": [
       "<div>\n",
       "<style scoped>\n",
       "    .dataframe tbody tr th:only-of-type {\n",
       "        vertical-align: middle;\n",
       "    }\n",
       "\n",
       "    .dataframe tbody tr th {\n",
       "        vertical-align: top;\n",
       "    }\n",
       "\n",
       "    .dataframe thead th {\n",
       "        text-align: right;\n",
       "    }\n",
       "</style>\n",
       "<table border=\"1\" class=\"dataframe\">\n",
       "  <thead>\n",
       "    <tr style=\"text-align: right;\">\n",
       "      <th></th>\n",
       "      <th>Pesquisa</th>\n",
       "      <th>Ano</th>\n",
       "      <th>Pacientes</th>\n",
       "    </tr>\n",
       "  </thead>\n",
       "  <tbody>\n",
       "    <tr>\n",
       "      <th>0</th>\n",
       "      <td>Principais Indicadores de Doenca Cardiaca</td>\n",
       "      <td>2020</td>\n",
       "      <td>[{'ID': '01', 'Faixa_etaria': '55-59', 'Sexo_b...</td>\n",
       "    </tr>\n",
       "  </tbody>\n",
       "</table>\n",
       "</div>"
      ],
      "text/plain": [
       "                                    Pesquisa   Ano  \\\n",
       "0  Principais Indicadores de Doenca Cardiaca  2020   \n",
       "\n",
       "                                           Pacientes  \n",
       "0  [{'ID': '01', 'Faixa_etaria': '55-59', 'Sexo_b...  "
      ]
     },
     "execution_count": 12,
     "metadata": {},
     "output_type": "execute_result"
    }
   ],
   "source": [
    "pd.json_normalize(dados_dict)"
   ]
  },
  {
   "cell_type": "markdown",
   "metadata": {},
   "source": [
    "Podemos observar que nossa lista aninhada é colocada em uma única coluna Pacientes. Então, nós usamos o seguinte código para normalizar os dados, especificando qual coluna está aninhada:"
   ]
  },
  {
   "cell_type": "code",
   "execution_count": 13,
   "metadata": {},
   "outputs": [
    {
     "data": {
      "text/html": [
       "<div>\n",
       "<style scoped>\n",
       "    .dataframe tbody tr th:only-of-type {\n",
       "        vertical-align: middle;\n",
       "    }\n",
       "\n",
       "    .dataframe tbody tr th {\n",
       "        vertical-align: top;\n",
       "    }\n",
       "\n",
       "    .dataframe thead th {\n",
       "        text-align: right;\n",
       "    }\n",
       "</style>\n",
       "<table border=\"1\" class=\"dataframe\">\n",
       "  <thead>\n",
       "    <tr style=\"text-align: right;\">\n",
       "      <th></th>\n",
       "      <th>ID</th>\n",
       "      <th>Faixa_etaria</th>\n",
       "      <th>Sexo_biologico</th>\n",
       "      <th>Raça</th>\n",
       "      <th>IMC</th>\n",
       "      <th>Fumante</th>\n",
       "      <th>Consumo_alcool</th>\n",
       "      <th>Saude_fisica</th>\n",
       "      <th>Saude_mental</th>\n",
       "      <th>Dificuldade_caminhar</th>\n",
       "      <th>Atividade_fisica</th>\n",
       "      <th>Saude_geral</th>\n",
       "      <th>Horas_sono</th>\n",
       "      <th>Problemas_saude</th>\n",
       "    </tr>\n",
       "  </thead>\n",
       "  <tbody>\n",
       "    <tr>\n",
       "      <th>0</th>\n",
       "      <td>01</td>\n",
       "      <td>55-59</td>\n",
       "      <td>Feminino</td>\n",
       "      <td>Branca</td>\n",
       "      <td>16.60</td>\n",
       "      <td>Sim</td>\n",
       "      <td>Nao</td>\n",
       "      <td>3</td>\n",
       "      <td>30</td>\n",
       "      <td>Nao</td>\n",
       "      <td>Sim</td>\n",
       "      <td>Muito boa</td>\n",
       "      <td>5</td>\n",
       "      <td>[Diabetes, Asma, Cancer_pele]</td>\n",
       "    </tr>\n",
       "    <tr>\n",
       "      <th>1</th>\n",
       "      <td>02</td>\n",
       "      <td>80 ou +</td>\n",
       "      <td>Feminino</td>\n",
       "      <td>Branca</td>\n",
       "      <td>20.34</td>\n",
       "      <td>Nao</td>\n",
       "      <td>Nao</td>\n",
       "      <td>0</td>\n",
       "      <td>0</td>\n",
       "      <td>Nao</td>\n",
       "      <td>Sim</td>\n",
       "      <td>Muito boa</td>\n",
       "      <td>7</td>\n",
       "      <td>[AVC]</td>\n",
       "    </tr>\n",
       "    <tr>\n",
       "      <th>2</th>\n",
       "      <td>03</td>\n",
       "      <td>65-69</td>\n",
       "      <td>Masculino</td>\n",
       "      <td>Branca</td>\n",
       "      <td>26.58</td>\n",
       "      <td>Sim</td>\n",
       "      <td>Nao</td>\n",
       "      <td>20</td>\n",
       "      <td>30</td>\n",
       "      <td>Nao</td>\n",
       "      <td>Sim</td>\n",
       "      <td>Muito boa</td>\n",
       "      <td>8</td>\n",
       "      <td>[diabetes, Asma]</td>\n",
       "    </tr>\n",
       "  </tbody>\n",
       "</table>\n",
       "</div>"
      ],
      "text/plain": [
       "   ID Faixa_etaria Sexo_biologico    Raça    IMC Fumante Consumo_alcool  \\\n",
       "0  01        55-59       Feminino  Branca  16.60     Sim            Nao   \n",
       "1  02      80 ou +       Feminino  Branca  20.34     Nao            Nao   \n",
       "2  03        65-69      Masculino  Branca  26.58     Sim            Nao   \n",
       "\n",
       "   Saude_fisica  Saude_mental Dificuldade_caminhar Atividade_fisica  \\\n",
       "0             3            30                  Nao              Sim   \n",
       "1             0             0                  Nao              Sim   \n",
       "2            20            30                  Nao              Sim   \n",
       "\n",
       "  Saude_geral  Horas_sono                Problemas_saude  \n",
       "0   Muito boa           5  [Diabetes, Asma, Cancer_pele]  \n",
       "1   Muito boa           7                          [AVC]  \n",
       "2   Muito boa           8               [diabetes, Asma]  "
      ]
     },
     "execution_count": 13,
     "metadata": {},
     "output_type": "execute_result"
    }
   ],
   "source": [
    "pd.json_normalize(dados_dict['Pacientes'])"
   ]
  },
  {
   "cell_type": "markdown",
   "metadata": {},
   "source": [
    "Também podemos fazer isso utilizando o parâmetro ```record_path``` como ['Pacientes']. Esse parâmetro é usado na função pd.```json_normalize()``` para especificar o caminho para os registros que devem ser normalizados em um DataFrame separado:"
   ]
  },
  {
   "cell_type": "code",
   "execution_count": 15,
   "metadata": {},
   "outputs": [
    {
     "data": {
      "text/html": [
       "<div>\n",
       "<style scoped>\n",
       "    .dataframe tbody tr th:only-of-type {\n",
       "        vertical-align: middle;\n",
       "    }\n",
       "\n",
       "    .dataframe tbody tr th {\n",
       "        vertical-align: top;\n",
       "    }\n",
       "\n",
       "    .dataframe thead th {\n",
       "        text-align: right;\n",
       "    }\n",
       "</style>\n",
       "<table border=\"1\" class=\"dataframe\">\n",
       "  <thead>\n",
       "    <tr style=\"text-align: right;\">\n",
       "      <th></th>\n",
       "      <th>ID</th>\n",
       "      <th>Faixa_etaria</th>\n",
       "      <th>Sexo_biologico</th>\n",
       "      <th>Raça</th>\n",
       "      <th>IMC</th>\n",
       "      <th>Fumante</th>\n",
       "      <th>Consumo_alcool</th>\n",
       "      <th>Saude_fisica</th>\n",
       "      <th>Saude_mental</th>\n",
       "      <th>Dificuldade_caminhar</th>\n",
       "      <th>Atividade_fisica</th>\n",
       "      <th>Saude_geral</th>\n",
       "      <th>Horas_sono</th>\n",
       "      <th>Problemas_saude</th>\n",
       "    </tr>\n",
       "  </thead>\n",
       "  <tbody>\n",
       "    <tr>\n",
       "      <th>0</th>\n",
       "      <td>01</td>\n",
       "      <td>55-59</td>\n",
       "      <td>Feminino</td>\n",
       "      <td>Branca</td>\n",
       "      <td>16.60</td>\n",
       "      <td>Sim</td>\n",
       "      <td>Nao</td>\n",
       "      <td>3</td>\n",
       "      <td>30</td>\n",
       "      <td>Nao</td>\n",
       "      <td>Sim</td>\n",
       "      <td>Muito boa</td>\n",
       "      <td>5</td>\n",
       "      <td>[Diabetes, Asma, Cancer_pele]</td>\n",
       "    </tr>\n",
       "    <tr>\n",
       "      <th>1</th>\n",
       "      <td>02</td>\n",
       "      <td>80 ou +</td>\n",
       "      <td>Feminino</td>\n",
       "      <td>Branca</td>\n",
       "      <td>20.34</td>\n",
       "      <td>Nao</td>\n",
       "      <td>Nao</td>\n",
       "      <td>0</td>\n",
       "      <td>0</td>\n",
       "      <td>Nao</td>\n",
       "      <td>Sim</td>\n",
       "      <td>Muito boa</td>\n",
       "      <td>7</td>\n",
       "      <td>[AVC]</td>\n",
       "    </tr>\n",
       "    <tr>\n",
       "      <th>2</th>\n",
       "      <td>03</td>\n",
       "      <td>65-69</td>\n",
       "      <td>Masculino</td>\n",
       "      <td>Branca</td>\n",
       "      <td>26.58</td>\n",
       "      <td>Sim</td>\n",
       "      <td>Nao</td>\n",
       "      <td>20</td>\n",
       "      <td>30</td>\n",
       "      <td>Nao</td>\n",
       "      <td>Sim</td>\n",
       "      <td>Muito boa</td>\n",
       "      <td>8</td>\n",
       "      <td>[diabetes, Asma]</td>\n",
       "    </tr>\n",
       "  </tbody>\n",
       "</table>\n",
       "</div>"
      ],
      "text/plain": [
       "   ID Faixa_etaria Sexo_biologico    Raça    IMC Fumante Consumo_alcool  \\\n",
       "0  01        55-59       Feminino  Branca  16.60     Sim            Nao   \n",
       "1  02      80 ou +       Feminino  Branca  20.34     Nao            Nao   \n",
       "2  03        65-69      Masculino  Branca  26.58     Sim            Nao   \n",
       "\n",
       "   Saude_fisica  Saude_mental Dificuldade_caminhar Atividade_fisica  \\\n",
       "0             3            30                  Nao              Sim   \n",
       "1             0             0                  Nao              Sim   \n",
       "2            20            30                  Nao              Sim   \n",
       "\n",
       "  Saude_geral  Horas_sono                Problemas_saude  \n",
       "0   Muito boa           5  [Diabetes, Asma, Cancer_pele]  \n",
       "1   Muito boa           7                          [AVC]  \n",
       "2   Muito boa           8               [diabetes, Asma]  "
      ]
     },
     "execution_count": 15,
     "metadata": {},
     "output_type": "execute_result"
    }
   ],
   "source": [
    "pd.json_normalize(dados_dict, record_path=['Pacientes'])"
   ]
  },
  {
   "cell_type": "markdown",
   "metadata": {},
   "source": [
    "Com ambos os códigos o resultado é o mesmo.\n",
    "\n",
    "O resultado parece ótimo, mas não inclui as colunas “Pesquisa” e “Ano”. Para incluí-las, podemos usar o parâmetro ```meta``` para especificar outras colunas que queremos no DataFrame."
   ]
  },
  {
   "cell_type": "code",
   "execution_count": 16,
   "metadata": {},
   "outputs": [
    {
     "data": {
      "text/html": [
       "<div>\n",
       "<style scoped>\n",
       "    .dataframe tbody tr th:only-of-type {\n",
       "        vertical-align: middle;\n",
       "    }\n",
       "\n",
       "    .dataframe tbody tr th {\n",
       "        vertical-align: top;\n",
       "    }\n",
       "\n",
       "    .dataframe thead th {\n",
       "        text-align: right;\n",
       "    }\n",
       "</style>\n",
       "<table border=\"1\" class=\"dataframe\">\n",
       "  <thead>\n",
       "    <tr style=\"text-align: right;\">\n",
       "      <th></th>\n",
       "      <th>ID</th>\n",
       "      <th>Faixa_etaria</th>\n",
       "      <th>Sexo_biologico</th>\n",
       "      <th>Raça</th>\n",
       "      <th>IMC</th>\n",
       "      <th>Fumante</th>\n",
       "      <th>Consumo_alcool</th>\n",
       "      <th>Saude_fisica</th>\n",
       "      <th>Saude_mental</th>\n",
       "      <th>Dificuldade_caminhar</th>\n",
       "      <th>Atividade_fisica</th>\n",
       "      <th>Saude_geral</th>\n",
       "      <th>Horas_sono</th>\n",
       "      <th>Problemas_saude</th>\n",
       "      <th>Pesquisa</th>\n",
       "      <th>Ano</th>\n",
       "    </tr>\n",
       "  </thead>\n",
       "  <tbody>\n",
       "    <tr>\n",
       "      <th>0</th>\n",
       "      <td>01</td>\n",
       "      <td>55-59</td>\n",
       "      <td>Feminino</td>\n",
       "      <td>Branca</td>\n",
       "      <td>16.60</td>\n",
       "      <td>Sim</td>\n",
       "      <td>Nao</td>\n",
       "      <td>3</td>\n",
       "      <td>30</td>\n",
       "      <td>Nao</td>\n",
       "      <td>Sim</td>\n",
       "      <td>Muito boa</td>\n",
       "      <td>5</td>\n",
       "      <td>[Diabetes, Asma, Cancer_pele]</td>\n",
       "      <td>Principais Indicadores de Doenca Cardiaca</td>\n",
       "      <td>2020</td>\n",
       "    </tr>\n",
       "    <tr>\n",
       "      <th>1</th>\n",
       "      <td>02</td>\n",
       "      <td>80 ou +</td>\n",
       "      <td>Feminino</td>\n",
       "      <td>Branca</td>\n",
       "      <td>20.34</td>\n",
       "      <td>Nao</td>\n",
       "      <td>Nao</td>\n",
       "      <td>0</td>\n",
       "      <td>0</td>\n",
       "      <td>Nao</td>\n",
       "      <td>Sim</td>\n",
       "      <td>Muito boa</td>\n",
       "      <td>7</td>\n",
       "      <td>[AVC]</td>\n",
       "      <td>Principais Indicadores de Doenca Cardiaca</td>\n",
       "      <td>2020</td>\n",
       "    </tr>\n",
       "    <tr>\n",
       "      <th>2</th>\n",
       "      <td>03</td>\n",
       "      <td>65-69</td>\n",
       "      <td>Masculino</td>\n",
       "      <td>Branca</td>\n",
       "      <td>26.58</td>\n",
       "      <td>Sim</td>\n",
       "      <td>Nao</td>\n",
       "      <td>20</td>\n",
       "      <td>30</td>\n",
       "      <td>Nao</td>\n",
       "      <td>Sim</td>\n",
       "      <td>Muito boa</td>\n",
       "      <td>8</td>\n",
       "      <td>[diabetes, Asma]</td>\n",
       "      <td>Principais Indicadores de Doenca Cardiaca</td>\n",
       "      <td>2020</td>\n",
       "    </tr>\n",
       "  </tbody>\n",
       "</table>\n",
       "</div>"
      ],
      "text/plain": [
       "   ID Faixa_etaria Sexo_biologico    Raça    IMC Fumante Consumo_alcool  \\\n",
       "0  01        55-59       Feminino  Branca  16.60     Sim            Nao   \n",
       "1  02      80 ou +       Feminino  Branca  20.34     Nao            Nao   \n",
       "2  03        65-69      Masculino  Branca  26.58     Sim            Nao   \n",
       "\n",
       "   Saude_fisica  Saude_mental Dificuldade_caminhar Atividade_fisica  \\\n",
       "0             3            30                  Nao              Sim   \n",
       "1             0             0                  Nao              Sim   \n",
       "2            20            30                  Nao              Sim   \n",
       "\n",
       "  Saude_geral  Horas_sono                Problemas_saude  \\\n",
       "0   Muito boa           5  [Diabetes, Asma, Cancer_pele]   \n",
       "1   Muito boa           7                          [AVC]   \n",
       "2   Muito boa           8               [diabetes, Asma]   \n",
       "\n",
       "                                    Pesquisa   Ano  \n",
       "0  Principais Indicadores de Doenca Cardiaca  2020  \n",
       "1  Principais Indicadores de Doenca Cardiaca  2020  \n",
       "2  Principais Indicadores de Doenca Cardiaca  2020  "
      ]
     },
     "execution_count": 16,
     "metadata": {},
     "output_type": "execute_result"
    }
   ],
   "source": [
    "pd.json_normalize(\n",
    "    dados_dict, \n",
    "    record_path =['Pacientes'], \n",
    "    meta=['Pesquisa', 'Ano']\n",
    ")"
   ]
  },
  {
   "cell_type": "markdown",
   "metadata": {},
   "source": [
    "Dessa forma temos todas as colunas presentes no DataFrame!\n",
    "\n",
    ">Importante: Na aula nós realizamos a normalização em um arquivo com o formato JSON. No entanto, a função ```json_normalize()``` aceita apenas um dicionário ou uma lista de dicionários. Por isso, no vídeo foi usada a estratégia de usar o código: ```pd.json_normalize(dados_pacientes_2['Pacientes'])```. Porém, se tentarmos usar parâmetros da função ```json_normalize``` em um arquivo JSON podem surgir erros. Para contornar isso, precisamos importar o módulo json e ler os arquivos conforme o código abaixo:"
   ]
  },
  {
   "cell_type": "code",
   "execution_count": null,
   "metadata": {},
   "outputs": [],
   "source": [
    "#Importando a biblioteca Pandas\n",
    "import pandas as pd\n",
    "\n",
    "#Importando o módulo JSON\n",
    "import json\n",
    "\n",
    "#Lendo o arquivo json usando o módulo Python JSON\n",
    "with open('pacientes_2.json','r') as f:\n",
    "    dados = json.loads(f.read())\n",
    "\n",
    "#Normalizando os dados com os parâmetros record_path e meta\n",
    "pd.json_normalize(dados, record_path='Pacientes', meta=['Pesquisa', 'Ano'])"
   ]
  },
  {
   "cell_type": "markdown",
   "metadata": {},
   "source": [
    "E, assim, aprendemos como normalizar arquivos JSON simples, com múltiplos níveis e aninhados."
   ]
  }
 ],
 "metadata": {
  "kernelspec": {
   "display_name": "Python 3",
   "language": "python",
   "name": "python3"
  },
  "language_info": {
   "codemirror_mode": {
    "name": "ipython",
    "version": 3
   },
   "file_extension": ".py",
   "mimetype": "text/x-python",
   "name": "python",
   "nbconvert_exporter": "python",
   "pygments_lexer": "ipython3",
   "version": "3.12.6"
  }
 },
 "nbformat": 4,
 "nbformat_minor": 2
}
