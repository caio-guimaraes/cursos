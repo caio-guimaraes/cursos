{
 "cells": [
  {
   "cell_type": "markdown",
   "metadata": {},
   "source": [
    "# Para saber mais: bancos de dados e SQLAlchemy\n",
    "\n",
    "**Bancos de dados** são sistemas que permitem o armazenamento, organização e recuperação de informações de forma estruturada e eficiente. Eles são amplamente utilizados em muitas áreas, desde gerenciamento de negócios à pesquisa científica. Um banco de dados bem projetado pode melhorar significativamente a eficiência e a precisão das operações de uma organização.\n",
    "\n",
    "Existem bancos de dados **relacionais** e **não-relacionais**. Os bancos de dados relacionais representam e armazenam dados em tabelas. Já os não-relacionais, também conhecidos como bancos de dados NoSQL (*Not Only SQL* - Não SQL), usam uma variedade de estruturas de dados, como documentos, grafos ou pares de chave-valor.\n",
    "\n",
    "Python oferece vários pacotes e bibliotecas para trabalhar com bancos de dados, incluindo SQLite, MySQL, PostgreSQL, Oracle, MongoDB, entre outros. Um dos pacotes mais comuns usados para trabalhar com bancos de dados relacionais em Python é o pacote **sqlite3** que oferece suporte a bancos de dados SQLite. Este banco de dados é leve e incorporado que não exige um servidor separado para ser executado que já vem nativamente instalado no Google Colab.\n",
    "\n",
    "Para trabalhar com esse banco podemos utilizar a **SQLAlchemy**, uma biblioteca de mapeamento objeto-relacional (ORM), que possibilita interagir com bancos de dados relacionais usando código Python. Ela fornece uma camada de abstração que permite aos desenvolvedores trabalhar com objetos Python em vez de lidar diretamente com as complexidades da linguagem **SQL** (*Structured Query Language* - Linguagem de consulta estruturada).\n",
    "\n",
    "Uma das principais vantagens do uso de SQLAchemy é a capacidade de criar código mais legível e fácil de manter. Com SQLAlchemy, as operações do banco de dados são executadas usando métodos em objetos Python, tornando o código mais claro e menos propenso a erros.\n",
    "\n",
    "Além disso, a SQLAlchemy oferece suporte a consultas complexas em bancos de dados, permitindo que pessoas desenvolvedoras extraiam facilmente informações relevantes de grandes conjuntos de dados. Isso é especialmente útil em aplicações que precisam lidar com grandes quantidades de dados.\n",
    "\n",
    "Você pode encontrar mais detalhes sobre a biblioteca SQLAchemy na [documentação](https://www.sqlalchemy.org/)."
   ]
  },
  {
   "cell_type": "code",
   "execution_count": null,
   "metadata": {},
   "outputs": [],
   "source": []
  }
 ],
 "metadata": {
  "language_info": {
   "name": "python"
  }
 },
 "nbformat": 4,
 "nbformat_minor": 2
}
