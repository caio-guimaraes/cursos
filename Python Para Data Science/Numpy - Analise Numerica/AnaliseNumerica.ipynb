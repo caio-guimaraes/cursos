{
 "cells": [
  {
   "cell_type": "markdown",
   "metadata": {},
   "source": [
    "## Análise Numérica de Dados\n",
    "\n",
    "Trabalharemos com um dataset de preços de maçãs. Ou seja, uma tabela de dados semelhante ao que vemos em softwares como Excel e Google Planilhas. A ideia é que comecemos a analisar esses dados seguindo os mesmo processos utilizados nos softwares citados, como, por exemplo, somar os valores de uma coluna, calcular a média ou realizar operações entre diferentes colunas. Para isso, usaremos a ferramenta NumPy, que é uma biblioteca Python.\n",
    "\n",
    "Esta biblioteca possui uma série de vantagens em operações com arrays, que são objetos semelhantes às listas. Entre as vantagens, podemos citar a rapidez das operações, menos memória sendo ocupada e a série de métodos atrelados a esses objetos."
   ]
  },
  {
   "attachments": {
    "image.png": {
     "image/png": "[encoded data removed]"
    }
   },
   "cell_type": "markdown",
   "metadata": {},
   "source": [
    "Visualização dos 5 primeiros registros das 5 primeiras colunas.\n",
    "\n",
    "![image.png](attachment:image.png)\n",
    "\n",
    "Note que se trata de uma tabela em que cada linha representa uma cidade da Rússia, e cada coluna, uma data. Dessa forma, temos o registro do preço das maçãs no intervalo de Janeiro/2013 a Março/2020."
   ]
  },
  {
   "cell_type": "markdown",
   "metadata": {},
   "source": [
    "### Carregando o arquivo\n",
    "Após o salvarmos no Colab, precisamos carregá-lo com a linguagem Python, o que faremos utilizando uma função da NumPy que facilita este processo.\n",
    "\n",
    "O primeiro passo, portanto, é importar a biblioteca NumPy, a qual daremos o apelido np. Para isso, usaremos o seguinte comando:"
   ]
  },
  {
   "cell_type": "code",
   "execution_count": 2,
   "metadata": {},
   "outputs": [],
   "source": [
    "import numpy as np"
   ]
  },
  {
   "cell_type": "markdown",
   "metadata": {},
   "source": [
    "Para executá-lo, teclamos \"Shift + Enter\".\n",
    "\n",
    "Na célula seguinte, chamaremos a função .loadtxt() passando o nome do arquivo 'apples_ts.csv'. Precisamos passar, também, o delimitador do arquivo que, por ser CSV, tem como padrão ser delimitado por vírgula delimiter=','."
   ]
  },
  {
   "cell_type": "code",
   "execution_count": 3,
   "metadata": {},
   "outputs": [
    {
     "ename": "ValueError",
     "evalue": "could not convert string to float: ",
     "output_type": "error",
     "traceback": [
      "\u001b[1;31m---------------------------------------------------------------------------\u001b[0m",
      "\u001b[1;31mValueError\u001b[0m                                Traceback (most recent call last)",
      "\u001b[1;32m~\\AppData\\Local\\Temp\\ipykernel_21584\\384740982.py\u001b[0m in \u001b[0;36m<module>\u001b[1;34m\u001b[0m\n\u001b[1;32m----> 1\u001b[1;33m \u001b[0mnp\u001b[0m\u001b[1;33m.\u001b[0m\u001b[0mloadtxt\u001b[0m\u001b[1;33m(\u001b[0m\u001b[1;34m'numpy-dados/apples_ts.csv'\u001b[0m\u001b[1;33m,\u001b[0m \u001b[0mdelimiter\u001b[0m\u001b[1;33m=\u001b[0m\u001b[1;34m','\u001b[0m\u001b[1;33m)\u001b[0m\u001b[1;33m\u001b[0m\u001b[1;33m\u001b[0m\u001b[0m\n\u001b[0m",
      "\u001b[1;32mc:\\Users\\kai_o\\AppData\\Local\\Programs\\Python\\Python37\\lib\\site-packages\\numpy\\lib\\npyio.py\u001b[0m in \u001b[0;36mloadtxt\u001b[1;34m(fname, dtype, comments, delimiter, converters, skiprows, usecols, unpack, ndmin, encoding, max_rows, like)\u001b[0m\n\u001b[0;32m   1146\u001b[0m         \u001b[1;31m# converting the data\u001b[0m\u001b[1;33m\u001b[0m\u001b[1;33m\u001b[0m\u001b[1;33m\u001b[0m\u001b[0m\n\u001b[0;32m   1147\u001b[0m         \u001b[0mX\u001b[0m \u001b[1;33m=\u001b[0m \u001b[1;32mNone\u001b[0m\u001b[1;33m\u001b[0m\u001b[1;33m\u001b[0m\u001b[0m\n\u001b[1;32m-> 1148\u001b[1;33m         \u001b[1;32mfor\u001b[0m \u001b[0mx\u001b[0m \u001b[1;32min\u001b[0m \u001b[0mread_data\u001b[0m\u001b[1;33m(\u001b[0m\u001b[0m_loadtxt_chunksize\u001b[0m\u001b[1;33m)\u001b[0m\u001b[1;33m:\u001b[0m\u001b[1;33m\u001b[0m\u001b[1;33m\u001b[0m\u001b[0m\n\u001b[0m\u001b[0;32m   1149\u001b[0m             \u001b[1;32mif\u001b[0m \u001b[0mX\u001b[0m \u001b[1;32mis\u001b[0m \u001b[1;32mNone\u001b[0m\u001b[1;33m:\u001b[0m\u001b[1;33m\u001b[0m\u001b[1;33m\u001b[0m\u001b[0m\n\u001b[0;32m   1150\u001b[0m                 \u001b[0mX\u001b[0m \u001b[1;33m=\u001b[0m \u001b[0mnp\u001b[0m\u001b[1;33m.\u001b[0m\u001b[0marray\u001b[0m\u001b[1;33m(\u001b[0m\u001b[0mx\u001b[0m\u001b[1;33m,\u001b[0m \u001b[0mdtype\u001b[0m\u001b[1;33m)\u001b[0m\u001b[1;33m\u001b[0m\u001b[1;33m\u001b[0m\u001b[0m\n",
      "\u001b[1;32mc:\\Users\\kai_o\\AppData\\Local\\Programs\\Python\\Python37\\lib\\site-packages\\numpy\\lib\\npyio.py\u001b[0m in \u001b[0;36mread_data\u001b[1;34m(chunk_size)\u001b[0m\n\u001b[0;32m    997\u001b[0m \u001b[1;33m\u001b[0m\u001b[0m\n\u001b[0;32m    998\u001b[0m             \u001b[1;31m# Convert each value according to its column and store\u001b[0m\u001b[1;33m\u001b[0m\u001b[1;33m\u001b[0m\u001b[1;33m\u001b[0m\u001b[0m\n\u001b[1;32m--> 999\u001b[1;33m             \u001b[0mitems\u001b[0m \u001b[1;33m=\u001b[0m \u001b[1;33m[\u001b[0m\u001b[0mconv\u001b[0m\u001b[1;33m(\u001b[0m\u001b[0mval\u001b[0m\u001b[1;33m)\u001b[0m \u001b[1;32mfor\u001b[0m \u001b[1;33m(\u001b[0m\u001b[0mconv\u001b[0m\u001b[1;33m,\u001b[0m \u001b[0mval\u001b[0m\u001b[1;33m)\u001b[0m \u001b[1;32min\u001b[0m \u001b[0mzip\u001b[0m\u001b[1;33m(\u001b[0m\u001b[0mconverters\u001b[0m\u001b[1;33m,\u001b[0m \u001b[0mvals\u001b[0m\u001b[1;33m)\u001b[0m\u001b[1;33m]\u001b[0m\u001b[1;33m\u001b[0m\u001b[1;33m\u001b[0m\u001b[0m\n\u001b[0m\u001b[0;32m   1000\u001b[0m \u001b[1;33m\u001b[0m\u001b[0m\n\u001b[0;32m   1001\u001b[0m             \u001b[1;31m# Then pack it according to the dtype's nesting\u001b[0m\u001b[1;33m\u001b[0m\u001b[1;33m\u001b[0m\u001b[1;33m\u001b[0m\u001b[0m\n",
      "\u001b[1;32mc:\\Users\\kai_o\\AppData\\Local\\Programs\\Python\\Python37\\lib\\site-packages\\numpy\\lib\\npyio.py\u001b[0m in \u001b[0;36m<listcomp>\u001b[1;34m(.0)\u001b[0m\n\u001b[0;32m    997\u001b[0m \u001b[1;33m\u001b[0m\u001b[0m\n\u001b[0;32m    998\u001b[0m             \u001b[1;31m# Convert each value according to its column and store\u001b[0m\u001b[1;33m\u001b[0m\u001b[1;33m\u001b[0m\u001b[1;33m\u001b[0m\u001b[0m\n\u001b[1;32m--> 999\u001b[1;33m             \u001b[0mitems\u001b[0m \u001b[1;33m=\u001b[0m \u001b[1;33m[\u001b[0m\u001b[0mconv\u001b[0m\u001b[1;33m(\u001b[0m\u001b[0mval\u001b[0m\u001b[1;33m)\u001b[0m \u001b[1;32mfor\u001b[0m \u001b[1;33m(\u001b[0m\u001b[0mconv\u001b[0m\u001b[1;33m,\u001b[0m \u001b[0mval\u001b[0m\u001b[1;33m)\u001b[0m \u001b[1;32min\u001b[0m \u001b[0mzip\u001b[0m\u001b[1;33m(\u001b[0m\u001b[0mconverters\u001b[0m\u001b[1;33m,\u001b[0m \u001b[0mvals\u001b[0m\u001b[1;33m)\u001b[0m\u001b[1;33m]\u001b[0m\u001b[1;33m\u001b[0m\u001b[1;33m\u001b[0m\u001b[0m\n\u001b[0m\u001b[0;32m   1000\u001b[0m \u001b[1;33m\u001b[0m\u001b[0m\n\u001b[0;32m   1001\u001b[0m             \u001b[1;31m# Then pack it according to the dtype's nesting\u001b[0m\u001b[1;33m\u001b[0m\u001b[1;33m\u001b[0m\u001b[1;33m\u001b[0m\u001b[0m\n",
      "\u001b[1;32mc:\\Users\\kai_o\\AppData\\Local\\Programs\\Python\\Python37\\lib\\site-packages\\numpy\\lib\\npyio.py\u001b[0m in \u001b[0;36mfloatconv\u001b[1;34m(x)\u001b[0m\n\u001b[0;32m    734\u001b[0m         \u001b[1;32mif\u001b[0m \u001b[1;34m'0x'\u001b[0m \u001b[1;32min\u001b[0m \u001b[0mx\u001b[0m\u001b[1;33m:\u001b[0m\u001b[1;33m\u001b[0m\u001b[1;33m\u001b[0m\u001b[0m\n\u001b[0;32m    735\u001b[0m             \u001b[1;32mreturn\u001b[0m \u001b[0mfloat\u001b[0m\u001b[1;33m.\u001b[0m\u001b[0mfromhex\u001b[0m\u001b[1;33m(\u001b[0m\u001b[0mx\u001b[0m\u001b[1;33m)\u001b[0m\u001b[1;33m\u001b[0m\u001b[1;33m\u001b[0m\u001b[0m\n\u001b[1;32m--> 736\u001b[1;33m         \u001b[1;32mreturn\u001b[0m \u001b[0mfloat\u001b[0m\u001b[1;33m(\u001b[0m\u001b[0mx\u001b[0m\u001b[1;33m)\u001b[0m\u001b[1;33m\u001b[0m\u001b[1;33m\u001b[0m\u001b[0m\n\u001b[0m\u001b[0;32m    737\u001b[0m \u001b[1;33m\u001b[0m\u001b[0m\n\u001b[0;32m    738\u001b[0m     \u001b[0mtyp\u001b[0m \u001b[1;33m=\u001b[0m \u001b[0mdtype\u001b[0m\u001b[1;33m.\u001b[0m\u001b[0mtype\u001b[0m\u001b[1;33m\u001b[0m\u001b[1;33m\u001b[0m\u001b[0m\n",
      "\u001b[1;31mValueError\u001b[0m: could not convert string to float: "
     ]
    }
   ],
   "source": [
    "np.loadtxt('numpy-dados/apples_ts.csv', delimiter=',')"
   ]
  },
  {
   "cell_type": "markdown",
   "metadata": {},
   "source": [
    "Ao executarmos, é retornado um erro, informando que não foi possível converter uma string em um float. Isso acontece porque, quando trabalhamos com arrays em NumPy, precisamos que exista somente um único tipo de dado dentro do array.\n",
    "\n",
    "Nossa intenção é trabalhar somente com valores numéricos. Mas note que, na primeira coluna, temos textos correspondentes aos nomes das cidades. Sendo assim, precisamos solicitar todas as colunas, com exceção desta, de índice zero.\n",
    "\n",
    "Lembre-se que a contagem de itens de um array começa sempre do zero, por isso a primeira coluna corresponde à 0.\n",
    "\n",
    "Para isso, acrescentaremos ```usecols``` que será igual ao array de valores que queremos.\n",
    "\n",
    "Para este array, usaremos a função ```np.arange()``` que deve gerar a sequência de valores."
   ]
  },
  {
   "cell_type": "markdown",
   "metadata": {},
   "source": [
    "Nela passamos os índices das colunas, iniciando por 1. Em nosso dataset, temos 7 anos de informação e cada ano possui 12 meses, então 7x12 = 84; adicionamos + 3 (correspondente aos 3 meses de 2020) e obtivemos 87. Sendo assim, nossa lista vai de 1 a 87.\n",
    "\n",
    "Porém, no Python, precisamos digitar o valor final +1 para que este último dado seja englobado, ou seja, 88. Por fim, precisamos passar o valor de incremento, que é 1:"
   ]
  },
  {
   "cell_type": "code",
   "execution_count": 4,
   "metadata": {},
   "outputs": [
    {
     "data": {
      "text/plain": [
       "array([ 1,  2,  3,  4,  5,  6,  7,  8,  9, 10, 11, 12, 13, 14, 15, 16, 17,\n",
       "       18, 19, 20, 21, 22, 23, 24, 25, 26, 27, 28, 29, 30, 31, 32, 33, 34,\n",
       "       35, 36, 37, 38, 39, 40, 41, 42, 43, 44, 45, 46, 47, 48, 49, 50, 51,\n",
       "       52, 53, 54, 55, 56, 57, 58, 59, 60, 61, 62, 63, 64, 65, 66, 67, 68,\n",
       "       69, 70, 71, 72, 73, 74, 75, 76, 77, 78, 79, 80, 81, 82, 83, 84, 85,\n",
       "       86, 87])"
      ]
     },
     "execution_count": 4,
     "metadata": {},
     "output_type": "execute_result"
    }
   ],
   "source": [
    "np.arange(1, 88, 1)"
   ]
  },
  {
   "cell_type": "code",
   "execution_count": 5,
   "metadata": {},
   "outputs": [
    {
     "data": {
      "text/plain": [
       "array([[  1.2013,   2.2013,   3.2013,   4.2013,   5.2013,   6.2013,\n",
       "          7.2013,   8.2013,   9.2013,  10.2013,  11.2013,  12.2013,\n",
       "          1.2014,   2.2014,   3.2014,   4.2014,   5.2014,   6.2014,\n",
       "          7.2014,   8.2014,   9.2014,  10.2014,  11.2014,  12.2014,\n",
       "          1.2015,   2.2015,   3.2015,   4.2015,   5.2015,   6.2015,\n",
       "          7.2015,   8.2015,   9.2015,  10.2015,  11.2015,  12.2015,\n",
       "          1.2016,   2.2016,   3.2016,   4.2016,   5.2016,   6.2016,\n",
       "          7.2016,   8.2016,   9.2016,  10.2016,  11.2016,  12.2016,\n",
       "          1.2017,   2.2017,   3.2017,   4.2017,   5.2017,   6.2017,\n",
       "          7.2017,   8.2017,   9.2017,  10.2017,  11.2017,  12.2017,\n",
       "          1.2018,   2.2018,   3.2018,   4.2018,   5.2018,   6.2018,\n",
       "          7.2018,   8.2018,   9.2018,  10.2018,  11.2018,  12.2018,\n",
       "          1.2019,   2.2019,   3.2019,   4.2019,   5.2019,   6.2019,\n",
       "          7.2019,   8.2019,   9.2019,  10.2019,  11.2019,  12.2019,\n",
       "          1.202 ,   2.202 ,   3.202 ],\n",
       "       [ 79.72  ,  81.08  ,  79.68  ,  79.8   ,  80.63  ,  80.8   ,\n",
       "         80.28  ,  78.99  ,  76.77  ,  76.09  ,  76.36  ,  77.16  ,\n",
       "         77.5   ,  79.03  ,  80.28  ,  80.05  ,  78.11  ,  76.9   ,\n",
       "         77.68  ,  76.05  ,  75.53  ,  73.39  ,  78.36  ,  89.16  ,\n",
       "        105.43  , 104.82  , 101.15  ,  98.63  ,  99.96  ,  97.29  ,\n",
       "         98.64  , 104.26  , 102.63  ,  98.64  ,  97.17  ,  98.09  ,\n",
       "        103.07  , 110.26  , 110.84  , 112.28  , 111.1   , 110.06  ,\n",
       "        113.7   , 112.88  , 102.08  ,  95.54  ,  91.33  ,  89.99  ,\n",
       "         91.44  ,  93.51  ,  93.6   ,  93.78  ,  98.91  , 121.76  ,\n",
       "        129.6   , 127.9   , 114.55  , 101.88  ,  99.09  , 103.35  ,\n",
       "        106.58  , 108.    , 114.95  , 121.17  , 122.48  , 127.58  ,\n",
       "        131.89  , 129.36  , 104.26  ,  93.45  ,  92.93  ,  96.15  ,\n",
       "         99.1   , 103.    , 103.31  , 103.01  , 107.37  , 116.91  ,\n",
       "        125.29  , 123.94  , 113.03  , 102.19  ,  97.83  , 101.07  ,\n",
       "        103.44  , 108.23  , 110.28  ],\n",
       "       [ 42.67  ,  44.37  ,  44.73  ,  46.75  ,      nan,  51.59  ,\n",
       "         57.8   ,  62.14  ,  56.76  ,  50.85  ,  46.43  ,  46.73  ,\n",
       "         45.85  ,  49.25  ,  48.14  ,  49.18  ,  49.49  ,  49.83  ,\n",
       "         49.14  ,  63.21  ,  61.2   ,  60.34  ,  62.2   ,  74.2   ,\n",
       "         75.32  ,  75.92  ,  72.89  ,  74.85  ,  92.19  ,  99.7   ,\n",
       "        102.78  ,  92.67  ,  90.63  ,  83.31  ,  75.5   ,  74.6   ,\n",
       "         76.94  ,  83.04  ,  80.74  ,  80.29  ,  82.82  ,  86.29  ,\n",
       "         87.41  ,  85.1   ,  78.08  ,  76.06  ,  69.23  ,  69.04  ,\n",
       "         64.48  ,  65.73  ,  67.2   ,  70.25  ,  82.59  ,  92.12  ,\n",
       "        100.82  ,  95.23  ,  89.51  ,  82.84  ,  82.3   ,  83.76  ,\n",
       "         84.72  ,  83.91  ,  99.14  , 101.6   , 113.03  , 119.54  ,\n",
       "        118.09  , 107.32  ,  82.6   ,  77.4   ,  71.77  ,  71.25  ,\n",
       "         71.35  ,  73.62  ,  76.2   ,  74.15  ,  75.67  ,  79.2   ,\n",
       "         80.85  ,  85.33  ,  75.02  ,  77.95  ,  78.98  ,  76.55  ,\n",
       "         74.89  ,  70.    ,  81.53  ],\n",
       "       [ 62.55  ,  62.73  ,  63.43  ,  63.83  ,  66.06  ,  69.22  ,\n",
       "         72.07  ,  69.31  ,  65.18  ,  62.13  ,  64.17  ,  65.5   ,\n",
       "         66.85  ,  68.38  ,  68.77  ,  69.32  ,  69.77  ,  70.17  ,\n",
       "         70.76  ,  75.16  ,  74.86  ,  71.47  ,  76.08  ,  82.11  ,\n",
       "         94.63  ,  98.54  ,  97.84  ,  94.54  ,  97.88  ,  97.73  ,\n",
       "        100.89  , 104.88  , 104.39  , 101.9   ,  98.99  ,  99.42  ,\n",
       "        106.37  , 113.89  , 114.78  , 115.6   , 115.89  , 117.66  ,\n",
       "        118.27  , 114.19  , 101.81  ,  91.62  ,  90.15  ,  90.55  ,\n",
       "         92.3   ,  91.75  ,  92.    ,  92.57  , 100.28  , 114.33  ,\n",
       "        122.17  , 117.83  , 112.49  ,  93.7   ,  97.17  ,  95.64  ,\n",
       "        102.21  , 107.58  , 110.48  , 117.73  , 122.07  , 128.58  ,\n",
       "        131.12  , 127.08  , 110.99  ,  97.43  ,  92.05  ,  93.21  ,\n",
       "         98.58  , 100.23  , 102.09  , 101.73  , 107.28  , 115.35  ,\n",
       "        123.03  , 123.08  , 109.71  ,  97.22  ,  95.75  ,  97.09  ,\n",
       "         98.18  , 103.1   , 110.6   ],\n",
       "       [ 48.26  ,  51.01  ,  50.91  ,  53.94  ,  61.27  ,  65.44  ,\n",
       "         56.51  ,  53.    ,  43.87  ,  42.12  ,  43.98  ,  44.66  ,\n",
       "         47.73  ,  52.31  ,  56.8   ,  51.15  ,  54.63  ,  55.8   ,\n",
       "         57.31  ,  53.81  ,  55.5   ,  52.95  ,  53.29  ,  54.86  ,\n",
       "         71.72  ,  74.36  ,  78.25  ,  70.63  ,  77.06  ,  81.52  ,\n",
       "         84.12  ,  83.33  ,  66.98  ,  62.04  ,  59.79  ,  66.06  ,\n",
       "         71.99  ,  76.79  ,  80.98  ,  89.18  ,  92.71  ,  94.85  ,\n",
       "         99.18  ,  86.33  ,  71.94  ,  67.18  ,  62.98  ,  69.45  ,\n",
       "         67.56  ,  67.92  ,  68.4   ,  67.97  ,  76.33  ,  95.79  ,\n",
       "        112.36  ,  82.03  ,  73.83  ,  66.12  ,  63.24  ,  63.98  ,\n",
       "         69.1   ,  70.04  ,  80.03  ,  87.92  ,  97.07  , 106.52  ,\n",
       "        108.93  ,  95.17  ,  74.31  ,  62.63  ,  69.92  ,  70.58  ,\n",
       "         74.63  ,  78.69  ,  81.82  ,  82.36  ,  89.44  , 102.01  ,\n",
       "        116.12  ,  92.06  ,  82.7   ,  66.62  ,  68.11  ,  73.48  ,\n",
       "         82.04  ,  81.19  ,  95.05  ],\n",
       "       [ 71.25  ,  71.35  ,  70.9   ,  71.92  ,  72.91  ,  74.39  ,\n",
       "         73.1   ,  70.24  ,  69.12  ,  68.98  ,  68.58  ,  69.5   ,\n",
       "         70.14  ,  70.58  ,  70.78  ,  72.78  ,  72.84  ,  74.74  ,\n",
       "         76.43  ,  81.2   ,  82.04  ,  79.67  ,  81.25  ,  85.88  ,\n",
       "         91.35  , 101.32  , 102.45  ,  98.18  , 105.1   , 104.85  ,\n",
       "        111.48  , 118.51  , 118.92  , 109.87  , 105.22  , 105.45  ,\n",
       "        115.61  , 116.61  , 120.39  , 119.2   , 119.92  , 120.57  ,\n",
       "        123.37  , 121.39  , 118.16  , 108.84  , 100.78  ,  99.92  ,\n",
       "        100.65  ,  98.92  , 100.31  ,  96.41  , 101.24  , 118.7   ,\n",
       "        133.29  , 130.31  , 122.4   , 104.98  , 107.54  , 110.74  ,\n",
       "        110.51  , 111.46  , 113.42  , 118.15  , 114.    , 124.91  ,\n",
       "        126.06  , 123.3   , 111.61  ,  98.82  ,  97.47  , 103.01  ,\n",
       "        109.36  , 104.79  , 105.09  , 103.16  , 106.52  , 121.68  ,\n",
       "        125.32  , 123.41  , 108.48  ,  98.73  ,  96.25  , 100.12  ,\n",
       "        101.29  , 102.81  , 108.53  ]])"
      ]
     },
     "execution_count": 5,
     "metadata": {},
     "output_type": "execute_result"
    }
   ],
   "source": [
    "np.loadtxt('numpy-dados/apples_ts.csv', delimiter=',', usecols=np.arange(1, 88, 1))"
   ]
  },
  {
   "cell_type": "markdown",
   "metadata": {},
   "source": [
    "#### Outra forma de carregar os dados\n",
    "\n",
    "Sempre que iniciamos o Colab, precisamos subir nosso arquivo, o que pode ser um pouco trabalhoso. Pensando nisso, veremos outra maneira de carregar nossos dados.\n",
    "\n",
    "Para isso, temos que salvar o arquivo no GitHub e, ao abri-lo, clicamos na opção \"Raw\". Uma nova janela será aberta com os dados dispostos dessa maneira:\n",
    "\n",
    "Copiaremos o link desta janela e o passaremos para uma variável chamada url, em uma célula do Colab. Vale ressaltar que precisamos passá-lo entre aspas.\n",
    "\n",
    "Após executar esta célula, podemos passar a variável url como primeiro argumento de np.loadtxt() ao invés do nome do arquivo. Por fim, podemos passar todo o comando para uma nova variável que chamaremos de dado:"
   ]
  },
  {
   "cell_type": "code",
   "execution_count": 4,
   "metadata": {},
   "outputs": [],
   "source": [
    "url = 'https://raw.githubusercontent.com/alura-cursos/numpy/dados/apples_ts.csv'\n",
    "dado = np.loadtxt(url, delimiter=',', usecols=np.arange(1, 88, 1))"
   ]
  },
  {
   "cell_type": "markdown",
   "metadata": {},
   "source": [
    "Dessa forma, temos toda a informação carregada na variável dado!"
   ]
  },
  {
   "cell_type": "markdown",
   "metadata": {},
   "source": [
    "### Vantagens dos Arrays\n",
    "\n",
    "As listas em Python são estruturas de dados básicas que podem conter elementos de diferentes tipos (inteiros, strings, outras listas, etc.). Já a Numpy (Numerical Python) é uma biblioteca do Python que fornece suporte a arrays multidimensionais, estruturas de dados mais avançadas e eficientes para cálculos numéricos."
   ]
  },
  {
   "cell_type": "markdown",
   "metadata": {},
   "source": [
    "Aqui está um exemplo de como transformar uma lista em um array Numpy:"
   ]
  },
  {
   "cell_type": "code",
   "execution_count": 3,
   "metadata": {},
   "outputs": [
    {
     "name": "stdout",
     "output_type": "stream",
     "text": [
      "Lista:  [1, 2, 3, 4, 5]\n",
      "Array:  [1 2 3 4 5]\n"
     ]
    }
   ],
   "source": [
    "import numpy as np\n",
    "\n",
    "# cria uma lista\n",
    "lista = [1, 2, 3, 4, 5]\n",
    "\n",
    "# transforma a lista em um array Numpy\n",
    "array = np.array(lista)\n",
    "\n",
    "print(\"Lista: \", lista)\n",
    "print(\"Array: \", array)"
   ]
  },
  {
   "cell_type": "markdown",
   "metadata": {},
   "source": [
    "Existem várias vantagens em usar arrays Numpy ao invés de listas regulares do Python e aqui estão algumas:\n",
    "\n",
    "* Eficiência de processamento\n",
    "    - As operações matemáticas em arrays Numpy são muito mais rápidas do que em listas regulares, pois a NumPy foi otimizada para trabalhar com conjuntos de dados homogêneos e libera memória do computador rapidamente.\n",
    "\n",
    "* Facilidade de uso\n",
    "    - As operações matemáticas em arrays Numpy são expressas de forma muito mais clara e concisa do que em listas regulares, tornando o código mais fácil de ler e manter.\n",
    "\n",
    "* Integração com outras bibliotecas\n",
    "    - A Numpy é uma das bibliotecas mais utilizadas em ciência de dados e aprendizado de máquina. Muitas outras bibliotecas, como a Pandas e a Matplotlib, são projetadas para trabalhar diretamente com arrays Numpy."
   ]
  },
  {
   "cell_type": "markdown",
   "metadata": {},
   "source": [
    "**Comparativo de performance: listas vs arrays**\n",
    "\n",
    "Focando na eficiência, podemos comparar o tempo levado para efetuar um cálculo utilizando listas e arrays."
   ]
  },
  {
   "cell_type": "code",
   "execution_count": 8,
   "metadata": {},
   "outputs": [
    {
     "name": "stdout",
     "output_type": "stream",
     "text": [
      "Tempo da operação com a lista:  0.23099470138549805\n",
      "Tempo da operação com o array:  0.0039975643157958984\n"
     ]
    }
   ],
   "source": [
    "import numpy as np\n",
    "import time\n",
    "\n",
    "# cria uma lista com 1000000 elementos\n",
    "lista = list(range(1000000))\n",
    "\n",
    "# transforma a lista em um array Numpy\n",
    "array = np.array(lista)\n",
    "\n",
    "# começa a cronometrar o tempo para a operação com a lista\n",
    "start_time = time.time()\n",
    "\n",
    "# realiza a operação de elevar ao quadrado cada elemento da lista\n",
    "lista_quadrado = [i**2 for i in lista]\n",
    "\n",
    "# para o cronômetro\n",
    "list_time = time.time() - start_time\n",
    "\n",
    "# começa a cronometrar o tempo para a operação com o array\n",
    "start_time = time.time()\n",
    "\n",
    "# realiza a operação de elevar ao quadrado cada elemento do array\n",
    "array_quadrado = array**2\n",
    "\n",
    "# para o cronômetro\n",
    "array_time = time.time() - start_time\n",
    "\n",
    "print(\"Tempo da operação com a lista: \", list_time)\n",
    "print(\"Tempo da operação com o array: \", array_time)"
   ]
  },
  {
   "cell_type": "markdown",
   "metadata": {},
   "source": [
    "### Dimensão dos Arrays"
   ]
  },
  {
   "cell_type": "code",
   "execution_count": 9,
   "metadata": {},
   "outputs": [
    {
     "data": {
      "text/plain": [
       "array([[  1.2013,   2.2013,   3.2013,   4.2013,   5.2013,   6.2013,\n",
       "          7.2013,   8.2013,   9.2013,  10.2013,  11.2013,  12.2013,\n",
       "          1.2014,   2.2014,   3.2014,   4.2014,   5.2014,   6.2014,\n",
       "          7.2014,   8.2014,   9.2014,  10.2014,  11.2014,  12.2014,\n",
       "          1.2015,   2.2015,   3.2015,   4.2015,   5.2015,   6.2015,\n",
       "          7.2015,   8.2015,   9.2015,  10.2015,  11.2015,  12.2015,\n",
       "          1.2016,   2.2016,   3.2016,   4.2016,   5.2016,   6.2016,\n",
       "          7.2016,   8.2016,   9.2016,  10.2016,  11.2016,  12.2016,\n",
       "          1.2017,   2.2017,   3.2017,   4.2017,   5.2017,   6.2017,\n",
       "          7.2017,   8.2017,   9.2017,  10.2017,  11.2017,  12.2017,\n",
       "          1.2018,   2.2018,   3.2018,   4.2018,   5.2018,   6.2018,\n",
       "          7.2018,   8.2018,   9.2018,  10.2018,  11.2018,  12.2018,\n",
       "          1.2019,   2.2019,   3.2019,   4.2019,   5.2019,   6.2019,\n",
       "          7.2019,   8.2019,   9.2019,  10.2019,  11.2019,  12.2019,\n",
       "          1.202 ,   2.202 ,   3.202 ],\n",
       "       [ 79.72  ,  81.08  ,  79.68  ,  79.8   ,  80.63  ,  80.8   ,\n",
       "         80.28  ,  78.99  ,  76.77  ,  76.09  ,  76.36  ,  77.16  ,\n",
       "         77.5   ,  79.03  ,  80.28  ,  80.05  ,  78.11  ,  76.9   ,\n",
       "         77.68  ,  76.05  ,  75.53  ,  73.39  ,  78.36  ,  89.16  ,\n",
       "        105.43  , 104.82  , 101.15  ,  98.63  ,  99.96  ,  97.29  ,\n",
       "         98.64  , 104.26  , 102.63  ,  98.64  ,  97.17  ,  98.09  ,\n",
       "        103.07  , 110.26  , 110.84  , 112.28  , 111.1   , 110.06  ,\n",
       "        113.7   , 112.88  , 102.08  ,  95.54  ,  91.33  ,  89.99  ,\n",
       "         91.44  ,  93.51  ,  93.6   ,  93.78  ,  98.91  , 121.76  ,\n",
       "        129.6   , 127.9   , 114.55  , 101.88  ,  99.09  , 103.35  ,\n",
       "        106.58  , 108.    , 114.95  , 121.17  , 122.48  , 127.58  ,\n",
       "        131.89  , 129.36  , 104.26  ,  93.45  ,  92.93  ,  96.15  ,\n",
       "         99.1   , 103.    , 103.31  , 103.01  , 107.37  , 116.91  ,\n",
       "        125.29  , 123.94  , 113.03  , 102.19  ,  97.83  , 101.07  ,\n",
       "        103.44  , 108.23  , 110.28  ],\n",
       "       [ 42.67  ,  44.37  ,  44.73  ,  46.75  ,      nan,  51.59  ,\n",
       "         57.8   ,  62.14  ,  56.76  ,  50.85  ,  46.43  ,  46.73  ,\n",
       "         45.85  ,  49.25  ,  48.14  ,  49.18  ,  49.49  ,  49.83  ,\n",
       "         49.14  ,  63.21  ,  61.2   ,  60.34  ,  62.2   ,  74.2   ,\n",
       "         75.32  ,  75.92  ,  72.89  ,  74.85  ,  92.19  ,  99.7   ,\n",
       "        102.78  ,  92.67  ,  90.63  ,  83.31  ,  75.5   ,  74.6   ,\n",
       "         76.94  ,  83.04  ,  80.74  ,  80.29  ,  82.82  ,  86.29  ,\n",
       "         87.41  ,  85.1   ,  78.08  ,  76.06  ,  69.23  ,  69.04  ,\n",
       "         64.48  ,  65.73  ,  67.2   ,  70.25  ,  82.59  ,  92.12  ,\n",
       "        100.82  ,  95.23  ,  89.51  ,  82.84  ,  82.3   ,  83.76  ,\n",
       "         84.72  ,  83.91  ,  99.14  , 101.6   , 113.03  , 119.54  ,\n",
       "        118.09  , 107.32  ,  82.6   ,  77.4   ,  71.77  ,  71.25  ,\n",
       "         71.35  ,  73.62  ,  76.2   ,  74.15  ,  75.67  ,  79.2   ,\n",
       "         80.85  ,  85.33  ,  75.02  ,  77.95  ,  78.98  ,  76.55  ,\n",
       "         74.89  ,  70.    ,  81.53  ],\n",
       "       [ 62.55  ,  62.73  ,  63.43  ,  63.83  ,  66.06  ,  69.22  ,\n",
       "         72.07  ,  69.31  ,  65.18  ,  62.13  ,  64.17  ,  65.5   ,\n",
       "         66.85  ,  68.38  ,  68.77  ,  69.32  ,  69.77  ,  70.17  ,\n",
       "         70.76  ,  75.16  ,  74.86  ,  71.47  ,  76.08  ,  82.11  ,\n",
       "         94.63  ,  98.54  ,  97.84  ,  94.54  ,  97.88  ,  97.73  ,\n",
       "        100.89  , 104.88  , 104.39  , 101.9   ,  98.99  ,  99.42  ,\n",
       "        106.37  , 113.89  , 114.78  , 115.6   , 115.89  , 117.66  ,\n",
       "        118.27  , 114.19  , 101.81  ,  91.62  ,  90.15  ,  90.55  ,\n",
       "         92.3   ,  91.75  ,  92.    ,  92.57  , 100.28  , 114.33  ,\n",
       "        122.17  , 117.83  , 112.49  ,  93.7   ,  97.17  ,  95.64  ,\n",
       "        102.21  , 107.58  , 110.48  , 117.73  , 122.07  , 128.58  ,\n",
       "        131.12  , 127.08  , 110.99  ,  97.43  ,  92.05  ,  93.21  ,\n",
       "         98.58  , 100.23  , 102.09  , 101.73  , 107.28  , 115.35  ,\n",
       "        123.03  , 123.08  , 109.71  ,  97.22  ,  95.75  ,  97.09  ,\n",
       "         98.18  , 103.1   , 110.6   ],\n",
       "       [ 48.26  ,  51.01  ,  50.91  ,  53.94  ,  61.27  ,  65.44  ,\n",
       "         56.51  ,  53.    ,  43.87  ,  42.12  ,  43.98  ,  44.66  ,\n",
       "         47.73  ,  52.31  ,  56.8   ,  51.15  ,  54.63  ,  55.8   ,\n",
       "         57.31  ,  53.81  ,  55.5   ,  52.95  ,  53.29  ,  54.86  ,\n",
       "         71.72  ,  74.36  ,  78.25  ,  70.63  ,  77.06  ,  81.52  ,\n",
       "         84.12  ,  83.33  ,  66.98  ,  62.04  ,  59.79  ,  66.06  ,\n",
       "         71.99  ,  76.79  ,  80.98  ,  89.18  ,  92.71  ,  94.85  ,\n",
       "         99.18  ,  86.33  ,  71.94  ,  67.18  ,  62.98  ,  69.45  ,\n",
       "         67.56  ,  67.92  ,  68.4   ,  67.97  ,  76.33  ,  95.79  ,\n",
       "        112.36  ,  82.03  ,  73.83  ,  66.12  ,  63.24  ,  63.98  ,\n",
       "         69.1   ,  70.04  ,  80.03  ,  87.92  ,  97.07  , 106.52  ,\n",
       "        108.93  ,  95.17  ,  74.31  ,  62.63  ,  69.92  ,  70.58  ,\n",
       "         74.63  ,  78.69  ,  81.82  ,  82.36  ,  89.44  , 102.01  ,\n",
       "        116.12  ,  92.06  ,  82.7   ,  66.62  ,  68.11  ,  73.48  ,\n",
       "         82.04  ,  81.19  ,  95.05  ],\n",
       "       [ 71.25  ,  71.35  ,  70.9   ,  71.92  ,  72.91  ,  74.39  ,\n",
       "         73.1   ,  70.24  ,  69.12  ,  68.98  ,  68.58  ,  69.5   ,\n",
       "         70.14  ,  70.58  ,  70.78  ,  72.78  ,  72.84  ,  74.74  ,\n",
       "         76.43  ,  81.2   ,  82.04  ,  79.67  ,  81.25  ,  85.88  ,\n",
       "         91.35  , 101.32  , 102.45  ,  98.18  , 105.1   , 104.85  ,\n",
       "        111.48  , 118.51  , 118.92  , 109.87  , 105.22  , 105.45  ,\n",
       "        115.61  , 116.61  , 120.39  , 119.2   , 119.92  , 120.57  ,\n",
       "        123.37  , 121.39  , 118.16  , 108.84  , 100.78  ,  99.92  ,\n",
       "        100.65  ,  98.92  , 100.31  ,  96.41  , 101.24  , 118.7   ,\n",
       "        133.29  , 130.31  , 122.4   , 104.98  , 107.54  , 110.74  ,\n",
       "        110.51  , 111.46  , 113.42  , 118.15  , 114.    , 124.91  ,\n",
       "        126.06  , 123.3   , 111.61  ,  98.82  ,  97.47  , 103.01  ,\n",
       "        109.36  , 104.79  , 105.09  , 103.16  , 106.52  , 121.68  ,\n",
       "        125.32  , 123.41  , 108.48  ,  98.73  ,  96.25  , 100.12  ,\n",
       "        101.29  , 102.81  , 108.53  ]])"
      ]
     },
     "execution_count": 9,
     "metadata": {},
     "output_type": "execute_result"
    }
   ],
   "source": [
    "dado"
   ]
  },
  {
   "cell_type": "markdown",
   "metadata": {},
   "source": [
    "Note que temos as datas na linha identificando cada coluna, mas outra forma de visualizar os dados seria utilizando o nome das cidades como identificador de cada coluna. Para isso, teríamos que mudar a estrutura do dataset trocando as linhas pelas colunas.\n",
    "\n",
    "Mas, antes de alterá-la, vamos nos aprofundar um pouco mais nas dimensões dos dados.\n",
    "\n",
    "Usaremos, inicialmente, a função ```ndim```, que verifica a quantidade de dimensões do array. Ao executarmos o comando a seguir:"
   ]
  },
  {
   "cell_type": "code",
   "execution_count": 10,
   "metadata": {},
   "outputs": [
    {
     "data": {
      "text/plain": [
       "2"
      ]
     },
     "execution_count": 10,
     "metadata": {},
     "output_type": "execute_result"
    }
   ],
   "source": [
    "dado.ndim"
   ]
  },
  {
   "cell_type": "markdown",
   "metadata": {},
   "source": [
    "Este valor refere-se à quantidade de informações pelas quais nossos dados estão variando. Em nosso caso, temos um dado tabelado 2D, ou seja, 2 dimensões, linhas e colunas.\n",
    "\n",
    "Outra informação que podemos obter é a quantidade de elementos de um array. Para isso, utilizamos o comando:"
   ]
  },
  {
   "cell_type": "code",
   "execution_count": 22,
   "metadata": {},
   "outputs": [
    {
     "data": {
      "text/plain": [
       "522"
      ]
     },
     "execution_count": 22,
     "metadata": {},
     "output_type": "execute_result"
    }
   ],
   "source": [
    "dado.size"
   ]
  },
  {
   "cell_type": "markdown",
   "metadata": {},
   "source": [
    "Além disso, usaremos shape para verificar o número de elementos em cada dimensão:"
   ]
  },
  {
   "cell_type": "code",
   "execution_count": 23,
   "metadata": {},
   "outputs": [
    {
     "data": {
      "text/plain": [
       "(6, 87)"
      ]
     },
     "execution_count": 23,
     "metadata": {},
     "output_type": "execute_result"
    }
   ],
   "source": [
    "dado.shape"
   ]
  },
  {
   "cell_type": "markdown",
   "metadata": {},
   "source": [
    "O que significa que temos 6 linhas e 87 colunas em nosso dataset.\n",
    "\n",
    "Mas, como já dito, podemos inverter a estrutura dos nossos dados trocando as linhas por colunas. Para isso, utilizamos o método da transposição, T:"
   ]
  },
  {
   "cell_type": "code",
   "execution_count": 24,
   "metadata": {},
   "outputs": [
    {
     "data": {
      "text/plain": [
       "array([[  1.2013,  79.72  ,  42.67  ,  62.55  ,  48.26  ,  71.25  ],\n",
       "       [  2.2013,  81.08  ,  44.37  ,  62.73  ,  51.01  ,  71.35  ],\n",
       "       [  3.2013,  79.68  ,  44.73  ,  63.43  ,  50.91  ,  70.9   ],\n",
       "       [  4.2013,  79.8   ,  46.75  ,  63.83  ,  53.94  ,  71.92  ],\n",
       "       [  5.2013,  80.63  ,      nan,  66.06  ,  61.27  ,  72.91  ],\n",
       "       [  6.2013,  80.8   ,  51.59  ,  69.22  ,  65.44  ,  74.39  ],\n",
       "       [  7.2013,  80.28  ,  57.8   ,  72.07  ,  56.51  ,  73.1   ],\n",
       "       [  8.2013,  78.99  ,  62.14  ,  69.31  ,  53.    ,  70.24  ],\n",
       "       [  9.2013,  76.77  ,  56.76  ,  65.18  ,  43.87  ,  69.12  ],\n",
       "       [ 10.2013,  76.09  ,  50.85  ,  62.13  ,  42.12  ,  68.98  ],\n",
       "       [ 11.2013,  76.36  ,  46.43  ,  64.17  ,  43.98  ,  68.58  ],\n",
       "       [ 12.2013,  77.16  ,  46.73  ,  65.5   ,  44.66  ,  69.5   ],\n",
       "       [  1.2014,  77.5   ,  45.85  ,  66.85  ,  47.73  ,  70.14  ],\n",
       "       [  2.2014,  79.03  ,  49.25  ,  68.38  ,  52.31  ,  70.58  ],\n",
       "       [  3.2014,  80.28  ,  48.14  ,  68.77  ,  56.8   ,  70.78  ],\n",
       "       [  4.2014,  80.05  ,  49.18  ,  69.32  ,  51.15  ,  72.78  ],\n",
       "       [  5.2014,  78.11  ,  49.49  ,  69.77  ,  54.63  ,  72.84  ],\n",
       "       [  6.2014,  76.9   ,  49.83  ,  70.17  ,  55.8   ,  74.74  ],\n",
       "       [  7.2014,  77.68  ,  49.14  ,  70.76  ,  57.31  ,  76.43  ],\n",
       "       [  8.2014,  76.05  ,  63.21  ,  75.16  ,  53.81  ,  81.2   ],\n",
       "       [  9.2014,  75.53  ,  61.2   ,  74.86  ,  55.5   ,  82.04  ],\n",
       "       [ 10.2014,  73.39  ,  60.34  ,  71.47  ,  52.95  ,  79.67  ],\n",
       "       [ 11.2014,  78.36  ,  62.2   ,  76.08  ,  53.29  ,  81.25  ],\n",
       "       [ 12.2014,  89.16  ,  74.2   ,  82.11  ,  54.86  ,  85.88  ],\n",
       "       [  1.2015, 105.43  ,  75.32  ,  94.63  ,  71.72  ,  91.35  ],\n",
       "       [  2.2015, 104.82  ,  75.92  ,  98.54  ,  74.36  , 101.32  ],\n",
       "       [  3.2015, 101.15  ,  72.89  ,  97.84  ,  78.25  , 102.45  ],\n",
       "       [  4.2015,  98.63  ,  74.85  ,  94.54  ,  70.63  ,  98.18  ],\n",
       "       [  5.2015,  99.96  ,  92.19  ,  97.88  ,  77.06  , 105.1   ],\n",
       "       [  6.2015,  97.29  ,  99.7   ,  97.73  ,  81.52  , 104.85  ],\n",
       "       [  7.2015,  98.64  , 102.78  , 100.89  ,  84.12  , 111.48  ],\n",
       "       [  8.2015, 104.26  ,  92.67  , 104.88  ,  83.33  , 118.51  ],\n",
       "       [  9.2015, 102.63  ,  90.63  , 104.39  ,  66.98  , 118.92  ],\n",
       "       [ 10.2015,  98.64  ,  83.31  , 101.9   ,  62.04  , 109.87  ],\n",
       "       [ 11.2015,  97.17  ,  75.5   ,  98.99  ,  59.79  , 105.22  ],\n",
       "       [ 12.2015,  98.09  ,  74.6   ,  99.42  ,  66.06  , 105.45  ],\n",
       "       [  1.2016, 103.07  ,  76.94  , 106.37  ,  71.99  , 115.61  ],\n",
       "       [  2.2016, 110.26  ,  83.04  , 113.89  ,  76.79  , 116.61  ],\n",
       "       [  3.2016, 110.84  ,  80.74  , 114.78  ,  80.98  , 120.39  ],\n",
       "       [  4.2016, 112.28  ,  80.29  , 115.6   ,  89.18  , 119.2   ],\n",
       "       [  5.2016, 111.1   ,  82.82  , 115.89  ,  92.71  , 119.92  ],\n",
       "       [  6.2016, 110.06  ,  86.29  , 117.66  ,  94.85  , 120.57  ],\n",
       "       [  7.2016, 113.7   ,  87.41  , 118.27  ,  99.18  , 123.37  ],\n",
       "       [  8.2016, 112.88  ,  85.1   , 114.19  ,  86.33  , 121.39  ],\n",
       "       [  9.2016, 102.08  ,  78.08  , 101.81  ,  71.94  , 118.16  ],\n",
       "       [ 10.2016,  95.54  ,  76.06  ,  91.62  ,  67.18  , 108.84  ],\n",
       "       [ 11.2016,  91.33  ,  69.23  ,  90.15  ,  62.98  , 100.78  ],\n",
       "       [ 12.2016,  89.99  ,  69.04  ,  90.55  ,  69.45  ,  99.92  ],\n",
       "       [  1.2017,  91.44  ,  64.48  ,  92.3   ,  67.56  , 100.65  ],\n",
       "       [  2.2017,  93.51  ,  65.73  ,  91.75  ,  67.92  ,  98.92  ],\n",
       "       [  3.2017,  93.6   ,  67.2   ,  92.    ,  68.4   , 100.31  ],\n",
       "       [  4.2017,  93.78  ,  70.25  ,  92.57  ,  67.97  ,  96.41  ],\n",
       "       [  5.2017,  98.91  ,  82.59  , 100.28  ,  76.33  , 101.24  ],\n",
       "       [  6.2017, 121.76  ,  92.12  , 114.33  ,  95.79  , 118.7   ],\n",
       "       [  7.2017, 129.6   , 100.82  , 122.17  , 112.36  , 133.29  ],\n",
       "       [  8.2017, 127.9   ,  95.23  , 117.83  ,  82.03  , 130.31  ],\n",
       "       [  9.2017, 114.55  ,  89.51  , 112.49  ,  73.83  , 122.4   ],\n",
       "       [ 10.2017, 101.88  ,  82.84  ,  93.7   ,  66.12  , 104.98  ],\n",
       "       [ 11.2017,  99.09  ,  82.3   ,  97.17  ,  63.24  , 107.54  ],\n",
       "       [ 12.2017, 103.35  ,  83.76  ,  95.64  ,  63.98  , 110.74  ],\n",
       "       [  1.2018, 106.58  ,  84.72  , 102.21  ,  69.1   , 110.51  ],\n",
       "       [  2.2018, 108.    ,  83.91  , 107.58  ,  70.04  , 111.46  ],\n",
       "       [  3.2018, 114.95  ,  99.14  , 110.48  ,  80.03  , 113.42  ],\n",
       "       [  4.2018, 121.17  , 101.6   , 117.73  ,  87.92  , 118.15  ],\n",
       "       [  5.2018, 122.48  , 113.03  , 122.07  ,  97.07  , 114.    ],\n",
       "       [  6.2018, 127.58  , 119.54  , 128.58  , 106.52  , 124.91  ],\n",
       "       [  7.2018, 131.89  , 118.09  , 131.12  , 108.93  , 126.06  ],\n",
       "       [  8.2018, 129.36  , 107.32  , 127.08  ,  95.17  , 123.3   ],\n",
       "       [  9.2018, 104.26  ,  82.6   , 110.99  ,  74.31  , 111.61  ],\n",
       "       [ 10.2018,  93.45  ,  77.4   ,  97.43  ,  62.63  ,  98.82  ],\n",
       "       [ 11.2018,  92.93  ,  71.77  ,  92.05  ,  69.92  ,  97.47  ],\n",
       "       [ 12.2018,  96.15  ,  71.25  ,  93.21  ,  70.58  , 103.01  ],\n",
       "       [  1.2019,  99.1   ,  71.35  ,  98.58  ,  74.63  , 109.36  ],\n",
       "       [  2.2019, 103.    ,  73.62  , 100.23  ,  78.69  , 104.79  ],\n",
       "       [  3.2019, 103.31  ,  76.2   , 102.09  ,  81.82  , 105.09  ],\n",
       "       [  4.2019, 103.01  ,  74.15  , 101.73  ,  82.36  , 103.16  ],\n",
       "       [  5.2019, 107.37  ,  75.67  , 107.28  ,  89.44  , 106.52  ],\n",
       "       [  6.2019, 116.91  ,  79.2   , 115.35  , 102.01  , 121.68  ],\n",
       "       [  7.2019, 125.29  ,  80.85  , 123.03  , 116.12  , 125.32  ],\n",
       "       [  8.2019, 123.94  ,  85.33  , 123.08  ,  92.06  , 123.41  ],\n",
       "       [  9.2019, 113.03  ,  75.02  , 109.71  ,  82.7   , 108.48  ],\n",
       "       [ 10.2019, 102.19  ,  77.95  ,  97.22  ,  66.62  ,  98.73  ],\n",
       "       [ 11.2019,  97.83  ,  78.98  ,  95.75  ,  68.11  ,  96.25  ],\n",
       "       [ 12.2019, 101.07  ,  76.55  ,  97.09  ,  73.48  , 100.12  ],\n",
       "       [  1.202 , 103.44  ,  74.89  ,  98.18  ,  82.04  , 101.29  ],\n",
       "       [  2.202 , 108.23  ,  70.    , 103.1   ,  81.19  , 102.81  ],\n",
       "       [  3.202 , 110.28  ,  81.53  , 110.6   ,  95.05  , 108.53  ]])"
      ]
     },
     "execution_count": 24,
     "metadata": {},
     "output_type": "execute_result"
    }
   ],
   "source": [
    "dado.T"
   ]
  },
  {
   "cell_type": "markdown",
   "metadata": {},
   "source": [
    "Perceba que está diferente do array retornado anteriormente. Isso, porque, agora, cada coluna representa os preços de determinada cidade, com exceção da primeira, que corresponde à data."
   ]
  },
  {
   "cell_type": "markdown",
   "metadata": {},
   "source": [
    "#### Guardando a informação\n",
    "Fizemos a transposição e queremos salvá-la. Para isso, basta pegar o comando que utilizamos e passá-lo para uma variável, que chamaremos de dado_transposto:"
   ]
  },
  {
   "cell_type": "code",
   "execution_count": 5,
   "metadata": {},
   "outputs": [
    {
     "data": {
      "text/plain": [
       "(87, 6)"
      ]
     },
     "execution_count": 5,
     "metadata": {},
     "output_type": "execute_result"
    }
   ],
   "source": [
    "dados_transposto = dado.T\n",
    "dados_transposto.shape"
   ]
  },
  {
   "cell_type": "markdown",
   "metadata": {},
   "source": [
    "#### Obtendo dimensões\n",
    "\n",
    "Um colega pediu para você carregar uma base de dados e verificar o número de linhas e colunas do arquivo carregado. Ele estava com dúvidas se o número total de linhas havia sido carregado.\n",
    "\n",
    "Como determinar as dimensões corretas de um array?\n",
    "\n",
    "Para responder essa pergunta você precisará do dataset. Você pode usar a opção skiprows=1 para pular a primeira linha do arquivo."
   ]
  },
  {
   "cell_type": "code",
   "execution_count": 7,
   "metadata": {},
   "outputs": [
    {
     "data": {
      "text/plain": [
       "array([[3.00000e+00, 5.18217e+03],\n",
       "       [        nan,         nan],\n",
       "       [1.00000e+00, 5.06000e+03],\n",
       "       [2.00000e+00, 5.12072e+03],\n",
       "       [5.00000e+00, 5.30729e+03],\n",
       "       [6.00000e+00, 5.37097e+03],\n",
       "       [7.00000e+00, 5.43543e+03],\n",
       "       [8.00000e+00, 5.50065e+03],\n",
       "       [9.00000e+00, 5.56666e+03],\n",
       "       [1.00000e+01, 5.63346e+03],\n",
       "       [1.10000e+01, 5.70106e+03],\n",
       "       [1.20000e+01, 5.76947e+03]])"
      ]
     },
     "execution_count": 7,
     "metadata": {},
     "output_type": "execute_result"
    }
   ],
   "source": [
    "dataset = np.loadtxt('https://raw.githubusercontent.com/allanspadini/numpy/dados/bytebank.csv', delimiter=',', skiprows=1, dtype=float)\n",
    "dataset"
   ]
  },
  {
   "cell_type": "code",
   "execution_count": 39,
   "metadata": {},
   "outputs": [
    {
     "name": "stdout",
     "output_type": "stream",
     "text": [
      "2\n",
      "(12, 2)\n"
     ]
    }
   ],
   "source": [
    "print(dataset.ndim)\n",
    "print(dataset.shape)"
   ]
  },
  {
   "cell_type": "markdown",
   "metadata": {},
   "source": [
    "## Exploração dos dados"
   ]
  },
  {
   "cell_type": "markdown",
   "metadata": {},
   "source": [
    "### Visualização e seleção\n",
    "Agora, vamos visualizar nossas informações para melhor entender a evolução desses dados no decorrer do tempo.\n",
    "\n",
    "Primeiramente, vamos separar as informações do array que coletamos. Lembre-se a primeira coluna é diferente das demais por representar a data, então criaremos um array chamado datas para armazenar uma coluna específica do array dado_transposto.\n",
    "\n",
    "Sendo assim, chamamos nosso array e entre colchete usamos : entre dois números para informar um intervalo, mas, neste caso, queremos pegar todas as linhas do dataset, por isso o utilizamos sozinho.\n",
    "\n",
    "Em seguida, passamos a coluna em questão. Por ser a primeira, corresponde à posição 0."
   ]
  },
  {
   "cell_type": "code",
   "execution_count": 8,
   "metadata": {},
   "outputs": [
    {
     "data": {
      "text/plain": [
       "array([ 1.2013,  2.2013,  3.2013,  4.2013,  5.2013,  6.2013,  7.2013,\n",
       "        8.2013,  9.2013, 10.2013, 11.2013, 12.2013,  1.2014,  2.2014,\n",
       "        3.2014,  4.2014,  5.2014,  6.2014,  7.2014,  8.2014,  9.2014,\n",
       "       10.2014, 11.2014, 12.2014,  1.2015,  2.2015,  3.2015,  4.2015,\n",
       "        5.2015,  6.2015,  7.2015,  8.2015,  9.2015, 10.2015, 11.2015,\n",
       "       12.2015,  1.2016,  2.2016,  3.2016,  4.2016,  5.2016,  6.2016,\n",
       "        7.2016,  8.2016,  9.2016, 10.2016, 11.2016, 12.2016,  1.2017,\n",
       "        2.2017,  3.2017,  4.2017,  5.2017,  6.2017,  7.2017,  8.2017,\n",
       "        9.2017, 10.2017, 11.2017, 12.2017,  1.2018,  2.2018,  3.2018,\n",
       "        4.2018,  5.2018,  6.2018,  7.2018,  8.2018,  9.2018, 10.2018,\n",
       "       11.2018, 12.2018,  1.2019,  2.2019,  3.2019,  4.2019,  5.2019,\n",
       "        6.2019,  7.2019,  8.2019,  9.2019, 10.2019, 11.2019, 12.2019,\n",
       "        1.202 ,  2.202 ,  3.202 ])"
      ]
     },
     "execution_count": 8,
     "metadata": {},
     "output_type": "execute_result"
    }
   ],
   "source": [
    "# Recupera as primeiras duas linhas\n",
    "dados_transposto[0:2]\n",
    "\n",
    "# Recupera todas as linhas\n",
    "dados_transposto[:]\n",
    "\n",
    "# Recupera todas as linhas somente da coluna 0\n",
    "datas = dados_transposto[:, 0]\n",
    "datas"
   ]
  },
  {
   "cell_type": "markdown",
   "metadata": {},
   "source": [
    "Agora, podemos separar as informações referente aos preços. Vamos armazená-las em uma variável chamada precos. Temos 5 localidades, que correspondem às 5 colunas, então nosso intervalo vai de 1 a 6.\n",
    "\n",
    "Lembre-se que temos sempre que somar +1 ao número final para que ele seja englobado."
   ]
  },
  {
   "cell_type": "code",
   "execution_count": 11,
   "metadata": {},
   "outputs": [],
   "source": [
    "# Recupera todas as linhas das colunas de 1 à 5\n",
    "precos = dados_transposto[:, 1:6]"
   ]
  },
  {
   "cell_type": "markdown",
   "metadata": {},
   "source": [
    "#### Criando visuais para os dados\n",
    "Queremos visualizar nossas informações, mas não conseguimos gerar gráficos com a NumPy. Para isso, importaremos a biblioteca Matplotlib e a apelidaremos de plt:"
   ]
  },
  {
   "cell_type": "code",
   "execution_count": 9,
   "metadata": {},
   "outputs": [],
   "source": [
    "import matplotlib.pyplot as plt"
   ]
  },
  {
   "cell_type": "markdown",
   "metadata": {},
   "source": [
    "Em seguida, usaremos a função plot() passando a informação que queremos nos eixos x e y, respectivamente. No x, colocaremos as datas, no y, os preços da cidade de Moscow. Para selecionar os valores dessa cidade utilizamos o índice 0"
   ]
  },
  {
   "cell_type": "code",
   "execution_count": 17,
   "metadata": {},
   "outputs": [
    {
     "data": {
      "text/plain": [
       "[<matplotlib.lines.Line2D at 0x1ab2f8e6408>]"
      ]
     },
     "execution_count": 17,
     "metadata": {},
     "output_type": "execute_result"
    },
    {
     "data": {
      "image/png": "[encoded data removed]",
      "text/plain": [
       "<Figure size 432x288 with 1 Axes>"
      ]
     },
     "metadata": {
      "needs_background": "light"
     },
     "output_type": "display_data"
    }
   ],
   "source": [
    "plt.plot(datas, precos[:,0])"
   ]
  },
  {
   "cell_type": "markdown",
   "metadata": {},
   "source": [
    "Como retorno, temos um gráfico de linhas que vai de 2 a 12 no eixo x, e de 80 a 130 no eixo y. Como queríamos as datas no eixo x, os números provavelmente correspondem aos meses do ano. Mas note que o gráfico está confuso, com várias linhas entrelaçadas, dificultando a leitura.\n",
    "\n",
    "O que acontece é que essas datas estão sendo interpretadas como números. Ou seja, janeiro de 2013 (1.2013) está sendo lindo como 1,2013.\n",
    "\n",
    "Para solucionar este problema, usaremos a função arange() para criar uma sequência com esses números, informando que correspondem aos 87 meses, portanto, de 1 a 88:"
   ]
  },
  {
   "cell_type": "code",
   "execution_count": 12,
   "metadata": {},
   "outputs": [
    {
     "data": {
      "text/plain": [
       "[<matplotlib.lines.Line2D at 0x182aed5e248>]"
      ]
     },
     "execution_count": 12,
     "metadata": {},
     "output_type": "execute_result"
    },
    {
     "data": {
      "image/png": "[encoded data removed]",
      "text/plain": [
       "<Figure size 432x288 with 1 Axes>"
      ]
     },
     "metadata": {
      "needs_background": "light"
     },
     "output_type": "display_data"
    }
   ],
   "source": [
    "datas = np.arange(1, 88)\n",
    "plt.plot(datas,precos[:,0])"
   ]
  },
  {
   "cell_type": "markdown",
   "metadata": {},
   "source": [
    "O gráfico retornado agora é outro. O eixo y ainda possui números de 80 a 130, mas o eixo x vai de 0 a 80. Além do mais, temos uma só linha que faz curvas. É possível identificar, inclusive, que o preço está crescendo no decorrer do tempo."
   ]
  },
  {
   "cell_type": "markdown",
   "metadata": {},
   "source": [
    "#### Separando por cidades\n",
    "Por fim, excluiremos o comando datas e criaremos uma variável para cada uma das colunas de preços. Dessa forma, conseguiremos identificar cada uma das cidades separadamente."
   ]
  },
  {
   "cell_type": "code",
   "execution_count": 13,
   "metadata": {},
   "outputs": [],
   "source": [
    "Moscow = precos[:,0]\n",
    "Kaliningrad = precos[:,1]\n",
    "Petersburg = precos[:,2]\n",
    "Krasnodar = precos[:,3]\n",
    "Ekaterinburg = precos[:,4]"
   ]
  },
  {
   "cell_type": "code",
   "execution_count": 50,
   "metadata": {},
   "outputs": [
    {
     "data": {
      "text/plain": [
       "array([ 79.72,  81.08,  79.68,  79.8 ,  80.63,  80.8 ,  80.28,  78.99,\n",
       "        76.77,  76.09,  76.36,  77.16,  77.5 ,  79.03,  80.28,  80.05,\n",
       "        78.11,  76.9 ,  77.68,  76.05,  75.53,  73.39,  78.36,  89.16,\n",
       "       105.43, 104.82, 101.15,  98.63,  99.96,  97.29,  98.64, 104.26,\n",
       "       102.63,  98.64,  97.17,  98.09, 103.07, 110.26, 110.84, 112.28,\n",
       "       111.1 , 110.06, 113.7 , 112.88, 102.08,  95.54,  91.33,  89.99,\n",
       "        91.44,  93.51,  93.6 ,  93.78,  98.91, 121.76, 129.6 , 127.9 ,\n",
       "       114.55, 101.88,  99.09, 103.35, 106.58, 108.  , 114.95, 121.17,\n",
       "       122.48, 127.58, 131.89, 129.36, 104.26,  93.45,  92.93,  96.15,\n",
       "        99.1 , 103.  , 103.31, 103.01, 107.37, 116.91, 125.29, 123.94,\n",
       "       113.03, 102.19,  97.83, 101.07, 103.44, 108.23, 110.28])"
      ]
     },
     "execution_count": 50,
     "metadata": {},
     "output_type": "execute_result"
    }
   ],
   "source": [
    "Moscow"
   ]
  },
  {
   "cell_type": "markdown",
   "metadata": {},
   "source": [
    "### Comparação entre arrays\n",
    "\n",
    "Separamos nossos dados e conseguimos gerar um gráfico. Analisando o gráfico, percebemos que há uma variação no decorrer do tempo. Então podemos nos questionar: será que tem a ver com a época do ano?\n",
    "\n",
    "Esta é uma informação que podemos analisar, então usaremos o array de Moscow e tentaremos separá-lo em partes."
   ]
  },
  {
   "cell_type": "code",
   "execution_count": 51,
   "metadata": {},
   "outputs": [
    {
     "data": {
      "text/plain": [
       "(87,)"
      ]
     },
     "execution_count": 51,
     "metadata": {},
     "output_type": "execute_result"
    }
   ],
   "source": [
    "Moscow.shape"
   ]
  },
  {
   "cell_type": "markdown",
   "metadata": {},
   "source": [
    "Este comando nos retorna (87,), que são as separações que fizemos anteriormente para os meses. Ou seja, temos um array unidimensional, que consistem em uma sequência de valores."
   ]
  },
  {
   "cell_type": "markdown",
   "metadata": {},
   "source": [
    "#### Separando por anos\n",
    "Para continuar, vamos separá-lo em partes de 1 ano. Esta separação é feita semelhantemente à de um array bidimensional:"
   ]
  },
  {
   "cell_type": "code",
   "execution_count": 14,
   "metadata": {},
   "outputs": [],
   "source": [
    "\n",
    "Moscow_ano1 = Moscow[0:12] \n",
    "Moscow_ano2 = Moscow[12:24]\n",
    "Moscow_ano3 = Moscow[24:36]\n",
    "Moscow_ano4 = Moscow[36:48]"
   ]
  },
  {
   "cell_type": "markdown",
   "metadata": {},
   "source": [
    "#### Visualizando os dados selecionados\n",
    "Separamos os 4 primeiros anos e vamos gerar gráficos.\n",
    "\n",
    "Para o intervalo do ano 1, passamos os eixos x e y:"
   ]
  },
  {
   "cell_type": "code",
   "execution_count": 53,
   "metadata": {},
   "outputs": [
    {
     "data": {
      "text/plain": [
       "[<matplotlib.lines.Line2D at 0x21f441f7d48>]"
      ]
     },
     "execution_count": 53,
     "metadata": {},
     "output_type": "execute_result"
    },
    {
     "data": {
      "image/png": "[encoded data removed]",
      "text/plain": [
       "<Figure size 432x288 with 1 Axes>"
      ]
     },
     "metadata": {
      "needs_background": "light"
     },
     "output_type": "display_data"
    }
   ],
   "source": [
    "plt.plot(np.arange(1,13,1), Moscow_ano1)"
   ]
  },
  {
   "cell_type": "markdown",
   "metadata": {},
   "source": [
    "O retorno é um gráfico que vai de 2 a 12 no eixo x, e de 76 a 81 do eixo y, representando o preço no decorrer dos meses do ano.\n",
    "\n",
    "Faremos este mesmo processo para os anos seguintes, todos na mesma célula:"
   ]
  },
  {
   "cell_type": "code",
   "execution_count": 54,
   "metadata": {},
   "outputs": [
    {
     "data": {
      "text/plain": [
       "[<matplotlib.lines.Line2D at 0x21f4428b8c8>]"
      ]
     },
     "execution_count": 54,
     "metadata": {},
     "output_type": "execute_result"
    },
    {
     "data": {
      "image/png": "[encoded data removed]",
      "text/plain": [
       "<Figure size 432x288 with 1 Axes>"
      ]
     },
     "metadata": {
      "needs_background": "light"
     },
     "output_type": "display_data"
    }
   ],
   "source": [
    "plt.plot(np.arange(1,13,1), Moscow_ano1)\n",
    "plt.plot(np.arange(1,13,1), Moscow_ano2)\n",
    "plt.plot(np.arange(1,13,1), Moscow_ano3)\n",
    "plt.plot(np.arange(1,13,1), Moscow_ano4)"
   ]
  },
  {
   "cell_type": "markdown",
   "metadata": {},
   "source": [
    "Ao executar este comando, temos um gráfico de 2 a 12 no eixo x, e de 75 a 115 no eixo y. Note que há uma linha de cada cor, correspondente a cada um dos anos.\n",
    "\n",
    "Há uma linha que apresenta um comportamento um pouco diferente das demais, mas, no geral, o preço é um pouco mais alto no início do ano e vai caindo ao final.\n",
    "\n",
    "Para melhor identificarmos essas informações, usaremos a função legend() que adiciona legendas ao gráfico. Para isso, basta adicioná-la ao final do comando anterior, passando a lista de nomes:"
   ]
  },
  {
   "cell_type": "code",
   "execution_count": 55,
   "metadata": {},
   "outputs": [
    {
     "data": {
      "text/plain": [
       "<matplotlib.legend.Legend at 0x21f41f283c8>"
      ]
     },
     "execution_count": 55,
     "metadata": {},
     "output_type": "execute_result"
    },
    {
     "data": {
      "image/png": "[encoded data removed]",
      "text/plain": [
       "<Figure size 432x288 with 1 Axes>"
      ]
     },
     "metadata": {
      "needs_background": "light"
     },
     "output_type": "display_data"
    }
   ],
   "source": [
    "plt.plot(np.arange(1,13,1), Moscow_ano1)\n",
    "plt.plot(np.arange(1,13,1), Moscow_ano2)\n",
    "plt.plot(np.arange(1,13,1), Moscow_ano3)\n",
    "plt.plot(np.arange(1,13,1), Moscow_ano4)\n",
    "plt.legend(['ano1', 'ano2', 'ano3', 'ano4'])"
   ]
  },
  {
   "cell_type": "markdown",
   "metadata": {},
   "source": [
    "Ao executarmos novamente, nosso gráfico passa a ter uma legenda indicando a qual ano cada linha se refere. Sendo azul ao ano 1; laranja, ano 2; verde, ano 3; e vermelho, ano 4.\n",
    "\n",
    "Com isso, conseguimos identificar que os 2 primeiros anos possuem preços mais baixos, enquanto nos 2 últimos o preço está mais elevado."
   ]
  },
  {
   "cell_type": "markdown",
   "metadata": {},
   "source": [
    "#### Comparando arrays: iguais ou próximos\n",
    "Se quisermos comparar o preço de 2 anos diferentes, podemos tentar verificar se algum desses intervalos são iguais.\n",
    "\n",
    "Para isso, temos a função array_equal(), que verifica se 2 arrays são iguais. Embora pareça meio óbvio que não são iguais, podemos alcançar uma comparação de valores que é visualmente inviável de identificar."
   ]
  },
  {
   "cell_type": "code",
   "execution_count": 56,
   "metadata": {},
   "outputs": [
    {
     "data": {
      "text/plain": [
       "False"
      ]
     },
     "execution_count": 56,
     "metadata": {},
     "output_type": "execute_result"
    }
   ],
   "source": [
    "np.array_equal(Moscow_ano3, Moscow_ano4)"
   ]
  },
  {
   "cell_type": "markdown",
   "metadata": {},
   "source": [
    "Embora sejam diferentes, essas diferença não é tão grande, já que conseguimos perceber que não houve uma inflação de ano para ano, por exemplo.\n",
    "\n",
    "Para verificar se há uma grande diferença entre os valores de um ano para outro, usamos a função ```allclose()```, que verifica se os arrays são próximos dentro de determinado intervalo.\n",
    "\n",
    "Essa função recebe os arrays que serão analisados e a distância a ser verificada, no caso, optaremos por 0.01, assim saberemos se a diferença é maior que este valor."
   ]
  },
  {
   "cell_type": "code",
   "execution_count": 57,
   "metadata": {},
   "outputs": [
    {
     "data": {
      "text/plain": [
       "False"
      ]
     },
     "execution_count": 57,
     "metadata": {},
     "output_type": "execute_result"
    }
   ],
   "source": [
    "np.allclose(Moscow_ano3, Moscow_ano4,0.01)"
   ]
  },
  {
   "cell_type": "code",
   "execution_count": 58,
   "metadata": {},
   "outputs": [
    {
     "data": {
      "text/plain": [
       "True"
      ]
     },
     "execution_count": 58,
     "metadata": {},
     "output_type": "execute_result"
    }
   ],
   "source": [
    "np.allclose(Moscow_ano3, Moscow_ano4, 10)"
   ]
  },
  {
   "cell_type": "markdown",
   "metadata": {},
   "source": [
    "Essa informação significa que não temos uma diferença maior que 10 entre os 2 arrays. Sendo assim, consideramos uma diferença pequena.\n",
    "\n",
    "Até agora, verificamos somente os arrays da cidade de Moscow. Então, a seguir, veremos se os dados das demais cidades estão utilizáveis!"
   ]
  },
  {
   "cell_type": "markdown",
   "metadata": {},
   "source": [
    "### Lidando com NANs\n",
    "\n",
    "Fizemos a comparação de 2 arrays da cidade de Moscow. Agora, queremos verificar os dados de outra cidade.\n",
    "\n",
    "Talvez você tenha reparado que uma das cidades possui um dado diferente. Vamos plotar este dado para entender o que há de diferente nele."
   ]
  },
  {
   "cell_type": "code",
   "execution_count": 59,
   "metadata": {},
   "outputs": [
    {
     "data": {
      "text/plain": [
       "[<matplotlib.lines.Line2D at 0x21f443ab748>]"
      ]
     },
     "execution_count": 59,
     "metadata": {},
     "output_type": "execute_result"
    },
    {
     "data": {
      "image/png": "[encoded data removed]",
      "text/plain": [
       "<Figure size 432x288 with 1 Axes>"
      ]
     },
     "metadata": {
      "needs_background": "light"
     },
     "output_type": "display_data"
    }
   ],
   "source": [
    "plt.plot(datas, Kaliningrad)"
   ]
  },
  {
   "cell_type": "markdown",
   "metadata": {},
   "source": [
    "Como retorno, temos um gráfico que vai de 0 a 80 no eixo x, e de 40 a 120 no eixo y. Ao analisá-lo, percebemos que, no geral, o preço cresce no decorrer do tempo.\n",
    "\n",
    "Porém, logo no início do trajeto da linha, ela apresenta uma falha. Vamos verificar chamando os dados da cidade:"
   ]
  },
  {
   "cell_type": "code",
   "execution_count": 60,
   "metadata": {},
   "outputs": [
    {
     "data": {
      "text/plain": [
       "array([ 42.67,  44.37,  44.73,  46.75,    nan,  51.59,  57.8 ,  62.14,\n",
       "        56.76,  50.85,  46.43,  46.73,  45.85,  49.25,  48.14,  49.18,\n",
       "        49.49,  49.83,  49.14,  63.21,  61.2 ,  60.34,  62.2 ,  74.2 ,\n",
       "        75.32,  75.92,  72.89,  74.85,  92.19,  99.7 , 102.78,  92.67,\n",
       "        90.63,  83.31,  75.5 ,  74.6 ,  76.94,  83.04,  80.74,  80.29,\n",
       "        82.82,  86.29,  87.41,  85.1 ,  78.08,  76.06,  69.23,  69.04,\n",
       "        64.48,  65.73,  67.2 ,  70.25,  82.59,  92.12, 100.82,  95.23,\n",
       "        89.51,  82.84,  82.3 ,  83.76,  84.72,  83.91,  99.14, 101.6 ,\n",
       "       113.03, 119.54, 118.09, 107.32,  82.6 ,  77.4 ,  71.77,  71.25,\n",
       "        71.35,  73.62,  76.2 ,  74.15,  75.67,  79.2 ,  80.85,  85.33,\n",
       "        75.02,  77.95,  78.98,  76.55,  74.89,  70.  ,  81.53])"
      ]
     },
     "execution_count": 60,
     "metadata": {},
     "output_type": "execute_result"
    }
   ],
   "source": [
    "Kaliningrad"
   ]
  },
  {
   "cell_type": "markdown",
   "metadata": {},
   "source": [
    "Entre os dados do array, note que temos um valor NaN, que significa Not a Number (não é um número). Geralmente acontece quando temos algum erro ao trabalhar com operações matemáticas, como ao dividir um número por 0, por exemplo."
   ]
  },
  {
   "cell_type": "markdown",
   "metadata": {},
   "source": [
    "#### Verificando a quantidade de valores NaN\n",
    "Antes de tratar esse dado, vamos verificar quantas ocorrências de NaN temos neste array. Para isso, temos a função isnan(), que verifica valores não numéricos e nos retorna True ou False."
   ]
  },
  {
   "cell_type": "code",
   "execution_count": 61,
   "metadata": {},
   "outputs": [
    {
     "data": {
      "text/plain": [
       "array([False, False, False, False,  True, False, False, False, False,\n",
       "       False, False, False, False, False, False, False, False, False,\n",
       "       False, False, False, False, False, False, False, False, False,\n",
       "       False, False, False, False, False, False, False, False, False,\n",
       "       False, False, False, False, False, False, False, False, False,\n",
       "       False, False, False, False, False, False, False, False, False,\n",
       "       False, False, False, False, False, False, False, False, False,\n",
       "       False, False, False, False, False, False, False, False, False,\n",
       "       False, False, False, False, False, False, False, False, False,\n",
       "       False, False, False, False, False, False])"
      ]
     },
     "execution_count": 61,
     "metadata": {},
     "output_type": "execute_result"
    }
   ],
   "source": [
    "np.isnan(Kaliningrad)"
   ]
  },
  {
   "cell_type": "markdown",
   "metadata": {},
   "source": [
    "Note que, para cada valor do array, temos um True ou False indicando se o dado se trata ou não de um número. Entre as ocorrências, somente um é considerado True, ou seja, um valor não numérico.\n",
    "\n",
    "Porém, esta estrutura não é viável quando temos um grande conjunto de valores, já que seria difícil identificar as ocorrências de True.\n",
    "\n",
    "Tendo isso em vista, podemos utilizar a função sum() envolvendo o comando np.isnan(). Desta forma, os valores do tipo False serão interpretados como 0*, enquanto os do tipo *True, como 1, assim, ao somarmos todos eles, nos será retornado o número de ocorrências correspondentes à NaN:"
   ]
  },
  {
   "cell_type": "code",
   "execution_count": 80,
   "metadata": {},
   "outputs": [
    {
     "data": {
      "text/plain": [
       "0"
      ]
     },
     "execution_count": 80,
     "metadata": {},
     "output_type": "execute_result"
    }
   ],
   "source": [
    "sum(np.isnan(Kaliningrad))"
   ]
  },
  {
   "cell_type": "markdown",
   "metadata": {},
   "source": [
    "#### Lidando com valores NaNs\n",
    "Uma forma de lidar com esse tipo de dado é interpolando o valor. No caso, poderíamos calcular a média entre o valor anterior e o posterior à NaN.\n",
    "\n",
    "Para isso, chamamos o array de Kaliningrad passando a posição do valor anterior à NaN e o somamos com o valor da posição posterior e dividimos o resultado por 2:"
   ]
  },
  {
   "cell_type": "code",
   "execution_count": 66,
   "metadata": {},
   "outputs": [
    {
     "data": {
      "text/plain": [
       "49.17"
      ]
     },
     "execution_count": 66,
     "metadata": {},
     "output_type": "execute_result"
    }
   ],
   "source": [
    "(Kaliningrad[3]+Kaliningrad[5])/2"
   ]
  },
  {
   "cell_type": "markdown",
   "metadata": {},
   "source": [
    "Outra opção para calcular a média, seria a função mean(), do NumPy. A aplicamos da seguinte forma:"
   ]
  },
  {
   "cell_type": "code",
   "execution_count": 67,
   "metadata": {},
   "outputs": [
    {
     "data": {
      "text/plain": [
       "49.17"
      ]
     },
     "execution_count": 67,
     "metadata": {},
     "output_type": "execute_result"
    }
   ],
   "source": [
    "np.mean([Kaliningrad[3],Kaliningrad[5]])"
   ]
  },
  {
   "cell_type": "markdown",
   "metadata": {},
   "source": [
    "Agora, podemos substituir NaN por este valor. Para isso, basta passarmos o comando anterior para o array na posição de NaN. Feito isso, podemos gerar novamente o gráfico."
   ]
  },
  {
   "cell_type": "code",
   "execution_count": 15,
   "metadata": {},
   "outputs": [
    {
     "data": {
      "text/plain": [
       "[<matplotlib.lines.Line2D at 0x182b0f3df08>]"
      ]
     },
     "execution_count": 15,
     "metadata": {},
     "output_type": "execute_result"
    },
    {
     "data": {
      "image/png": "[encoded data removed]",
      "text/plain": [
       "<Figure size 432x288 with 1 Axes>"
      ]
     },
     "metadata": {
      "needs_background": "light"
     },
     "output_type": "display_data"
    }
   ],
   "source": [
    "Kaliningrad[4] = np.mean([Kaliningrad[3],Kaliningrad[5]])\n",
    "plt.plot(datas, Kaliningrad)"
   ]
  },
  {
   "cell_type": "markdown",
   "metadata": {},
   "source": [
    "#### Comparando as médias do preço de duas cidades\n",
    "Esta média pode ser utilizada também para comparar 2 arrays diferentes, por exemplo.\n",
    "\n",
    "Para isso, vamos extrair a média do array de Moscow e Kaliningrad"
   ]
  },
  {
   "cell_type": "code",
   "execution_count": 69,
   "metadata": {},
   "outputs": [
    {
     "name": "stdout",
     "output_type": "stream",
     "text": [
      "98.79781609195402\n",
      "74.5506896551724\n"
     ]
    }
   ],
   "source": [
    "print(np.mean(Moscow))\n",
    "print(np.mean(Kaliningrad))"
   ]
  },
  {
   "cell_type": "markdown",
   "metadata": {},
   "source": [
    "## Operações entre Arrays\n",
    "\n",
    "Vamos tentar entender como os arrays estão crescendo"
   ]
  },
  {
   "cell_type": "markdown",
   "metadata": {},
   "source": [
    "### Diferenças entre Arrays"
   ]
  },
  {
   "cell_type": "code",
   "execution_count": 81,
   "metadata": {},
   "outputs": [
    {
     "data": {
      "text/plain": [
       "[<matplotlib.lines.Line2D at 0x21f4453a8c8>]"
      ]
     },
     "execution_count": 81,
     "metadata": {},
     "output_type": "execute_result"
    },
    {
     "data": {
      "image/png": "[encoded data removed]",
      "text/plain": [
       "<Figure size 432x288 with 1 Axes>"
      ]
     },
     "metadata": {
      "needs_background": "light"
     },
     "output_type": "display_data"
    }
   ],
   "source": [
    "plt.plot(datas,Moscow)"
   ]
  },
  {
   "cell_type": "markdown",
   "metadata": {},
   "source": [
    "Note que, apesar da linha subir e descer em diversos momentos, não podemos afirmar que, no geral, o preço das maças está crescendo no decorrer do tempo.\n",
    "\n",
    "Podemos, então, ajustar uma reta para entender a taxa de crescimento do preço.\n",
    "\n",
    "```y=ax+b```  é a equação da reta, onde o valor de y é equivalente ao preço das maçãs; x corresponde ao mês (valor de 1 a 87); a é o coeficiente angular; e b, coeficiente linear, onde a reta corta o eixo y.\n",
    "\n",
    "Podemos então, tentar ajustar esta reta supondo um valor, já que conhecemos o preço das maçãs, mas não o valor da reta. Antes, porém, precisamos definir que o x é corresponde às datas:"
   ]
  },
  {
   "cell_type": "code",
   "execution_count": 16,
   "metadata": {},
   "outputs": [],
   "source": [
    "x = datas"
   ]
  },
  {
   "cell_type": "code",
   "execution_count": 17,
   "metadata": {},
   "outputs": [],
   "source": [
    "y = 2*x+80"
   ]
  },
  {
   "cell_type": "code",
   "execution_count": 24,
   "metadata": {},
   "outputs": [
    {
     "data": {
      "text/plain": [
       "[<matplotlib.lines.Line2D at 0x1ab31bbe808>]"
      ]
     },
     "execution_count": 24,
     "metadata": {},
     "output_type": "execute_result"
    },
    {
     "data": {
      "image/png": "[encoded data removed]",
      "text/plain": [
       "<Figure size 432x288 with 1 Axes>"
      ]
     },
     "metadata": {
      "needs_background": "light"
     },
     "output_type": "display_data"
    }
   ],
   "source": [
    "plt.plot(datas,Moscow)\n",
    "plt.plot(x,y)"
   ]
  },
  {
   "cell_type": "markdown",
   "metadata": {},
   "source": [
    "Note que nos é retornado o gráfico com a linha de variação dos preços e uma reta laranja que parece não corresponder com os dados do gráfico. Podemos, então, pensar em como fazer para que ela se mantenha próxima aos dados.\n",
    "\n",
    "O primeiro passo pode ser verificar a diferença entre a reta e os dados, ou seja, analisar se a reta se ajusta aos dados. Para isso, podemos fazer uma subtração entre os dados de ambos:"
   ]
  },
  {
   "cell_type": "code",
   "execution_count": 18,
   "metadata": {},
   "outputs": [
    {
     "data": {
      "text/plain": [
       "array([  -2.28,   -2.92,   -6.32,   -8.2 ,   -9.37,  -11.2 ,  -13.72,\n",
       "        -17.01,  -21.23,  -23.91,  -25.64,  -26.84,  -28.5 ,  -28.97,\n",
       "        -29.72,  -31.95,  -35.89,  -39.1 ,  -40.32,  -43.95,  -46.47,\n",
       "        -50.61,  -47.64,  -38.84,  -24.57,  -27.18,  -32.85,  -37.37,\n",
       "        -38.04,  -42.71,  -43.36,  -39.74,  -43.37,  -49.36,  -52.83,\n",
       "        -53.91,  -50.93,  -45.74,  -47.16,  -47.72,  -50.9 ,  -53.94,\n",
       "        -52.3 ,  -55.12,  -67.92,  -76.46,  -82.67,  -86.01,  -86.56,\n",
       "        -86.49,  -88.4 ,  -90.22,  -87.09,  -66.24,  -60.4 ,  -64.1 ,\n",
       "        -79.45,  -94.12,  -98.91,  -96.65,  -95.42,  -96.  ,  -91.05,\n",
       "        -86.83,  -87.52,  -84.42,  -82.11,  -86.64, -113.74, -126.55,\n",
       "       -129.07, -127.85, -126.9 , -125.  , -126.69, -128.99, -126.63,\n",
       "       -119.09, -112.71, -116.06, -128.97, -141.81, -148.17, -146.93,\n",
       "       -146.56, -143.77, -143.72])"
      ]
     },
     "execution_count": 18,
     "metadata": {},
     "output_type": "execute_result"
    }
   ],
   "source": [
    "Moscow-y"
   ]
  },
  {
   "cell_type": "markdown",
   "metadata": {},
   "source": [
    "O array possui diversos valores negativos. Mas se a reta estivesse abaixo da linha de preços, teríamos valores positivos.\n",
    "\n",
    "Para lidar com este problema de valores negativos e positivos, podemos elevá-los ao quadrado utilizando a função power(), que eleva valores a uma potência. Basta passarmos o valor a ser elevando e a potência desejada."
   ]
  },
  {
   "cell_type": "code",
   "execution_count": 86,
   "metadata": {},
   "outputs": [
    {
     "data": {
      "text/plain": [
       "array([5.19840000e+00, 8.52640000e+00, 3.99424000e+01, 6.72400000e+01,\n",
       "       8.77969000e+01, 1.25440000e+02, 1.88238400e+02, 2.89340100e+02,\n",
       "       4.50712900e+02, 5.71688100e+02, 6.57409600e+02, 7.20385600e+02,\n",
       "       8.12250000e+02, 8.39260900e+02, 8.83278400e+02, 1.02080250e+03,\n",
       "       1.28809210e+03, 1.52881000e+03, 1.62570240e+03, 1.93160250e+03,\n",
       "       2.15946090e+03, 2.56137210e+03, 2.26956960e+03, 1.50854560e+03,\n",
       "       6.03684900e+02, 7.38752400e+02, 1.07912250e+03, 1.39651690e+03,\n",
       "       1.44704160e+03, 1.82414410e+03, 1.88008960e+03, 1.57926760e+03,\n",
       "       1.88095690e+03, 2.43640960e+03, 2.79100890e+03, 2.90628810e+03,\n",
       "       2.59386490e+03, 2.09214760e+03, 2.22406560e+03, 2.27719840e+03,\n",
       "       2.59081000e+03, 2.90952360e+03, 2.73529000e+03, 3.03821440e+03,\n",
       "       4.61312640e+03, 5.84613160e+03, 6.83432890e+03, 7.39772010e+03,\n",
       "       7.49263360e+03, 7.48052010e+03, 7.81456000e+03, 8.13964840e+03,\n",
       "       7.58466810e+03, 4.38773760e+03, 3.64816000e+03, 4.10881000e+03,\n",
       "       6.31230250e+03, 8.85857440e+03, 9.78318810e+03, 9.34122250e+03,\n",
       "       9.10497640e+03, 9.21600000e+03, 8.29010250e+03, 7.53944890e+03,\n",
       "       7.65975040e+03, 7.12673640e+03, 6.74205210e+03, 7.50648960e+03,\n",
       "       1.29367876e+04, 1.60149025e+04, 1.66590649e+04, 1.63456225e+04,\n",
       "       1.61036100e+04, 1.56250000e+04, 1.60503561e+04, 1.66384201e+04,\n",
       "       1.60351569e+04, 1.41824281e+04, 1.27035441e+04, 1.34699236e+04,\n",
       "       1.66332609e+04, 2.01100761e+04, 2.19543489e+04, 2.15884249e+04,\n",
       "       2.14798336e+04, 2.06698129e+04, 2.06554384e+04])"
      ]
     },
     "execution_count": 86,
     "metadata": {},
     "output_type": "execute_result"
    }
   ],
   "source": [
    "np.power(Moscow-y,2)"
   ]
  },
  {
   "cell_type": "markdown",
   "metadata": {},
   "source": [
    "Como retorno, temos um array com os valores elevados ao quadrado. Mas note que são valores muito grandes, com várias casas decimais, dificultando a análise deste ajuste.\n",
    "\n",
    "O ideal, portanto, é conseguir resumi-los em um único número, somando-os, por exemplo. Para isso, utilizaremos a função sum(), envolvendo o cálculo como parâmetro:"
   ]
  },
  {
   "cell_type": "code",
   "execution_count": 87,
   "metadata": {},
   "outputs": [
    {
     "data": {
      "text/plain": [
       "561349.9641"
      ]
     },
     "execution_count": 87,
     "metadata": {},
     "output_type": "execute_result"
    }
   ],
   "source": [
    "np.sum(np.power(Moscow-y,2))"
   ]
  },
  {
   "cell_type": "markdown",
   "metadata": {},
   "source": [
    "Um artifício final que podemos utilizar é calcular a raiz utilizando a função sqrt():"
   ]
  },
  {
   "cell_type": "code",
   "execution_count": 88,
   "metadata": {},
   "outputs": [
    {
     "data": {
      "text/plain": [
       "749.2329171225728"
      ]
     },
     "execution_count": 88,
     "metadata": {},
     "output_type": "execute_result"
    }
   ],
   "source": [
    "np.sqrt(np.sum(np.power(Moscow-y,2)))"
   ]
  },
  {
   "cell_type": "markdown",
   "metadata": {},
   "source": [
    "Este valor define a qualidade de nosso ajuste.\n",
    "\n",
    "Precisamos achar uma reta melhor, então tentemos com outro valor:"
   ]
  },
  {
   "cell_type": "code",
   "execution_count": 19,
   "metadata": {},
   "outputs": [],
   "source": [
    "y = 0.52*x+80"
   ]
  },
  {
   "cell_type": "code",
   "execution_count": 90,
   "metadata": {},
   "outputs": [
    {
     "data": {
      "text/plain": [
       "[<matplotlib.lines.Line2D at 0x21f445ec2c8>]"
      ]
     },
     "execution_count": 90,
     "metadata": {},
     "output_type": "execute_result"
    },
    {
     "data": {
      "image/png": "[encoded data removed]",
      "text/plain": [
       "<Figure size 432x288 with 1 Axes>"
      ]
     },
     "metadata": {
      "needs_background": "light"
     },
     "output_type": "display_data"
    }
   ],
   "source": [
    "plt.plot(datas,Moscow)\n",
    "plt.plot(x,y)"
   ]
  },
  {
   "cell_type": "markdown",
   "metadata": {},
   "source": [
    "Note que, agora, a reta perpassa a linha de variação dos preços. Para saber se o cálculo nos retorna um valor menor, vamos repeti-lo:"
   ]
  },
  {
   "cell_type": "code",
   "execution_count": 91,
   "metadata": {},
   "outputs": [
    {
     "data": {
      "text/plain": [
       "110.48504740461489"
      ]
     },
     "execution_count": 91,
     "metadata": {},
     "output_type": "execute_result"
    }
   ],
   "source": [
    "np.sqrt(np.sum(np.power(Moscow-y,2)))"
   ]
  },
  {
   "cell_type": "markdown",
   "metadata": {},
   "source": [
    "Temos um valor bem menor de ajuste. Vale ressaltar que este valor nunca será muito próximo de 0, porque o dado varia bastante, seja abaixo ou acima da reta.\n",
    "\n",
    "Por fim, usaremos uma função que resume todo o cálculo que fizemos: ```linalg.norm()```. Nela, passamos somente a diferença entre Moscow e y."
   ]
  },
  {
   "cell_type": "code",
   "execution_count": 92,
   "metadata": {},
   "outputs": [
    {
     "data": {
      "text/plain": [
       "110.48504740461489"
      ]
     },
     "execution_count": 92,
     "metadata": {},
     "output_type": "execute_result"
    }
   ],
   "source": [
    "np.linalg.norm(Moscow-y)"
   ]
  },
  {
   "cell_type": "markdown",
   "metadata": {},
   "source": [
    "Na sequência, veremos formas de calcular os valores de a e b, mas não por meio de tentativa e erro, como fizemos aqui, e sim por um cálculo que nos permita explorar mais funções da NumPy."
   ]
  },
  {
   "cell_type": "markdown",
   "metadata": {},
   "source": [
    "### Cópia de arrays"
   ]
  },
  {
   "cell_type": "code",
   "execution_count": 20,
   "metadata": {},
   "outputs": [
    {
     "name": "stdout",
     "output_type": "stream",
     "text": [
      "[120000 120000  11000 200000]\n",
      "[120000 120000  11000 200000]\n"
     ]
    }
   ],
   "source": [
    "preco_imoveis = np.array([10000,120000,11000,200000])\n",
    "preco_imoveis_sao_paulo = preco_imoveis\n",
    "preco_imoveis[0] = 120000\n",
    "\n",
    "print(preco_imoveis)\n",
    "print(preco_imoveis_sao_paulo)"
   ]
  },
  {
   "cell_type": "markdown",
   "metadata": {},
   "source": [
    "Repare que ao tentar alterar o primeiro elemento do array ```preco_imoveis```, o array ```preco_imoveis_sao_paulo``` também é alterado. Vamos tentar utilizar a função ```np.copy()``` para realizar a cópia."
   ]
  },
  {
   "cell_type": "code",
   "execution_count": 27,
   "metadata": {},
   "outputs": [
    {
     "name": "stdout",
     "output_type": "stream",
     "text": [
      "[ 80000 120000  11000 200000]\n",
      "[120000 120000  11000 200000]\n"
     ]
    }
   ],
   "source": [
    "preco_imoveis_sao_paulo = np.copy(preco_imoveis)\n",
    "preco_imoveis[0] = 80000\n",
    "\n",
    "print(preco_imoveis)\n",
    "print(preco_imoveis_sao_paulo)"
   ]
  },
  {
   "cell_type": "markdown",
   "metadata": {},
   "source": [
    "Repare que agora a alteração do array ```preco_imoveis``` não afeou o array ```preco_imoveis_sao_paulo```.\n",
    "Isso ocorre porque, quando usamos o sinal de igual para copiar o array, temos um novo array que aponta para os mesmos locais na memória. Já quando usamos o np.copy(), os locais na memória são diferentes."
   ]
  },
  {
   "cell_type": "markdown",
   "metadata": {},
   "source": [
    "### Multiplicação"
   ]
  },
  {
   "cell_type": "markdown",
   "metadata": {},
   "source": [
    "Existe uma fórmula para calcularmos os coeficientes angular e linear da reta, que nos permitem calcular o y e ajustar esta reta.\n",
    "O coeficiente angular pode ser obtido pela seguinte equação:\n",
    "\n",
    "$$ \\hat{a} = \\frac{n*Soma( X_i*Y_i ) - Soma( X_i )*Soma(Y_i)}{n Soma(X_i^2) - (Soma(X_i))^2}$$\n",
    "\n",
    "â = coeficiente angular;\n",
    "\n",
    "n = número de elementos;\n",
    "\n",
    "Y = Moscow;\n",
    "\n",
    "X = datas."
   ]
  },
  {
   "cell_type": "markdown",
   "metadata": {},
   "source": [
    "A equação de uma reta na forma y = ax + b é uma expressão matemática que descreve a relação entre os valores de x e y em uma linha reta. O valor de \"a\" representa a inclinação (ou declive) da reta, que é a taxa de variação entre os valores de x e y. O valor de \"b\" é o ponto de intercepção no eixo y, ou seja, o valor de y quando x é igual a zero. Com essa equação, é possível plotar a reta em um sistema de coordenadas cartesianas, onde o eixo x representa os valores de x e o eixo y representa os valores de y. A equação da reta é amplamente utilizada em várias áreas da matemática e também em outras áreas, como física e engenharia, para modelar dados e prever comportamentos futuros."
   ]
  },
  {
   "cell_type": "markdown",
   "metadata": {},
   "source": [
    "#### Calculando o coeficiente angular (a)"
   ]
  },
  {
   "cell_type": "code",
   "execution_count": 21,
   "metadata": {},
   "outputs": [],
   "source": [
    "Y =  Moscow\n",
    "X = datas\n",
    "n = np.size(Moscow)"
   ]
  },
  {
   "cell_type": "markdown",
   "metadata": {},
   "source": [
    "Precisaremos calcular o quadrado de cada elemento de um array. Anteriormente, utilizamos a .power() para fazer isso, mas podemos usar, também, o elemento seguido de 2 asteriscos e o valor da potência"
   ]
  },
  {
   "cell_type": "code",
   "execution_count": 34,
   "metadata": {},
   "outputs": [
    {
     "data": {
      "text/plain": [
       "array([   1,    4,    9,   16,   25,   36,   49,   64,   81,  100,  121,\n",
       "        144,  169,  196,  225,  256,  289,  324,  361,  400,  441,  484,\n",
       "        529,  576,  625,  676,  729,  784,  841,  900,  961, 1024, 1089,\n",
       "       1156, 1225, 1296, 1369, 1444, 1521, 1600, 1681, 1764, 1849, 1936,\n",
       "       2025, 2116, 2209, 2304, 2401, 2500, 2601, 2704, 2809, 2916, 3025,\n",
       "       3136, 3249, 3364, 3481, 3600, 3721, 3844, 3969, 4096, 4225, 4356,\n",
       "       4489, 4624, 4761, 4900, 5041, 5184, 5329, 5476, 5625, 5776, 5929,\n",
       "       6084, 6241, 6400, 6561, 6724, 6889, 7056, 7225, 7396, 7569],\n",
       "      dtype=int32)"
      ]
     },
     "execution_count": 34,
     "metadata": {},
     "output_type": "execute_result"
    }
   ],
   "source": [
    "# Eleva elemento a elemento do array ao quadrado\n",
    "X**2"
   ]
  },
  {
   "cell_type": "markdown",
   "metadata": {},
   "source": [
    "Note que nos é retornado o array de X com o resultado de cada valor elevando à 2.\n",
    "\n",
    "Para nos certificarmos que temos a mesma quantidade do array X, basta envolvermos essa conta entre parênteses e adiconar o método ```.shape```:"
   ]
  },
  {
   "cell_type": "code",
   "execution_count": 35,
   "metadata": {},
   "outputs": [
    {
     "data": {
      "text/plain": [
       "(87,)"
      ]
     },
     "execution_count": 35,
     "metadata": {},
     "output_type": "execute_result"
    }
   ],
   "source": [
    "(X**2).shape"
   ]
  },
  {
   "cell_type": "markdown",
   "metadata": {},
   "source": [
    "Como retorno, temos 87, exatamente o número de elementos do array X. Vamos ao cálculo:"
   ]
  },
  {
   "cell_type": "code",
   "execution_count": 22,
   "metadata": {},
   "outputs": [
    {
     "data": {
      "text/plain": [
       "0.43520212145512926"
      ]
     },
     "execution_count": 22,
     "metadata": {},
     "output_type": "execute_result"
    }
   ],
   "source": [
    "a = (n*np.sum(X*Y) - np.sum(X)*np.sum(Y)) / (n*np.sum(X**2) - np.sum(X)**2)\n",
    "a"
   ]
  },
  {
   "cell_type": "markdown",
   "metadata": {},
   "source": [
    "#### Calculando o coeficiente linear (b)\n",
    "\n",
    "Para calcular o coeficiente linear, usamos a seguinte fórmula:\n",
    "\n",
    "$$ \\hat{b} = Media(Y_i) - \\hat{a} * Media(X_i) $$\n",
    "\n",
    "Nosso cálculo ficará assim:"
   ]
  },
  {
   "cell_type": "code",
   "execution_count": 23,
   "metadata": {},
   "outputs": [
    {
     "data": {
      "text/plain": [
       "79.64892274792834"
      ]
     },
     "execution_count": 23,
     "metadata": {},
     "output_type": "execute_result"
    }
   ],
   "source": [
    "b = np.mean(Y) - a*np.mean(X)\n",
    "b"
   ]
  },
  {
   "cell_type": "markdown",
   "metadata": {},
   "source": [
    "Feito isso, teremos os valores de a e b, então basta calcularmos o y:"
   ]
  },
  {
   "cell_type": "code",
   "execution_count": 24,
   "metadata": {},
   "outputs": [],
   "source": [
    "y = a*X+b"
   ]
  },
  {
   "cell_type": "markdown",
   "metadata": {},
   "source": [
    "Vamos verificar o y utilizando a função ```.linalg.norm()```:\n",
    "\n",
    "Lembre-se que o Y em maiúsculo corresponde aos valores de Moscow, e neste cálculo queremos o valor de y (minúsculo)."
   ]
  },
  {
   "cell_type": "code",
   "execution_count": 41,
   "metadata": {},
   "outputs": [
    {
     "data": {
      "text/plain": [
       "101.7969539992751"
      ]
     },
     "execution_count": 41,
     "metadata": {},
     "output_type": "execute_result"
    }
   ],
   "source": [
    "np.linalg.norm(Moscow-y)"
   ]
  },
  {
   "cell_type": "markdown",
   "metadata": {},
   "source": [
    "Perceba que não foi uma grande diferença se comparado com o resultado que obtemos anteriormente, por volta de 110, mas temos um ajuste ainda melhor!\n",
    "\n",
    "O processo que realizamos é uma regressão linear."
   ]
  },
  {
   "cell_type": "markdown",
   "metadata": {},
   "source": [
    "Vamos gerar o gráfico com a reta ajustada"
   ]
  },
  {
   "cell_type": "code",
   "execution_count": 43,
   "metadata": {},
   "outputs": [
    {
     "data": {
      "text/plain": [
       "[<matplotlib.lines.Line2D at 0x1ab31c88f88>]"
      ]
     },
     "execution_count": 43,
     "metadata": {},
     "output_type": "execute_result"
    },
    {
     "data": {
      "image/png": "[encoded data removed]",
      "text/plain": [
       "<Figure size 432x288 with 1 Axes>"
      ]
     },
     "metadata": {
      "needs_background": "light"
     },
     "output_type": "display_data"
    }
   ],
   "source": [
    "plt.plot(datas,Moscow)\n",
    "plt.plot(x,y)"
   ]
  },
  {
   "cell_type": "markdown",
   "metadata": {},
   "source": [
    "Note que temos nosso gráfico de Moscow com a reta traçada.\n",
    "\n",
    "Temos os valores dessa reta na posição dos meses, de 0 a 80, pulando a cada 20. Mas e se quisermos calcular o preço, conforme a equação da reta, na metade do mês, como em 41.5?\n",
    "\n",
    "Para isso, basta utilizarmos a equação da reta com os coeficientes calculados. Ou seja, por termos ajustado os coeficientes, conseguimos calcular valores intermediários mesmo que eles não estejam no array, nos permitindo fazer uma estimativa de valor.\n",
    "\n",
    "Podemos utilizar``` plt.plot()``` passando para a posição x o valor da posição que queremos calcular, e o cálculo de y. Adicionaremos, ainda, um terceiro parâmetro ```'*r'``` que deve demarcar com o asterisco o ponto do gráfico que estamos analisando."
   ]
  },
  {
   "cell_type": "code",
   "execution_count": null,
   "metadata": {},
   "outputs": [
    {
     "data": {
      "text/plain": [
       "[<matplotlib.lines.Line2D at 0x1ab31cead88>]"
      ]
     },
     "execution_count": 44,
     "metadata": {},
     "output_type": "execute_result"
    },
    {
     "data": {
      "image/png": "[encoded data removed]",
      "text/plain": [
       "<Figure size 432x288 with 1 Axes>"
      ]
     },
     "metadata": {
      "needs_background": "light"
     },
     "output_type": "display_data"
    }
   ],
   "source": [
    "plt.plot(datas,Moscow)\n",
    "plt.plot(x,y)\n",
    "plt.plot(41.5,41.5*a+b,'*r')"
   ]
  },
  {
   "cell_type": "markdown",
   "metadata": {},
   "source": [
    "#### Estimando valores no futuro\n",
    "\n",
    "Não temos valores do mês 100, por exemplo, mas tendo o \"a\" e o \"b\" sabemos a taxa de crescimento e podemos ter uma estimativa do preço daqui a alguns meses.\n",
    "\n",
    "Para isso, basta reproduzirmos o cálculo anterior alterando o mês:"
   ]
  },
  {
   "cell_type": "code",
   "execution_count": 46,
   "metadata": {},
   "outputs": [
    {
     "data": {
      "text/plain": [
       "[<matplotlib.lines.Line2D at 0x1ab31dea308>]"
      ]
     },
     "execution_count": 46,
     "metadata": {},
     "output_type": "execute_result"
    },
    {
     "data": {
      "image/png": "[encoded data removed]",
      "text/plain": [
       "<Figure size 432x288 with 1 Axes>"
      ]
     },
     "metadata": {
      "needs_background": "light"
     },
     "output_type": "display_data"
    }
   ],
   "source": [
    "plt.plot(datas,Moscow)\n",
    "plt.plot(x,y)\n",
    "plt.plot(41.5,41.5*a+b, '*r')\n",
    "plt.plot(100,100*a+b,'*r')"
   ]
  },
  {
   "cell_type": "markdown",
   "metadata": {},
   "source": [
    "Agora, além da marcação do mês 41.5, temos uma marcação de estimativa do valor para o mês 100, que atinge por volta de 120.\n",
    "\n",
    "É importante sabermos que, em Data Science, teremos vários problemas nos quais precisaremos ajustar retas e curvas, além de determinar coeficientes. Porém, nem sempre temos uma equação fechada, então, a seguir, trabalharemos com a geração de números aleatórios para determinar estes coeficientes."
   ]
  },
  {
   "cell_type": "markdown",
   "metadata": {},
   "source": [
    "### Gerando números aleatórios com Numpy"
   ]
  },
  {
   "cell_type": "markdown",
   "metadata": {},
   "source": [
    "Anteriormente, calculamos os coeficientes angular e linear através de uma fórmula fechada. Porém, também fizemos este processo por tentativa e erro. Com esta última forma, podemos testar diferentes valores até encontrarmos um adequado.\n",
    "\n",
    "A função ```random.randint() ```gera um intervalo de números inteiros aleatórios. Para ela, passamos low=40, que é o menor número possível dentro do intervalo, high=100, que é o maior, e size=100, que é o número de valores que devem ser gerados"
   ]
  },
  {
   "cell_type": "code",
   "execution_count": 48,
   "metadata": {},
   "outputs": [
    {
     "data": {
      "text/plain": [
       "array([81, 62, 48, 46, 82, 89, 72, 75, 66, 47, 64, 82, 41, 50, 57, 79, 41,\n",
       "       85, 68, 59, 81, 80, 79, 82, 86, 59, 54, 97, 78, 93, 46, 76, 60, 95,\n",
       "       58, 45, 78, 94, 58, 47, 57, 44, 98, 85, 92, 46, 58, 52, 82, 75, 43,\n",
       "       56, 51, 42, 65, 61, 77, 50, 89, 65, 97, 48, 57, 60, 63, 54, 59, 53,\n",
       "       67, 66, 63, 61, 71, 71, 68, 61, 66, 65, 52, 84, 81, 93, 43, 92, 78,\n",
       "       92, 96, 51, 47, 87, 63, 56, 55, 71, 90, 41, 87, 43, 78, 62])"
      ]
     },
     "execution_count": 48,
     "metadata": {},
     "output_type": "execute_result"
    }
   ],
   "source": [
    "np.random.randint(low=40,high=100,size=100)"
   ]
  },
  {
   "cell_type": "markdown",
   "metadata": {},
   "source": [
    "Nosso coeficiente angular é um número com vírgulas, então precisamos gerar um número do tipo float. Para isso, usamos a função ```random.uniform()``` que gera valores aleatórios do tipo float. Esta função também recebe os parâmetros low, high e size"
   ]
  },
  {
   "cell_type": "code",
   "execution_count": 25,
   "metadata": {},
   "outputs": [
    {
     "data": {
      "text/plain": [
       "array([0.43011817, 0.37482548, 0.50812589, 0.77473813, 0.74112479,\n",
       "       0.3046597 , 0.6039669 , 0.1745954 , 0.20834531, 0.77440098,\n",
       "       0.30725903, 0.81197524, 0.73457633, 0.67168941, 0.39234933,\n",
       "       0.20599156, 0.86678314, 0.37233323, 0.5641908 , 0.22843101,\n",
       "       0.5741775 , 0.65326474, 0.14412887, 0.59210155, 0.42169194,\n",
       "       0.44536412, 0.27939839, 0.52896777, 0.7744517 , 0.21479691,\n",
       "       0.88380609, 0.73495776, 0.6611764 , 0.62138301, 0.64037127,\n",
       "       0.40955127, 0.13740536, 0.51491585, 0.36180655, 0.81991081,\n",
       "       0.41259857, 0.39888716, 0.45795719, 0.8359881 , 0.41273913,\n",
       "       0.86660984, 0.89789836, 0.7436248 , 0.34667421, 0.60850542,\n",
       "       0.27460388, 0.22907268, 0.2794021 , 0.10578762, 0.53762118,\n",
       "       0.75710957, 0.45221806, 0.8222339 , 0.74042202, 0.20225747,\n",
       "       0.78695553, 0.46953392, 0.556878  , 0.33645074, 0.18441871,\n",
       "       0.84183641, 0.3873969 , 0.74289156, 0.76852344, 0.28042931,\n",
       "       0.70813733, 0.61672891, 0.55674508, 0.38386176, 0.49738543,\n",
       "       0.64736786, 0.23394009, 0.42532987, 0.28943297, 0.66351324,\n",
       "       0.73653404, 0.39880893, 0.2841112 , 0.24421641, 0.37594075,\n",
       "       0.60201601, 0.80923195, 0.70804268, 0.34775597, 0.26864868,\n",
       "       0.43600917, 0.30781048, 0.70448233, 0.85194497, 0.48433606,\n",
       "       0.6712494 , 0.3730889 , 0.53841407, 0.65155459, 0.26108934])"
      ]
     },
     "execution_count": 25,
     "metadata": {},
     "output_type": "execute_result"
    }
   ],
   "source": [
    "coef_angulares = np.random.uniform(low=0.10,high=0.90,size=100)\n",
    "coef_angulares"
   ]
  },
  {
   "cell_type": "markdown",
   "metadata": {},
   "source": [
    "Agora, calcularemos o valor da norma para cada um deles. Ou seja, testaremos cada um.\n",
    "\n",
    "Para isso, usaremos um loop for que deve percorrer por esses coeficientes e verificar a diferença entre o array de Moscow e o array calculado com o coeficiente de teste. Para essa verificação, usaremos linalg.norm(), que deve calcular o valor de y para cada iteração\n",
    "\n",
    "Precisamos criar um array para armazenar os valores calculados. Para isso, usaremos a função ```append()```, que anexa valores ao final de um array."
   ]
  },
  {
   "cell_type": "code",
   "execution_count": 26,
   "metadata": {},
   "outputs": [],
   "source": [
    "# np.array recebe uma lista e transforma ela em um array\n",
    "norma = np.array([])\n",
    "for i in range(100):\n",
    "    norma = np.append(norma, np.linalg.norm(Moscow-(coef_angulares[i]*X+b)))"
   ]
  },
  {
   "cell_type": "code",
   "execution_count": 60,
   "metadata": {},
   "outputs": [
    {
     "data": {
      "text/plain": [
       "array([127.64955398, 114.11679843, 187.27241786, 162.469744  ,\n",
       "       114.90210835, 112.80334359, 113.59855614, 111.53835277,\n",
       "       137.57207827, 154.69261753, 137.53127476, 193.83748805,\n",
       "       134.90810616, 149.24058519, 101.79878118, 145.24680282,\n",
       "       165.99542648, 186.51991336, 142.13129444, 101.90686082,\n",
       "       167.38460123, 133.42903095, 162.18201688, 168.71807954,\n",
       "       171.03332647, 114.28578563, 215.14097973, 111.92508299,\n",
       "       104.51308595, 104.28128487, 102.4784996 , 131.41285742,\n",
       "       103.66495133, 179.65038417, 180.08203649, 163.89229588,\n",
       "       102.01415257, 130.87824233, 143.4701714 , 170.55931715,\n",
       "       155.43831078, 161.82701741, 103.39743323, 156.09501145,\n",
       "       115.5038528 , 230.66707701, 121.27348803, 117.43575335,\n",
       "       101.80386887, 157.58407515, 232.78411251, 173.13328293,\n",
       "       151.83040617, 102.82729526, 164.86128911, 174.33572955,\n",
       "       168.14301221, 146.6381956 , 102.5133209 , 160.79130925,\n",
       "       116.01694537, 183.7690927 , 120.02409268, 108.32724739,\n",
       "       136.78309104, 118.69622468, 170.88960236, 118.70229035,\n",
       "       136.18946823, 144.56783474, 148.14987671, 102.05065111,\n",
       "       223.81444718, 110.25050775, 107.56868504, 103.89572699,\n",
       "       234.70014469, 119.02359504, 101.85084568, 140.30187323,\n",
       "       107.91928636, 115.92531127, 149.33508715, 126.12428575,\n",
       "       132.27201173, 201.3235223 , 114.41968932, 105.73797707,\n",
       "       109.75134262, 231.87749153, 142.49796826, 206.03990173,\n",
       "       105.26684775, 169.6401565 , 104.56582284, 101.80191007,\n",
       "       134.61746882, 102.15437355, 134.56652635, 172.93587579])"
      ]
     },
     "execution_count": 60,
     "metadata": {},
     "output_type": "execute_result"
    }
   ],
   "source": [
    "norma"
   ]
  },
  {
   "cell_type": "markdown",
   "metadata": {},
   "source": [
    "Dentre os dados do array ```norma```, queremos a norma de menor valor. Podemos presumir, visualizando o array, que a menor norma é o valor em torno de 102, na posição 97.\n",
    "\n",
    "Como queremos o coeficiente angular desta norma, basta passarmos ```coef_angular[]``` com a posição da norma 97:"
   ]
  },
  {
   "cell_type": "code",
   "execution_count": 58,
   "metadata": {},
   "outputs": [
    {
     "data": {
      "text/plain": [
       "0.4171342055918269"
      ]
     },
     "execution_count": 58,
     "metadata": {},
     "output_type": "execute_result"
    }
   ],
   "source": [
    "coef_angulares[97]"
   ]
  },
  {
   "cell_type": "markdown",
   "metadata": {},
   "source": [
    "Como retorno, obtemos **0.0.4171342055918269**, um valor bem próximo do que havíamos estimado com a fórmula fechada dos coeficientes\n",
    "\n",
    "Calculamos os coeficientes angulares e normas através da geração de valores aleatórios. Mas como encontrar exatamente esses mesmos números aleatórios para testar os mesmos coeficientes? Se executarmos o seguinte comando diversas vezes, obteremos diferentes resultados\n",
    "\n",
    "Ainda assim, não são números totalmente aleatórios, pois partem de um cálculo que parte de uma semente, então se utilizarmos a mesma semente conseguiremos gerar a mesma sequência de números aleatórios\n",
    "\n",
    "Para isso, precisamos utilizar uma função da NumPy, chamada ```random.seed()```, que seleciona um número semente fixo para inicializar o gerador aleatório, optaremos por ```16```"
   ]
  },
  {
   "cell_type": "code",
   "execution_count": 30,
   "metadata": {},
   "outputs": [
    {
     "data": {
      "text/plain": [
       "array([0.27863286, 0.51853067, 0.54056117, 0.13648156, 0.38858307,\n",
       "       0.27846475, 0.65098093, 0.23098514, 0.15625989, 0.85280869,\n",
       "       0.5509451 , 0.16239387, 0.67811241, 0.22676174, 0.30022505,\n",
       "       0.3347898 , 0.65728857, 0.47141127, 0.27204971, 0.45746101,\n",
       "       0.196703  , 0.83414961, 0.55315706, 0.47761545, 0.35165314,\n",
       "       0.13457258, 0.70195593, 0.53461524, 0.71375234, 0.73235901,\n",
       "       0.1577771 , 0.62777267, 0.14263947, 0.64801956, 0.45468077,\n",
       "       0.47439692, 0.62884747, 0.65197331, 0.31066359, 0.10918315,\n",
       "       0.71703556, 0.75291386, 0.21171328, 0.5624054 , 0.37253942,\n",
       "       0.28577239, 0.258915  , 0.31719262, 0.88148221, 0.27234318,\n",
       "       0.38512593, 0.11471996, 0.59343222, 0.28432431, 0.69388139,\n",
       "       0.56740017, 0.43608284, 0.66740227, 0.87763642, 0.74803129,\n",
       "       0.44452414, 0.86618288, 0.13820648, 0.68622544, 0.64053316,\n",
       "       0.52160413, 0.55358996, 0.6783562 , 0.64608268, 0.73625014,\n",
       "       0.19027642, 0.25933011, 0.67705538, 0.41509386, 0.37134832,\n",
       "       0.22275655, 0.18045921, 0.42579769, 0.56633237, 0.69257642,\n",
       "       0.79628867, 0.87322093, 0.46445188, 0.4203384 , 0.3391517 ,\n",
       "       0.76268805, 0.82787294, 0.71290934, 0.15465183, 0.58482122,\n",
       "       0.85137291, 0.18171413, 0.88203161, 0.38535098, 0.62334973,\n",
       "       0.19822857, 0.86908175, 0.62094514, 0.84934225, 0.82706184])"
      ]
     },
     "execution_count": 30,
     "metadata": {},
     "output_type": "execute_result"
    }
   ],
   "source": [
    "np.random.seed(16)\n",
    "np.random.uniform(low=0.10,high=0.90,size=100)"
   ]
  },
  {
   "cell_type": "markdown",
   "metadata": {},
   "source": [
    "Ao executar, nos é retornado um array com números. Se rodarmos novamente esta célula, teremos acesso a essa mesma sequência de números. Dessa forma, temos um artifício que garante que outras pessoas consigam reproduzir o mesmo resultado.\n",
    "\n",
    "Dito isso, conseguimos utilizá-lo em nossa formulação anterior. O único detalhe é que, se copiarmos e executarmos somente a função random.uniform(), teremos uma sequência diferente da anterior. Isso ocorre porque sempre que rodamos o gerador aleatório, a semente é reiniciada. Ou seja, precisamos manter o random.seed() anterior à geração aleatória."
   ]
  },
  {
   "cell_type": "code",
   "execution_count": 31,
   "metadata": {},
   "outputs": [],
   "source": [
    "np.random.seed(84)\n",
    "coef_angulares = np.random.uniform(low=0.10,high=0.90,size=100)\n",
    "norma2 = np.array([])\n",
    "for i in range(100):\n",
    "    norma2 = np.append(norma2, np.linalg.norm(Moscow-(coef_angulares[i]*X+b)))"
   ]
  },
  {
   "cell_type": "markdown",
   "metadata": {},
   "source": [
    "#### Salvando os resultados"
   ]
  },
  {
   "cell_type": "code",
   "execution_count": 33,
   "metadata": {},
   "outputs": [
    {
     "data": {
      "text/plain": [
       "array([173.90151233, 103.45241986, 121.75367289, 128.97173036,\n",
       "       238.69504078, 149.16590195, 137.73123242, 118.54419212,\n",
       "       101.79720981, 149.04689147, 112.80225228, 105.8049351 ,\n",
       "       230.82444742, 111.69709582, 134.56525603, 110.93209631,\n",
       "       204.12484401, 196.82117307, 221.88687726, 156.13691054,\n",
       "       125.51272174, 136.46474504, 165.39506278, 240.68784732,\n",
       "       104.52254473, 188.75637903, 131.2292927 , 128.94885341,\n",
       "       234.70773582, 147.01799832, 113.7418054 , 116.94496221,\n",
       "       109.58257043, 107.09546548, 145.00728041, 182.83818792,\n",
       "       140.95017242, 106.12371866, 107.0915778 , 132.45242448,\n",
       "       144.8736358 , 143.54772697, 240.23793834, 113.74604121,\n",
       "       116.01191029, 152.02977343, 174.72333708, 141.8068161 ,\n",
       "       101.93467119, 103.01538109, 169.59787792, 128.13083711,\n",
       "       105.06648948, 101.83421597, 102.53716362, 113.63850533,\n",
       "       219.96993004, 117.37921502, 182.70217805, 146.69612581,\n",
       "       178.64742004, 132.25425967, 109.74998636, 186.49825034,\n",
       "       104.98272763, 133.73791912, 182.82613374, 235.49081018,\n",
       "       179.79275527, 228.72013359, 184.2584889 , 114.02435937,\n",
       "       124.95415977, 187.42082714, 105.18421164, 102.1005486 ,\n",
       "       135.72717949, 107.19212075, 114.07766563, 225.76351056,\n",
       "       103.96340568, 118.21130391, 109.96158846, 181.54233309,\n",
       "       114.09828878, 118.61778913, 224.37792949, 153.50523694,\n",
       "       185.44994519, 117.35423938, 151.19534147, 118.44720795,\n",
       "       112.26379208, 104.60483872, 123.8587347 , 111.40038324,\n",
       "       102.05294074, 150.97459646, 108.76787533, 107.97542886])"
      ]
     },
     "execution_count": 33,
     "metadata": {},
     "output_type": "execute_result"
    }
   ],
   "source": [
    "norma2"
   ]
  },
  {
   "cell_type": "code",
   "execution_count": 35,
   "metadata": {},
   "outputs": [
    {
     "data": {
      "text/plain": [
       "array([0.13683279, 0.39619385, 0.29385461, 0.602784  , 0.89208805,\n",
       "       0.20447044, 0.23887133, 0.30665125, 0.43471917, 0.20481511,\n",
       "       0.3323601 , 0.49624488, 0.87360345, 0.33791189, 0.62144155,\n",
       "       0.52849032, 0.8096211 , 0.7916786 , 0.85242626, 0.18466651,\n",
       "       0.59057786, 0.24287265, 0.15934165, 0.89674619, 0.38501918,\n",
       "       0.77157959, 0.61045713, 0.2676991 , 0.88274155, 0.21072909,\n",
       "       0.54257849, 0.3133875 , 0.34935345, 0.36479868, 0.21666475,\n",
       "       0.75660734, 0.22889395, 0.4986747 , 0.36482516, 0.25587381,\n",
       "       0.21706205, 0.64938079, 0.89569528, 0.32780566, 0.55295355,\n",
       "       0.19624604, 0.13469036, 0.22628157, 0.44641143, 0.40177235,\n",
       "       0.1481411 , 0.59986997, 0.49023732, 0.4293729 , 0.46122788,\n",
       "       0.54208756, 0.84785549, 0.31153122, 0.11414346, 0.65873013,\n",
       "       0.74587422, 0.61387426, 0.52200325, 0.76589084, 0.38088747,\n",
       "       0.25165091, 0.11382762, 0.88457997, 0.74881915, 0.86863621,\n",
       "       0.11018484, 0.32649201, 0.28185578, 0.10218576, 0.37916895,\n",
       "       0.45185191, 0.24522431, 0.50626125, 0.32624184, 0.86163791,\n",
       "       0.4798819 , 0.30803145, 0.34720986, 0.11710349, 0.32614518,\n",
       "       0.30634758, 0.85835026, 0.67834579, 0.76324004, 0.55876684,\n",
       "       0.19862885, 0.56335202, 0.53537079, 0.48614717, 0.58451562,\n",
       "       0.53095673, 0.45048903, 0.67114321, 0.35412587, 0.35901695])"
      ]
     },
     "execution_count": 35,
     "metadata": {},
     "output_type": "execute_result"
    }
   ],
   "source": [
    "coef_angulares"
   ]
  },
  {
   "cell_type": "markdown",
   "metadata": {},
   "source": [
    "Para guardar essas informações, precisamos primeiro agregar essas informações em um único dado. Então criaremos uma variável dados e usamos a função ```column_stack()```, que une dois ou mais arrays, lado a lado, como colunas, em uma matriz.\n",
    "\n",
    "Basicamente, esta função pega arrays unidimensionais, como os que criamos, e os agrega em um único array bidimensional. Para isso, passamos uma lista com os arrays:"
   ]
  },
  {
   "cell_type": "code",
   "execution_count": 43,
   "metadata": {},
   "outputs": [],
   "source": [
    "\n",
    "dados = np.column_stack([norma2,coef_angulares])"
   ]
  },
  {
   "cell_type": "code",
   "execution_count": 40,
   "metadata": {},
   "outputs": [
    {
     "data": {
      "text/plain": [
       "(100, 2)"
      ]
     },
     "execution_count": 40,
     "metadata": {},
     "output_type": "execute_result"
    }
   ],
   "source": [
    "dados.shape"
   ]
  },
  {
   "cell_type": "markdown",
   "metadata": {},
   "source": [
    "O que significa que temos um array com 100 linhas e 2 colunas.\n",
    "\n",
    "Temos certeza que é um array bidimensional, com uma coluna de norma e outra de coeficientes angulares. Agora, vamos salvá-lo em um arquivo.\n",
    "\n",
    "Para salvar um array em um arquivo de texto, usamos ```savetxt()```, que recebe o nome do arquivo entre aspas (```'dados.csv'```), os dados que serão salvos (```dados```) e o delimitador vírgula (```delimiter=','```)"
   ]
  },
  {
   "cell_type": "code",
   "execution_count": 41,
   "metadata": {},
   "outputs": [],
   "source": [
    "np.savetxt('dados.csv', dados, delimiter=',')"
   ]
  }
 ],
 "metadata": {
  "kernelspec": {
   "display_name": "Python 3",
   "language": "python",
   "name": "python3"
  },
  "language_info": {
   "codemirror_mode": {
    "name": "ipython",
    "version": 3
   },
   "file_extension": ".py",
   "mimetype": "text/x-python",
   "name": "python",
   "nbconvert_exporter": "python",
   "pygments_lexer": "ipython3",
   "version": "3.7.6"
  }
 },
 "nbformat": 4,
 "nbformat_minor": 2
}
