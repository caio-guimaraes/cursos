{
 "cells": [
  {
   "cell_type": "markdown",
   "metadata": {},
   "source": [
    "Chegou a hora de você testar os conhecimentos desenvolvidos durante a aula. Para isso, vamos utilizar outro dataset em um desafio que será desenvolvido no decorrer do curso. Esse dataset é uma versão modificada do arquivo Oranges vs. Grapefruit presente no site do Kaggle. Portanto, utilizaremos o arquivo raw disponível no GitHub.\n",
    "\n",
    "Nessa etapa, você deve efetuar a leitura dos dados. Para isso, importe a NumPy e use a função loadtxt. Use o link da url e o parâmetro usecols para pular a primeira coluna. É possível usar np.arange para criar a sequência de números que representam as colunas. Por fim, também é necessário incluir o parâmetro skiprows=1 para que a primeira linha de texto seja desconsiderada na leitura do arquivo."
   ]
  },
  {
   "cell_type": "code",
   "execution_count": 2,
   "metadata": {},
   "outputs": [],
   "source": [
    "import numpy as np"
   ]
  },
  {
   "cell_type": "code",
   "execution_count": 3,
   "metadata": {},
   "outputs": [
    {
     "data": {
      "text/plain": [
       "array([[  2.96,  86.76, 172.  ,  85.  ,   2.  ],\n",
       "       [  3.91,  88.05, 166.  ,  78.  ,   3.  ],\n",
       "       [  4.42,  95.17, 156.  ,  81.  ,   2.  ],\n",
       "       ...,\n",
       "       [ 15.59, 256.5 , 168.  ,  82.  ,  20.  ],\n",
       "       [ 15.92, 260.14, 142.  ,  72.  ,  11.  ],\n",
       "       [ 16.45, 261.51, 152.  ,  74.  ,   2.  ]])"
      ]
     },
     "execution_count": 3,
     "metadata": {},
     "output_type": "execute_result"
    }
   ],
   "source": [
    "url = 'https://raw.githubusercontent.com/allanspadini/numpy/dados/citrus.csv'\n",
    "dataset = np.loadtxt(url, delimiter=',', skiprows=1, usecols=np.arange(1, 6, 1))\n",
    "dataset"
   ]
  },
  {
   "cell_type": "code",
   "execution_count": 8,
   "metadata": {},
   "outputs": [
    {
     "name": "stdout",
     "output_type": "stream",
     "text": [
      "A dimensão do dataset é: 2\n",
      "O número de linhas e colunas do dataset é: (10000, 5)\n",
      "O número de dados do dataset é 50000\n"
     ]
    }
   ],
   "source": [
    "print(f'A dimensão do dataset é: {dataset.ndim}')\n",
    "print(f'O número de linhas e colunas do dataset é: {dataset.shape}')\n",
    "print(f'O número de dados do dataset é {dataset.size}')"
   ]
  },
  {
   "cell_type": "markdown",
   "metadata": {},
   "source": [
    "Chegou a hora de você testar os conhecimentos desenvolvidos durante a aula. Continuando com o projeto das laranjas/toranjas agora você deve selecionar parte dos dados. As colunas que iremos avaliar são as de diâmetro e peso. Crie arrays específicos para guardar o diâmetro e peso da laranja e toranja. O diâmetro está na coluna zero e o peso na coluna 1. Os dados referentes a laranja vão até a linha 4999 e os referentes à toranja iniciam na linha 5000 do arquivo.\n",
    "\n",
    "Após fazer a seleção de dados, importe a biblioteca matplotlib e crie um gráfico para a laranja e para a toranja do peso pelo diâmetro."
   ]
  },
  {
   "cell_type": "code",
   "execution_count": 4,
   "metadata": {},
   "outputs": [],
   "source": [
    "diametro_laranjas = dataset[:5000, 0]\n",
    "peso_laranjas = dataset[:5000, 1]\n",
    "diametro_toranjas = dataset[5000:, 0]\n",
    "peso_toranjas = dataset[5000:, 1]"
   ]
  },
  {
   "cell_type": "code",
   "execution_count": 5,
   "metadata": {},
   "outputs": [
    {
     "data": {
      "text/plain": [
       "[<matplotlib.lines.Line2D at 0x19f265ce288>]"
      ]
     },
     "execution_count": 5,
     "metadata": {},
     "output_type": "execute_result"
    },
    {
     "data": {
      "image/png": "[encoded data removed]",
      "text/plain": [
       "<Figure size 432x288 with 1 Axes>"
      ]
     },
     "metadata": {
      "needs_background": "light"
     },
     "output_type": "display_data"
    }
   ],
   "source": [
    "import matplotlib.pyplot as plt\n",
    "\n",
    "plt.plot(diametro_laranjas, peso_laranjas)\n",
    "plt.plot(diametro_toranjas, peso_toranjas)"
   ]
  },
  {
   "cell_type": "markdown",
   "metadata": {},
   "source": [
    "Continuando com o projeto das laranjas/toranjas agora você deve calcular o coeficiente ângular e o linear para a reta da laranja e para a reta da toranja. Use a fórmula de mínimos quadrados para encontrar cada um."
   ]
  },
  {
   "cell_type": "code",
   "execution_count": 15,
   "metadata": {},
   "outputs": [
    {
     "name": "stdout",
     "output_type": "stream",
     "text": [
      "14.7997452319846 27.38560381218413\n"
     ]
    }
   ],
   "source": [
    "Y = peso_laranjas\n",
    "X = diametro_laranjas\n",
    "n = np.size(X)\n",
    "\n",
    "a = (n*np.sum(X*Y) - np.sum(X)*np.sum(Y))/(n*np.sum(X**2)-np.sum(X)**2)\n",
    "b = np.mean(Y) - a*np.mean(X)\n",
    "\n",
    "print(a, b)"
   ]
  },
  {
   "cell_type": "code",
   "execution_count": 16,
   "metadata": {},
   "outputs": [
    {
     "name": "stdout",
     "output_type": "stream",
     "text": [
      "15.70884459360376 17.007102876817726\n"
     ]
    }
   ],
   "source": [
    "Y = peso_toranjas\n",
    "X = diametro_toranjas\n",
    "n = np.size(X)\n",
    "\n",
    "a = (n*np.sum(X*Y) - np.sum(X)*np.sum(Y))/(n*np.sum(X**2)-np.sum(X)**2)\n",
    "b = np.mean(Y) - a*np.mean(X)\n",
    "\n",
    "print(a, b)"
   ]
  },
  {
   "cell_type": "markdown",
   "metadata": {},
   "source": [
    "Chegou a hora de você testar os conhecimentos desenvolvidos durante a aula. Continuando com o projeto das laranjas/toranjas, agora você deve calcular o coeficiente angular utilizando a geração de números aleatórios. Assuma que já conhece b e que este é igual a 17."
   ]
  },
  {
   "cell_type": "code",
   "execution_count": 18,
   "metadata": {},
   "outputs": [
    {
     "data": {
      "text/plain": [
       "array([11693.67355856,  3756.21335179,  6888.14382259,  2567.04685515,\n",
       "       11420.77932891,  9623.66917996,  8570.85655292,  6496.51679273,\n",
       "        2577.28271294,  9613.12064833,  5709.72883857,   695.35964734,\n",
       "       10855.07029288,  5539.82389583,  3137.98293399,   296.30778902,\n",
       "        8896.93668493,  8347.82090288, 10206.95670568, 10229.7542583 ,\n",
       "        2193.54863897,  8448.39951623, 11004.80458021, 11563.3388543 ,\n",
       "        4098.18752189,  7732.70842098,  2801.84736004,  7688.60780777,\n",
       "       11134.73586307,  9432.12778879,   725.4664674 ,  6290.36141277,\n",
       "        5189.67184491,  4716.99608173,  9250.47142251,  7274.49676931,\n",
       "        8876.20611799,   621.16747277,  4716.1854569 ,  8050.51001798,\n",
       "        9238.31227388,  3992.98429323, 11531.1764187 ,  5849.11139809,\n",
       "        1042.57303406,  9875.3710071 , 11759.24152592,  8956.15615033,\n",
       "        2219.50808351,  3585.49846047, 11347.59016791,  2477.87811921,\n",
       "         878.91891293,  2740.88025627,  1766.171738  ,   710.47076735,\n",
       "       10067.07162101,  6347.17090822, 12388.06675209,  4279.10033959,\n",
       "        6946.02067623,  2906.41428845,   104.40529157,  7558.60939751,\n",
       "        4224.62973567,  8179.74838026, 12397.73292649, 11190.99930959,\n",
       "        7036.14719367, 10703.05130551, 12509.21786548,  5889.31418963,\n",
       "        7255.35608235, 12754.02485478,  4277.22119478,  2053.04097821,\n",
       "        8376.42892243,   389.94011406,  5896.97003989, 10488.87297294,\n",
       "        1195.54220071,  6454.27729425,  5255.27304236, 12297.4767493 ,\n",
       "        5899.92818696,  6505.81020644, 10388.25661606,  4879.40103495,\n",
       "        7477.48430382,  1220.34716028,  9802.44671627,  1360.59082421,\n",
       "         505.47719741,  1003.95500109,  2008.05819559,   371.10522699,\n",
       "        2094.74163899,  4658.97873807,  5043.61920931,  4893.93574007])"
      ]
     },
     "execution_count": 18,
     "metadata": {},
     "output_type": "execute_result"
    }
   ],
   "source": [
    "b = 17\n",
    "norma = np.array([])\n",
    "np.random.seed(84)\n",
    "coef_angulares = np.random.uniform(low=0.0,high=30.0,size=100)\n",
    "\n",
    "for i in range(100):\n",
    "  norma = np.append(norma,np.linalg.norm(Y- (coef_angulares[i]*X+b)))\n",
    "\n",
    "norma"
   ]
  },
  {
   "cell_type": "code",
   "execution_count": 20,
   "metadata": {},
   "outputs": [
    {
     "data": {
      "text/plain": [
       "104.40529157196431"
      ]
     },
     "execution_count": 20,
     "metadata": {},
     "output_type": "execute_result"
    }
   ],
   "source": [
    "# Encontrando a menor norma\n",
    "np.min(norma)"
   ]
  },
  {
   "cell_type": "code",
   "execution_count": 21,
   "metadata": {},
   "outputs": [
    {
     "data": {
      "text/plain": [
       "array([15.82512199])"
      ]
     },
     "execution_count": 21,
     "metadata": {},
     "output_type": "execute_result"
    }
   ],
   "source": [
    "# Podemos utilizar condições dentro dos colchetes dos arrays para encontrar um determinado valo\n",
    "coef_angulares[norma == np.min(norma)]"
   ]
  }
 ],
 "metadata": {
  "kernelspec": {
   "display_name": "Python 3",
   "language": "python",
   "name": "python3"
  },
  "language_info": {
   "codemirror_mode": {
    "name": "ipython",
    "version": 3
   },
   "file_extension": ".py",
   "mimetype": "text/x-python",
   "name": "python",
   "nbconvert_exporter": "python",
   "pygments_lexer": "ipython3",
   "version": "3.7.6"
  }
 },
 "nbformat": 4,
 "nbformat_minor": 2
}
