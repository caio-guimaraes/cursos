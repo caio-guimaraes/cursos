{
 "cells": [
  {
   "cell_type": "markdown",
   "metadata": {},
   "source": [
    "### Coleta e amostragem de dados"
   ]
  },
  {
   "cell_type": "code",
   "execution_count": 1,
   "metadata": {},
   "outputs": [
    {
     "name": "stdout",
     "output_type": "stream",
     "text": [
      "Olá, Caio!\n"
     ]
    }
   ],
   "source": [
    "nome = input('Digite o seu nome: ')\n",
    "print(f'Olá, {nome}!')"
   ]
  },
  {
   "cell_type": "code",
   "execution_count": 2,
   "metadata": {},
   "outputs": [
    {
     "name": "stdout",
     "output_type": "stream",
     "text": [
      "Olá, Caio, você tem 28 anos.\n"
     ]
    }
   ],
   "source": [
    "nome = input('Digite o seu nome: ')\n",
    "idade = input('Digite o sua idade: ')\n",
    "print(f'Olá, {nome}, você tem {idade} anos.')"
   ]
  },
  {
   "cell_type": "markdown",
   "metadata": {},
   "source": [
    "### Calculadora"
   ]
  },
  {
   "cell_type": "code",
   "execution_count": 3,
   "metadata": {},
   "outputs": [
    {
     "name": "stdout",
     "output_type": "stream",
     "text": [
      "30\n"
     ]
    }
   ],
   "source": [
    "a = int(input('Digite o primeiro valor: '))\n",
    "b = int(input('Digite o segundo valor: '))\n",
    "print(a+b)"
   ]
  },
  {
   "cell_type": "code",
   "execution_count": 4,
   "metadata": {},
   "outputs": [
    {
     "name": "stdout",
     "output_type": "stream",
     "text": [
      "Média 8.9.\n"
     ]
    }
   ],
   "source": [
    "nota_1 = float(input('Digite a 1° nota: '))\n",
    "nota_2 = float(input('Digite a 2° nota: '))\n",
    "nota_3 = float(input('Digite a 3° nota: '))\n",
    "print(f'Média {(nota_1+nota_2+nota_3)/3}.')"
   ]
  },
  {
   "cell_type": "markdown",
   "metadata": {},
   "source": [
    "### Condicionais"
   ]
  },
  {
   "cell_type": "code",
   "execution_count": 5,
   "metadata": {},
   "outputs": [
    {
     "name": "stdout",
     "output_type": "stream",
     "text": [
      "8\n"
     ]
    }
   ],
   "source": [
    "a = int(input('Digite o primeiro valor: '))\n",
    "b = int(input('Digite o segundo valor: '))\n",
    "\n",
    "if a > b:\n",
    "    print(f'O primeiro número é maior: {a}')\n",
    "elif b > a:\n",
    "    print(f'O segundo número é maior: {b}')\n",
    "else: # Caso os números sejam iguais\n",
    "    print('Os dois números são iguais.')"
   ]
  },
  {
   "cell_type": "code",
   "execution_count": 7,
   "metadata": {},
   "outputs": [
    {
     "name": "stdout",
     "output_type": "stream",
     "text": [
      "Houve decrescimento\n"
     ]
    }
   ],
   "source": [
    "percentual = float(input('Digite o percentual de crescimento: '))\n",
    "if (percentual > 0):\n",
    "    print('Houve crescimento')\n",
    "elif (percentual < 0):\n",
    "    print('Houve decrescimento')\n",
    "else:\n",
    "    print('Não houve crescimento ou decrescimento')"
   ]
  },
  {
   "cell_type": "code",
   "execution_count": 13,
   "metadata": {},
   "outputs": [
    {
     "name": "stdout",
     "output_type": "stream",
     "text": [
      "A letra é uma consoante.\n"
     ]
    }
   ],
   "source": [
    "# Coletamos a letra da pessoa usuária como minúscula\n",
    "letra = input('Digite uma letra: ').lower()\n",
    "vogais = 'aeiou' # string contendo todos os dados\n",
    "\n",
    "# Verificamos se a letra está nas vogais com in\n",
    "if letra in vogais:\n",
    "    print('A letra é uma vogal.')\n",
    "else:\n",
    "    print('A letra é uma consoante.')"
   ]
  },
  {
   "cell_type": "code",
   "execution_count": 16,
   "metadata": {},
   "outputs": [
    {
     "name": "stdout",
     "output_type": "stream",
     "text": [
      "O preço mais alto foi de R$ 78.7.\n",
      "O preço mais baixo foi de R$ 32.1.\n"
     ]
    }
   ],
   "source": [
    "# Coletamos os preços dos 3 anos\n",
    "preco_ano1 = float(input('Informe o preço médio do carro no primeiro ano: '))\n",
    "preco_ano2 = float(input('Informe o preço médio do carro no segundo ano: '))\n",
    "preco_ano3 = float(input('Informe o preço médio do carro no terceiro ano: '))\n",
    "\n",
    "# Determinamos o maior valor através de comparações\n",
    "maior = preco_ano1\n",
    "if preco_ano2 > maior:\n",
    "  maior = preco_ano2\n",
    "if preco_ano3 > maior:\n",
    "  maior = preco_ano3\n",
    "\n",
    "# Determinamos o menor valor através de comparações\n",
    "menor = preco_ano1\n",
    "if preco_ano2 < menor:\n",
    "  menor = preco_ano2\n",
    "if preco_ano3 < menor:\n",
    "  menor = preco_ano3\n",
    "\n",
    "# Mostramos o resultado\n",
    "print(f'O preço mais alto foi de R$ {maior}.')\n",
    "print(f'O preço mais baixo foi de R$ {menor}.')"
   ]
  },
  {
   "cell_type": "code",
   "execution_count": 15,
   "metadata": {},
   "outputs": [
    {
     "name": "stdout",
     "output_type": "stream",
     "text": [
      "O terceiro produto é o mais barato\n"
     ]
    }
   ],
   "source": [
    "p1 = int(input('Digite o valor do primeiro produto: '))\n",
    "p2 = int(input('Digite o valor do segundo produto: '))\n",
    "p3 = int(input('Digite o valor do teceiro produto: '))\n",
    "\n",
    "if p1 < p2 and p1 <p3:\n",
    "    print('O primeiro produto é o mais barato')\n",
    "elif p2 < p1 and p2 <p3:\n",
    "    print('O segundo produto é o mais barato')\n",
    "elif p3 < p1 and p3 < p2:\n",
    "    print('O terceiro produto é o mais barato')\n",
    "elif p1 == p2 == p3:\n",
    "    print('Os produtos possuem o mesmo preço')\n",
    "else:\n",
    "    if p1 == p2:\n",
    "            print('O primeiro e o segundo produtos são os mais baratos.')\n",
    "    elif p2 == p3:\n",
    "        print('O segundo e terceiro produtos são os mais baratos.')\n",
    "    elif p1 == p3:\n",
    "        print('O primeiro e o terceiro produtos são os mais baratos.')"
   ]
  },
  {
   "cell_type": "code",
   "execution_count": null,
   "metadata": {},
   "outputs": [],
   "source": [
    "# Coletamos os dados\n",
    "num = int(input('Digite um número: '))\n",
    "\n",
    "# Verificamos se o número é par através do resultado do módulo\n",
    "if num % 2 == 0:\n",
    "    print('O número é par.')\n",
    "else:\n",
    "    print('O número é ímpar.')"
   ]
  },
  {
   "cell_type": "markdown",
   "metadata": {},
   "source": [
    "10) Um programa deve ser escrito para ler dois números e, em seguida, perguntar à pessoa usuária qual operação ele deseja realizar. O resultado da operação deve incluir informações sobre o número - se é par ou ímpar, positivo ou negativo e inteiro ou decimal."
   ]
  },
  {
   "cell_type": "code",
   "execution_count": 22,
   "metadata": {},
   "outputs": [
    {
     "name": "stdout",
     "output_type": "stream",
     "text": [
      "O resultado da operação é -4.5\n",
      "O resultado é ímpar!\n",
      "O resultado é negativo!\n",
      "O resultado é decimal!\n"
     ]
    }
   ],
   "source": [
    "num1 = float(input('Digite o primeiro valor: '))\n",
    "num2 = float(input('Digite o segundo valor: '))\n",
    "operacao = (input('Qual operação a ser realizada? '))\n",
    "resultado = 0\n",
    "\n",
    "if operacao == '+':\n",
    "    resultado = num1 + num2\n",
    "elif operacao == '-':\n",
    "    resultado = num1 - num2\n",
    "elif operacao == '*':\n",
    "    resultado = num1 * num2\n",
    "elif operacao == '/':\n",
    "    resultado = num1 / num2\n",
    "else:\n",
    "    print('Operação inválida!')\n",
    "\n",
    "print(f'O resultado da operação é {resultado}')\n",
    "\n",
    "if resultado % 2 == 0:\n",
    "    print('O resultado é par!')\n",
    "else:\n",
    "    print('O resultado é ímpar!')\n",
    "\n",
    "if resultado < 0:\n",
    "    print('O resultado é negativo!')\n",
    "else:\n",
    "    print('O resultado é positivo!')\n",
    "\n",
    "if resultado % 1 == 0:\n",
    "    print('O resultado é inteiro!')\n",
    "else:\n",
    "    print('O resultado é decimal!')"
   ]
  },
  {
   "cell_type": "markdown",
   "metadata": {},
   "source": [
    "12) Um estabelecimento está vendendo combustíveis com descontos variados. Para o etanol, se a quantidade comprada for até 15 litros, o desconto será de 2% por litro. Caso contrário, será de 4% por litro. Para o diesel, se a quantidade comprada for até 15 litros, o desconto será de 3% por litro. Caso contrário, será de 5% por litro. O preço do litro de diesel é R$ 2,00 e o preço do litro de etanol é R$ 1,70. Escreva um programa que leia a quantidade de litros vendidos e o tipo de combustível (E para etanol e D para diesel) e calcule o valor a ser pago pelo cliente. Tenha em mente algumas dicas:\n",
    "\n",
    "O do valor do desconto será a multiplicação entre preço do litro, quantidade de litros e o valor do desconto.\n",
    "O valor a ser pago por um cliente será o resultado da multiplicação do preço do litro pela quantidade de litros menos o valor de desconto resultante do cálculo."
   ]
  },
  {
   "cell_type": "code",
   "execution_count": 23,
   "metadata": {},
   "outputs": [
    {
     "name": "stdout",
     "output_type": "stream",
     "text": [
      "Valor a ser pago pelo cliente: R$ 40.8\n"
     ]
    }
   ],
   "source": [
    "# Coletamos a quantidade de litros e o tipo de combustível,\n",
    "# já deixando o caractere em maiúsculo para facilitar nossa análise\n",
    "quantidade_litros = float(input('Informe a quantidade de litros vendidos: '))\n",
    "tipo_combustivel = input('Informe o tipo de combustível (E para etanol e D para diesel): ').upper()\n",
    "\n",
    "#  Verificamos primeiro o tipo de combustível\n",
    "if tipo_combustivel == 'E':\n",
    "  # Taxamos o valor do preço em litros do etanol\n",
    "  preco_litro = 1.70\n",
    "  # De acordo com o valor da quantidade de litros, taxamos também o desconto\n",
    "  if quantidade_litros <= 15:\n",
    "    desconto = 0.02\n",
    "  else:\n",
    "    desconto = 0.04\n",
    "elif tipo_combustivel == 'D':\n",
    "  # Taxamos o valor do preço em litros do disel\n",
    "  preco_litro = 2.00\n",
    "  # De acordo com o valor da quantidade de litros, taxamos também o desconto\n",
    "  if quantidade_litros <= 15:\n",
    "    desconto = 0.03\n",
    "  else:\n",
    "    desconto = 0.05\n",
    "# Caso ocorra um erro na especificação de tipo de combustível,\n",
    "# consideramos entradas inválidas, e os preços são taxados em 0\n",
    "else:\n",
    "    print('Entradas inválidas!')\n",
    "    preco_litro = 0\n",
    "    desconto = 0\n",
    "\n",
    "# Fazemos o cálculo do valor de desconto, seguido do cálculo do preço descontado\n",
    "valor_desconto = preco_litro * quantidade_litros * desconto\n",
    "valor_pago = preco_litro * quantidade_litros - valor_desconto\n",
    "\n",
    "# Resultado\n",
    "print(f'Valor a ser pago pelo cliente: R$ {valor_pago}')"
   ]
  },
  {
   "cell_type": "markdown",
   "metadata": {},
   "source": [
    "## Laços de repetição"
   ]
  },
  {
   "cell_type": "markdown",
   "metadata": {},
   "source": [
    "2) Escreva um programa para calcular quantos dias levará para a colônia de uma bactéria A ultrapassar ou igualar a colônia de uma bactéria B, com base nas taxas de crescimento de 3% e 1,5% respectivamente. Considere que a colônia A inicia com 4 elementos e a B com 10."
   ]
  },
  {
   "cell_type": "code",
   "execution_count": 27,
   "metadata": {},
   "outputs": [
    {
     "name": "stdout",
     "output_type": "stream",
     "text": [
      "Dia 0 - Colonia A: 4.12 e Colonia B: 10.15}\n",
      "Dia 1 - Colonia A: 4.24 e Colonia B: 10.30}\n",
      "Dia 2 - Colonia A: 4.37 e Colonia B: 10.46}\n",
      "Dia 3 - Colonia A: 4.50 e Colonia B: 10.61}\n",
      "Dia 4 - Colonia A: 4.64 e Colonia B: 10.77}\n",
      "Dia 5 - Colonia A: 4.78 e Colonia B: 10.93}\n",
      "Dia 6 - Colonia A: 4.92 e Colonia B: 11.10}\n",
      "Dia 7 - Colonia A: 5.07 e Colonia B: 11.26}\n",
      "Dia 8 - Colonia A: 5.22 e Colonia B: 11.43}\n",
      "Dia 9 - Colonia A: 5.38 e Colonia B: 11.61}\n",
      "Dia 10 - Colonia A: 5.54 e Colonia B: 11.78}\n",
      "Dia 11 - Colonia A: 5.70 e Colonia B: 11.96}\n",
      "Dia 12 - Colonia A: 5.87 e Colonia B: 12.14}\n",
      "Dia 13 - Colonia A: 6.05 e Colonia B: 12.32}\n",
      "Dia 14 - Colonia A: 6.23 e Colonia B: 12.50}\n",
      "Dia 15 - Colonia A: 6.42 e Colonia B: 12.69}\n",
      "Dia 16 - Colonia A: 6.61 e Colonia B: 12.88}\n",
      "Dia 17 - Colonia A: 6.81 e Colonia B: 13.07}\n",
      "Dia 18 - Colonia A: 7.01 e Colonia B: 13.27}\n",
      "Dia 19 - Colonia A: 7.22 e Colonia B: 13.47}\n",
      "Dia 20 - Colonia A: 7.44 e Colonia B: 13.67}\n",
      "Dia 21 - Colonia A: 7.66 e Colonia B: 13.88}\n",
      "Dia 22 - Colonia A: 7.89 e Colonia B: 14.08}\n",
      "Dia 23 - Colonia A: 8.13 e Colonia B: 14.30}\n",
      "Dia 24 - Colonia A: 8.38 e Colonia B: 14.51}\n",
      "Dia 25 - Colonia A: 8.63 e Colonia B: 14.73}\n",
      "Dia 26 - Colonia A: 8.89 e Colonia B: 14.95}\n",
      "Dia 27 - Colonia A: 9.15 e Colonia B: 15.17}\n",
      "Dia 28 - Colonia A: 9.43 e Colonia B: 15.40}\n",
      "Dia 29 - Colonia A: 9.71 e Colonia B: 15.63}\n",
      "Dia 30 - Colonia A: 10.00 e Colonia B: 15.87}\n",
      "Dia 31 - Colonia A: 10.30 e Colonia B: 16.10}\n",
      "Dia 32 - Colonia A: 10.61 e Colonia B: 16.34}\n",
      "Dia 33 - Colonia A: 10.93 e Colonia B: 16.59}\n",
      "Dia 34 - Colonia A: 11.26 e Colonia B: 16.84}\n",
      "Dia 35 - Colonia A: 11.59 e Colonia B: 17.09}\n",
      "Dia 36 - Colonia A: 11.94 e Colonia B: 17.35}\n",
      "Dia 37 - Colonia A: 12.30 e Colonia B: 17.61}\n",
      "Dia 38 - Colonia A: 12.67 e Colonia B: 17.87}\n",
      "Dia 39 - Colonia A: 13.05 e Colonia B: 18.14}\n",
      "Dia 40 - Colonia A: 13.44 e Colonia B: 18.41}\n",
      "Dia 41 - Colonia A: 13.84 e Colonia B: 18.69}\n",
      "Dia 42 - Colonia A: 14.26 e Colonia B: 18.97}\n",
      "Dia 43 - Colonia A: 14.69 e Colonia B: 19.25}\n",
      "Dia 44 - Colonia A: 15.13 e Colonia B: 19.54}\n",
      "Dia 45 - Colonia A: 15.58 e Colonia B: 19.84}\n",
      "Dia 46 - Colonia A: 16.05 e Colonia B: 20.13}\n",
      "Dia 47 - Colonia A: 16.53 e Colonia B: 20.43}\n",
      "Dia 48 - Colonia A: 17.02 e Colonia B: 20.74}\n",
      "Dia 49 - Colonia A: 17.54 e Colonia B: 21.05}\n",
      "Dia 50 - Colonia A: 18.06 e Colonia B: 21.37}\n",
      "Dia 51 - Colonia A: 18.60 e Colonia B: 21.69}\n",
      "Dia 52 - Colonia A: 19.16 e Colonia B: 22.01}\n",
      "Dia 53 - Colonia A: 19.74 e Colonia B: 22.34}\n",
      "Dia 54 - Colonia A: 20.33 e Colonia B: 22.68}\n",
      "Dia 55 - Colonia A: 20.94 e Colonia B: 23.02}\n",
      "Dia 56 - Colonia A: 21.57 e Colonia B: 23.36}\n",
      "Dia 57 - Colonia A: 22.21 e Colonia B: 23.72}\n",
      "Dia 58 - Colonia A: 22.88 e Colonia B: 24.07}\n",
      "Dia 59 - Colonia A: 23.57 e Colonia B: 24.43}\n",
      "Dia 60 - Colonia A: 24.27 e Colonia B: 24.80}\n",
      "Dia 61 - Colonia A: 25.00 e Colonia B: 25.17}\n",
      "Dia 62 - Colonia A: 25.75 e Colonia B: 25.55}\n",
      "A Colonia A levou 63 para igualar ou ultrapassar a Colonia B\n"
     ]
    }
   ],
   "source": [
    "qtd_dias = 0\n",
    "colonia_a = 4\n",
    "colonia_b = 10\n",
    "\n",
    "while colonia_a < colonia_b:\n",
    "    colonia_a *= 1.03\n",
    "    colonia_b *= 1.015\n",
    "    print('Dia %d - Colonia A: %.2f e Colonia B: %.2f}' %(qtd_dias, colonia_a, colonia_b))\n",
    "    qtd_dias += 1\n",
    "\n",
    "print(f'A Colonia A levou {qtd_dias} para igualar ou ultrapassar a Colonia B')"
   ]
  },
  {
   "cell_type": "markdown",
   "metadata": {},
   "source": [
    "5) Escreva um programa que calcule o fatorial de um número inteiro fornecido pela pessoa usuária. Lembrando que o fatorial de um número inteiro é a multiplicação desse número por todos os seus antecessores até o número 1. Por exemplo, o fatorial de 5 é 5 x 4 x 3 x 2 x 1 = 120."
   ]
  },
  {
   "cell_type": "code",
   "execution_count": 29,
   "metadata": {},
   "outputs": [
    {
     "name": "stdout",
     "output_type": "stream",
     "text": [
      "Fatorial de 5 é 120\n"
     ]
    }
   ],
   "source": [
    "# Pedir o número\n",
    "num = int(input('Informe um número inteiro: '))\n",
    "\n",
    "# Inicializar o cálculo\n",
    "fatorial = 1\n",
    "\n",
    "# nosso contador inicializa com o número máximo\n",
    "# e será feita uma contagem decrescente com o operador -=\n",
    "i = num\n",
    "while i > 0:\n",
    "    # queremos multiplicar agora o valor do fatorial pelo num\n",
    "    # e todos os números abaixo dele até 1\n",
    "    fatorial *= i\n",
    "    i -= 1\n",
    "\n",
    "# Imprimir o cálculo do fatorial\n",
    "print(f'Fatorial de {num} é {fatorial}')"
   ]
  },
  {
   "cell_type": "markdown",
   "metadata": {},
   "source": [
    "7) Os números primos possuem várias aplicações dentro da Ciência de Dados em criptografia e segurança, por exemplo. Um número primo é aquele que é divisível apenas por um e por ele mesmo. Assim, faça um programa que peça um número inteiro e determine se ele é ou não um número primo.\n"
   ]
  },
  {
   "cell_type": "code",
   "execution_count": 35,
   "metadata": {},
   "outputs": [
    {
     "name": "stdout",
     "output_type": "stream",
     "text": [
      "O número não é primo\n"
     ]
    }
   ],
   "source": [
    "num = int(input('Digite um número: '))\n",
    "\n",
    "while num <= 1:\n",
    "    print('O número deve ser maior que 1')\n",
    "    num = int(input('Digite um número: '))\n",
    "\n",
    "eh_primo = True\n",
    "for i in range(2,num):\n",
    "    if (num % i == 0):\n",
    "        eh_primo = False\n",
    "        break\n",
    "\n",
    "if eh_primo:\n",
    "    print('O número é primo')\n",
    "else:\n",
    "    print('O número não é primo')"
   ]
  },
  {
   "cell_type": "markdown",
   "metadata": {},
   "source": [
    "## Estruturas de dados"
   ]
  },
  {
   "cell_type": "markdown",
   "metadata": {},
   "source": [
    "1) Faça um programa que tenha a seguinte lista contendo os valores de gastos de uma empresa de papel [2172.54, 3701.35, 3518.09, 3456.61, 3249.38, 2840.82, 3891.45, 3075.26, 2317.64, 3219.08]. Com esses valores, faça um programa que calcule a média de gastos."
   ]
  },
  {
   "cell_type": "code",
   "execution_count": 38,
   "metadata": {},
   "outputs": [
    {
     "name": "stdout",
     "output_type": "stream",
     "text": [
      "A média de gastos é: 3144.222\n"
     ]
    }
   ],
   "source": [
    "gastos = [2172.54, 3701.35, 3518.09, 3456.61, 3249.38, 2840.82, 3891.45, 3075.26, 2317.64, 3219.08]\n",
    "media = sum(gastos) / len(gastos)\n",
    "print(f'A média de gastos é: {media}')"
   ]
  },
  {
   "cell_type": "markdown",
   "metadata": {},
   "source": [
    "2) Com os mesmos dados da questão anterior, defina quantas compras foram realizadas acima de 3000 reais e calcule a porcentagem quanto ao total de compras."
   ]
  },
  {
   "cell_type": "code",
   "execution_count": 46,
   "metadata": {},
   "outputs": [
    {
     "name": "stdout",
     "output_type": "stream",
     "text": [
      "A porcentagem de compras acima de 3000 é 70.00%\n"
     ]
    }
   ],
   "source": [
    "compras_altas = 0\n",
    "\n",
    "for gasto in gastos:\n",
    "    if gasto > 3000:\n",
    "        compras_altas += 1\n",
    "\n",
    "porcentagem = (compras_altas / len(gastos)) * 100\n",
    "print(f\"A porcentagem de compras acima de 3000 é {porcentagem:.2f}%\")\n"
   ]
  },
  {
   "cell_type": "markdown",
   "metadata": {},
   "source": [
    "5) Faça um programa que, ao inserir um número qualquer, cria uma lista contendo todos os números primos entre 1 e o número digitado."
   ]
  },
  {
   "cell_type": "code",
   "execution_count": 57,
   "metadata": {},
   "outputs": [
    {
     "data": {
      "text/plain": [
       "[2, 3, 5, 7, 11, 13, 17]"
      ]
     },
     "execution_count": 57,
     "metadata": {},
     "output_type": "execute_result"
    }
   ],
   "source": [
    "num = int(input('Insira um número: '))\n",
    "\n",
    "lista = []\n",
    "for i in range(2, num):\n",
    "    eh_primo = True\n",
    "\n",
    "    for j in range(2, i):\n",
    "        if i % j == 0:\n",
    "            eh_primo = False\n",
    "            break\n",
    "\n",
    "    # print(eh_primo)\n",
    "    if eh_primo:\n",
    "        lista.append(i)\n",
    "\n",
    "lista"
   ]
  },
  {
   "cell_type": "markdown",
   "metadata": {},
   "source": [
    "7) Para um estudo envolvendo o nível de multiplicação de bactérias em uma colônia, foi coletado o número de bactérias por dia (em milhares) e pode ser observado a seguir: [1.2, 2.1, 3.3, 5.0, 7.8, 11.3, 16.6, 25.1, 37.8, 56.9]. Tendo esses valores, faça um código que gere uma lista contendo o percentual de crescimento de bactérias por dia, comparando o número de bactérias em cada dia com o número de bactérias do dia anterior. Dica: para calcular o percentual de crescimento usamos a seguinte equação: 100 * (amostra_atual - amostra_passada) / (amostra_passada)."
   ]
  },
  {
   "cell_type": "code",
   "execution_count": 75,
   "metadata": {},
   "outputs": [
    {
     "data": {
      "text/plain": [
       "[75.00000000000001,\n",
       " 57.142857142857125,\n",
       " 51.51515151515153,\n",
       " 56.0,\n",
       " 44.87179487179489,\n",
       " 46.90265486725664,\n",
       " 51.20481927710843,\n",
       " 50.59760956175297,\n",
       " 50.52910052910054]"
      ]
     },
     "execution_count": 75,
     "metadata": {},
     "output_type": "execute_result"
    }
   ],
   "source": [
    "num_bacterias_por_dia = [1.2, 2.1, 3.3, 5.0, 7.8, 11.3, 16.6, 25.1, 37.8, 56.9]\n",
    "\n",
    "lista = []\n",
    "for i in range(1, len(num_bacterias_por_dia)):\n",
    "    amostra_atual = num_bacterias_por_dia[i]\n",
    "    amostra_passada = num_bacterias_por_dia[i-1]\n",
    "    percentual = 100 * (amostra_atual - amostra_passada) / (amostra_passada)\n",
    "    # print(f'O percentual de crescimento entre as amostras {amostra_atual} e {amostra_passada} é de {percentual:.2f}')\n",
    "    lista.append(percentual)\n",
    "\n",
    "lista"
   ]
  },
  {
   "cell_type": "markdown",
   "metadata": {},
   "source": [
    "8) Para uma seleção de produtos alimentícios, precisamos separar o conjunto de IDs dados por números inteiros sabendo que os produtos com ID par são doces e os com ID ímpar são amargos. Monte um código que colete 10 IDs. Depois, calcule e mostre a quantidade de produtos doces e amargos.\n"
   ]
  },
  {
   "cell_type": "code",
   "execution_count": null,
   "metadata": {},
   "outputs": [],
   "source": [
    "# Lista que vai receber os valores de IDs\n",
    "ids = []\n",
    "# Variáveis contadoras de doces e amargos\n",
    "doce = 0\n",
    "amargo = 0\n",
    "\n",
    "# Criamos um laço que vai iterar 10 vezes para receber os 10 IDs\n",
    "for i in range(0,10):\n",
    "  # Coletamos o ID e adicionamos o id na lista\n",
    "  ids.append(int(input(f'Digite o {i+1}° ID: ')))\n",
    "\n",
    "# Ler todos os elementos da lista ids e atribuir à id\n",
    "for id in ids:\n",
    "  # Verificamos se os elementos são pares ou ímpares para fazer a contagem\n",
    "  if id % 2 == 0:\n",
    "    doce += 1\n",
    "  else:\n",
    "    amargo += 1\n",
    "\n",
    "# Resultado\n",
    "print(f'Quantidade de produtos doces: {doce}')\n",
    "print(f'Quantidade de produtos amargos: {amargo}')"
   ]
  },
  {
   "cell_type": "markdown",
   "metadata": {},
   "source": [
    "9) Desenvolva um programa que informa a nota de um(a) aluno(a) de acordo com suas respostas. Ele deve pedir a resposta desse(a) aluno(a) para cada questão e é preciso verificar se a resposta foi igual ao gabarito. Cada questão vale um ponto e existem as alternativas A, B, C ou D."
   ]
  },
  {
   "cell_type": "code",
   "execution_count": null,
   "metadata": {},
   "outputs": [],
   "source": [
    "respostas = []\n",
    "gabarito = ['D', 'A', 'C', 'B', 'A', 'D', 'C', 'C', 'A', 'B']\n",
    "nota = 0\n",
    "\n",
    "for i in range(0, 10):\n",
    "  resposta = input(f'Insira a resposta da questão {i + 1}: ')\n",
    "  respostas.append(resposta.upper())\n",
    "\n",
    "for i in range(0,10):\n",
    "  if respostas[i] == gabarito[i]:\n",
    "    nota += 1\n",
    "\n",
    "print(f'Nota final: {nota}')"
   ]
  },
  {
   "cell_type": "markdown",
   "metadata": {},
   "source": [
    "10) Um instituto de meteorologia deseja fazer um estudo de temperatura média de cada mês do ano. Para isso, você precisa fazer um código que colete e armazene essas temperaturas médias em uma lista. Depois, calcule a média anual das temperaturas e mostre todas as temperaturas acima da média anual e em que mês elas ocorreram, mostrando os meses por extenso (Janeiro, Fevereiro, etc.)."
   ]
  },
  {
   "cell_type": "code",
   "execution_count": 80,
   "metadata": {},
   "outputs": [
    {
     "name": "stdout",
     "output_type": "stream",
     "text": [
      "Temperatura acima da média nos meses: \n",
      "Janeiro\n",
      "Fevereiro\n",
      "Março\n",
      "Abril\n",
      "Maio\n",
      "Novembro\n",
      "Dezembro\n"
     ]
    }
   ],
   "source": [
    "temperaturas = []\n",
    "for i in range(0, 12):\n",
    "    temperatura = float(input(f'Digite a média de temperatura do mês {i+1}: '))\n",
    "    temperaturas.append(temperatura)\n",
    "\n",
    "meses = ['Janeiro', 'Fevereiro', 'Março', 'Abril', 'Maio', 'Junho', 'Julho', 'Agosto', 'Setembro', 'Outubro', 'Novembro', 'Dezembro']\n",
    "media_anual = sum(temperaturas) / len(temperaturas)\n",
    "\n",
    "print('Temperatura acima da média nos meses: ')\n",
    "for i in range(0, 12):\n",
    "    if temperaturas[i] > media_anual:\n",
    "        print(meses[i])\n"
   ]
  },
  {
   "cell_type": "markdown",
   "metadata": {},
   "source": [
    "11) Uma empresa de e-commerce está interessada em analisar as vendas dos seus produtos. Os dados das vendas foram armazenados em um dicionário:\n",
    "\n",
    "```\n",
    "{'Produto A': 300, 'Produto B': 80, 'Produto C': 60,\n",
    " 'Produto D': 200, 'Produto E': 250, 'Produto F': 30}\n",
    "```\n",
    "\n",
    "Escreva um código que calcule o total de vendas e o produto mais vendido."
   ]
  },
  {
   "cell_type": "code",
   "execution_count": null,
   "metadata": {},
   "outputs": [],
   "source": [
    "# Dicionário de vendas\n",
    "dados_vendas = {'Produto A': 300, 'Produto B': 80, 'Produto C': 60, 'Produto D': 200, 'Produto E': 250, 'Produto F': 30}\n",
    "\n",
    "# Inicializamos as variáveis\n",
    "total_vendas = 0 # Irá somar todos as vendas\n",
    "produto_mais_vendido = '' # Irá armazenar o nome do produto mais vendido\n",
    "unidades_produto_mais_vendido = 0 # Irá armazenar a maior quantidade vendas\n",
    "\n",
    "# Percorremos os valores de chaves e elementos do dicionário\n",
    "for produto in dados_vendas.keys():\n",
    "  # Somamos o total de vendas \n",
    "  total_vendas += dados_vendas[produto]\n",
    "  # Verificamos se valor de venda atual desing (dados_vendas[produto]) é maior que o valor armazenado em unidades_produto_mais_vendido\n",
    "  # Cada vez que dados_vendas[produto] superar o valor em unidades_produto_mais_vendido, \n",
    "  # a variável unidades_produto_mais_vendido vai ser igual à dados_vendas[produto], atribuindo um novo valor\n",
    "  # De forma similar, produto_mais_vendido também é substituído pelo produto atual\n",
    "  if dados_vendas[produto] > unidades_produto_mais_vendido:\n",
    "    unidades_produto_mais_vendido = dados_vendas[produto]\n",
    "    produto_mais_vendido = produto\n",
    "# Resultados\n",
    "print(f'Total de vendas é {total_vendas}')\n",
    "print(f'{produto_mais_vendido} é o mais vendido')"
   ]
  },
  {
   "cell_type": "markdown",
   "metadata": {},
   "source": [
    "12) Uma pesquisa de mercado foi feita para decidir qual design de marca infantil mais agrada as crianças. A pesquisa foi feita e o votos computados podem ser observados abaixo:\n",
    "\n",
    "```\n",
    "Tabela de votos da marca\n",
    "Design 1 - 1334 votos\n",
    "Design 2 - 982 votos\n",
    "Design 3 - 1751 votos\n",
    "Design 4 - 210 votos\n",
    "Design 5 - 1811 votos\n",
    "```\n",
    "\n",
    "Adapte os dados fornecidos para uma estrutura de dicionário. A partir dele, informe o design vencedor e a porcentagem de votos recebidos."
   ]
  },
  {
   "cell_type": "code",
   "execution_count": null,
   "metadata": {},
   "outputs": [],
   "source": [
    "# Dicionário de votos por design\n",
    "votos = {'Design 1': 1334, 'Design 2': 982, 'Design 3': 1751, 'Design 4': 210, 'Design 5': 1811}\n",
    "\n",
    "# Inicializamos as variáveis\n",
    "total_votos = 0 # Irá somar todos os votos \n",
    "vencedor = '' # Irá armazenar o nome do design vencedor\n",
    "voto_vencedor = 0 # Irá armazenar a quantidade vencedora de votos\n",
    "\n",
    "# Percorremos os valores de chaves e elementos do dicionário\n",
    "for design, voto_desing in votos.items():\n",
    "  # Somamos o total de votos\n",
    "  total_votos += voto_desing\n",
    "  # Verificamos se o voto do atual desing (voto_desing) é maior que o valor armazenado em voto_vencedor\n",
    "  # Cada vez que voto_desing superar o valor em voto_vencedor, \n",
    "  # a variável voto_vencedor vai ser igual à voto_desing, atribuindo um novo valor\n",
    "  # De forma similar, o vencedor também é substituído pelo design\n",
    "  if voto_desing > voto_vencedor:\n",
    "    voto_vencedor = voto_desing\n",
    "    vencedor = design\n",
    "# Calculamos a porcentagem do design vencedor\n",
    "porcentagem = 100 * (voto_vencedor) / (total_votos)\n",
    "\n",
    "#Resultado\n",
    "print(f'{vencedor} é o vencedor: ')\n",
    "print(f'Porcentagem de votos: {porcentagem}%')"
   ]
  },
  {
   "cell_type": "markdown",
   "metadata": {},
   "source": [
    "13) As pessoas colaboradoras de um setor da empresa que você trabalha vão receber um abono correspondente a 10% do salário devido ao ótimo desempenho do time. O setor financeiro solicitou sua ajuda para a verificação das consequências financeiras que esse abono irá gerar nos recursos. Assim, foi encaminhada para você uma lista com os salários que receberão o abono: [1172, 1644, 2617, 5130, 5532, 6341, 6650, 7238, 7685, 7782, 7903]. O abono de cada colaborador(a) não pode ser inferior a 200. Em código, transforme cada um dos salários em chaves de um dicionário e o abono de cada salário no elemento. Depois, informe o total de gastos com o abono, quantos(as) colaboradores(as) receberam o abono mínimo e qual o maior valor de abono fornecido."
   ]
  },
  {
   "cell_type": "code",
   "execution_count": null,
   "metadata": {},
   "outputs": [],
   "source": [
    "# Lista de salários\n",
    "salarios = [1172, 1644, 2617, 5130, 5532, 6341, 6650, 7238, 7685, 7782, 7903]\n",
    "# Inicializamos as variáveis\n",
    "dic_abonos = {} # Dicionário de abonos\n",
    "total_abono = 0 # Irá somar todos os gastos com abono\n",
    "abonos_minimo = 0 # Irá armazenar a quantidade de abonos mínimos \n",
    "maior_abono = 0 # Irá armazenar o maior valor de abono \n",
    "\n",
    "# Percorremos toda a lista de salários\n",
    "for salario in salarios:\n",
    "  # Calculamos o valor teórico de abono\n",
    "  abono = salario * 0.1\n",
    "  # Caso o abono seja inferior a 200,\n",
    "  # ajustamos o valor de abono para o mínimo (200)\n",
    "  if abono < 200:\n",
    "    abono = 200\n",
    "  # Adicionamos um novo dado no dicionário chave abono\n",
    "  dic_abonos[salario] = abono\n",
    "\n",
    "# Percorremos todos os valores do dicionário de abonos\n",
    "for abono in dic_abonos.values():\n",
    "  # Contamos o salário minimo\n",
    "  if abono == 200:\n",
    "    abonos_minimo += 1\n",
    "  # Verificamos se o abono lido é maior que o valor armazenado em maior_abono\n",
    "  # Cada vez que o abono superar o valor de maior_abono, \n",
    "  # a variável maior_abono vai ser igual à abono, atribuindo um novo valor\n",
    "  if abono > maior_abono:\n",
    "    maior_abono = abono\n",
    "  # Somamos os abonos\n",
    "  total_abono += abono\n",
    "# Resultados\n",
    "print(f'Abonos: {dic_abonos}')\n",
    "print(f'Total de gasto com abonos: {total_abono}')\n",
    "print(f'Número de funcionários que receberam o abono mínimo: {abonos_minimo}')\n",
    "print(f'Maior valor de abono: {maior_abono}')"
   ]
  },
  {
   "cell_type": "markdown",
   "metadata": {},
   "source": [
    "14) Uma equipe de cientistas de dados está estudando a diversidade biológica em uma floresta. A equipe fez a coleta de informações sobre o número de espécies de plantas e animais em cada área dessa floresta e armazenou essas informações em um dicionário. Nele, a chave descreve a área dos dados e os valores nas listas correspondem às espécies de plantas e animais nas áreas, respectivamente.\n",
    "\n",
    "```\n",
    "{'Área Norte': [2819, 7236],\n",
    " 'Área Leste': [1440, 9492],\n",
    " 'Área Sul': [5969, 7496],\n",
    " 'Área Oeste': [14446, 49688],\n",
    " 'Área Centro': [22558, 45148]}\n",
    " ```\n",
    "\n",
    " Escreva um código para calcular a média de espécies por área e identificar a área com a maior diversidade biológica. Dica: use as funções built-in sum() e len()."
   ]
  },
  {
   "cell_type": "code",
   "execution_count": null,
   "metadata": {},
   "outputs": [],
   "source": [
    "# Especificamos os dados para um dicionário\n",
    "dados = {'Área Norte': [2819, 7236],\n",
    "         'Área Leste': [1440, 9492],\n",
    "         'Área Sul': [5969, 7496],\n",
    "         'Área Oeste': [14446, 49688],\n",
    "         'Área Centro': [22558, 45148]}\n",
    "# Inicializamos as variáveis\n",
    "soma_media = 0 # Irá somar todas as médias\n",
    "maior_diversidade = '' # Irá armazenar a área com maior diversidade\n",
    "maior_soma = 0 # Irá armazenar a maior soma de espécies \n",
    "# Percorremos os valores de chaves e elementos do dicionário\n",
    "for area, especies in dados.items():\n",
    "  # Fazemos a soma do números de espécies em cada área com a função sum\n",
    "  soma_especies = sum(especies)\n",
    "  # Calculamos a média dividindo a soma das espécies pela quantidade de espécies\n",
    "  media = soma_especies / len(especies)\n",
    "  # Imprimimos\n",
    "  print(f'A {area} tem a média de {media} espécies')\n",
    "  # Verificamos se a soma das espécies é maior que o valor armazenado de maior_soma\n",
    "  # Cada vez que a soma_especies superar o valor de maior_soma, \n",
    "  # a variável maior_soma vai ser igual à soma_especies, atribuindo um novo valor\n",
    "  # De forma similar, maior_diversidade também é substituída\n",
    "  if soma_especies > maior_soma:\n",
    "      maior_soma = soma_especies\n",
    "      maior_diversidade = area\n",
    "  # Somamos as médias\n",
    "  soma_media += media\n",
    "# A média total será dada pela soma_media dividida pela quantidade de áreas\n",
    "media_total = soma_media / len(dados)\n",
    "print(f'Média geral de espécies: {media_total}')\n",
    "print(f'Área com a maior diversidade biológica: {maior_diversidade}')"
   ]
  },
  {
   "cell_type": "markdown",
   "metadata": {},
   "source": [
    "15) O setor de RH da sua empresa te pediu uma ajuda para analisar as idades de colaboradores(as) de 4 setores da empresa. Para isso, foram fornecidos os seguintes dados:\n",
    "\n",
    "```\n",
    "{'Setor A': [22, 26, 30, 30, 35, 38, 40, 56, 57, 65],\n",
    " 'Setor B': [22, 24, 26, 33, 41, 49, 50, 54, 60, 64],\n",
    " 'Setor C': [23, 26, 26, 29, 34, 35, 36, 41, 52, 56],\n",
    " 'Setor D': [19, 20, 25, 27, 34, 39, 42, 44, 50, 65]}\n",
    "```\n",
    "\n",
    "Sabendo que cada setor tem 10 colaboradores(as), construa um código que calcule a média de idade de cada setor, a idade média geral entre todos os setores e quantas pessoas estão acima da idade média geral."
   ]
  },
  {
   "cell_type": "code",
   "execution_count": null,
   "metadata": {},
   "outputs": [],
   "source": [
    "# Especificamos os dados para um dicionário\n",
    "dados = {'Setor A': [22, 26, 30, 30, 35, 38, 40, 56, 57, 65],\n",
    "        'Setor B': [22, 24, 26, 33, 41, 49, 50, 54, 60, 64],\n",
    "        'Setor C': [23, 26, 26, 29, 34, 35, 36, 41, 52, 56],\n",
    "        'Setor D': [19, 20, 25, 27, 34, 39, 42, 44, 50, 65]}\n",
    "# Inicializamos a variável que irá somar todas as idades\n",
    "total_idades = 0\n",
    "# Percorremos os valores de chaves e elementos do dicionário\n",
    "for setor, idades in dados.items():\n",
    "  # Calculamos a média dividindo a soma das idades pela quantidade funcionários em cada setor\n",
    "  media_idade = sum(idades) / len(idades)\n",
    "  # Imprimimos\n",
    "  print(f'O {setor} tem a média de {media_idade}')\n",
    "  # Somamos as médias\n",
    "  total_idades += sum(idades)\n",
    "# A média total será dada pela total_idades dividida pela quantidade de pessoas totais (setores * funcionários por setor)\n",
    "media_total = total_idades / (len(idades) * len(dados))\n",
    "print(f'A média de idade geral é {media_total}')\n",
    "\n",
    "# Inicializamos a variável que irá contar todas pessoas com idade acima da média\n",
    "acima_media = 0\n",
    "# Percorremos novamente os valores de chaves e elementos do dicionário\n",
    "for setor, idades in dados.items():\n",
    "  # Lemos os elementos (idades) dentro de cada lista de idades no dicionário\n",
    "  for id in idades:\n",
    "    # Verificamos se o valor da idade é superior à média total\n",
    "    if id > media_total:\n",
    "      # Caso o valor da idade seja superior à média, incrementamos mais um no contador\n",
    "      acima_media += 1\n",
    "# Resultado\n",
    "print(f'{acima_media} pessoas estão acima da idade média geral')"
   ]
  }
 ],
 "metadata": {
  "kernelspec": {
   "display_name": "Python 3",
   "language": "python",
   "name": "python3"
  },
  "language_info": {
   "codemirror_mode": {
    "name": "ipython",
    "version": 3
   },
   "file_extension": ".py",
   "mimetype": "text/x-python",
   "name": "python",
   "nbconvert_exporter": "python",
   "pygments_lexer": "ipython3",
   "version": "3.7.6"
  }
 },
 "nbformat": 4,
 "nbformat_minor": 2
}
