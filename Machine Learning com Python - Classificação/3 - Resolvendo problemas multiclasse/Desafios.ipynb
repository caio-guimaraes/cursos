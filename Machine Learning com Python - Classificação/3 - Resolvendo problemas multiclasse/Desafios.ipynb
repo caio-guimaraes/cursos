{
 "cells": [
  {
   "cell_type": "markdown",
   "metadata": {},
   "source": [
    "# Desafio"
   ]
  },
  {
   "cell_type": "markdown",
   "metadata": {},
   "source": [
    "## 1 - Mão na massa: explorando os dados\n",
    "Nós já carregamos os dados, realizamos algumas análises preliminares e entendemos as informações que temos.\n",
    "\n",
    "Agora chegou o momento de você se aprofundar e explorar as informações com mais detalhes.\n",
    "\n",
    "Existe uma função chamada `describe()` na biblioteca Pandas que é capaz de descrever estatisticamente os dados.\n",
    "\n",
    "Essa função pode ser usada em dados numéricos ou categóricos.\n",
    "\n",
    "Desafiamos você a aplicar essa função em ambos os tipos de dados para enriquecer nossa compreensão das informações.\n",
    "\n",
    "Bora lá?"
   ]
  },
  {
   "cell_type": "code",
   "execution_count": 1,
   "metadata": {},
   "outputs": [],
   "source": [
    "import pandas as pd"
   ]
  },
  {
   "cell_type": "code",
   "execution_count": 2,
   "metadata": {},
   "outputs": [],
   "source": [
    "df = pd.read_csv('https://raw.githubusercontent.com/alura-cursos/classificacao_multiclasse/main/Dados/dados_estudantes.csv')"
   ]
  },
  {
   "cell_type": "markdown",
   "metadata": {},
   "source": [
    "### Colunas numéricas\n",
    "Por padrão, essa função escolhe apenas os dados numéricos.\n",
    "Com isso, é exibida uma tabela retornando a contagem de linhas (count), o cálculo da média (mean) e desvio padrão (std). Além disso, temos identificação do valor mínimo (min), os quartis (25%, 50% e 75%) e o valor máximo (max):\n",
    "\n",
    "> Os quartis (25%, 50% e 75%) dividem o conjunto de dados em quatro partes iguais, cada uma contendo uma porcentagem específica dos dados. O quartil de 25% (ou primeiro quartil) indica o valor abaixo do qual 25% dos dados estão localizados. O quartil de 50% (ou segundo quartil) é a mediana, que indica o valor abaixo do qual 50% dos dados estão localizados. O quartil de 75% (ou terceiro quartil) indica o valor abaixo do qual 75% dos dados estão localizados."
   ]
  },
  {
   "cell_type": "code",
   "execution_count": 3,
   "metadata": {},
   "outputs": [
    {
     "data": {
      "text/html": [
       "<div>\n",
       "<style scoped>\n",
       "    .dataframe tbody tr th:only-of-type {\n",
       "        vertical-align: middle;\n",
       "    }\n",
       "\n",
       "    .dataframe tbody tr th {\n",
       "        vertical-align: top;\n",
       "    }\n",
       "\n",
       "    .dataframe thead th {\n",
       "        text-align: right;\n",
       "    }\n",
       "</style>\n",
       "<table border=\"1\" class=\"dataframe\">\n",
       "  <thead>\n",
       "    <tr style=\"text-align: right;\">\n",
       "      <th></th>\n",
       "      <th>Idade na matrícula</th>\n",
       "      <th>Taxa de desemprego</th>\n",
       "      <th>Taxa de inflação</th>\n",
       "      <th>PIB</th>\n",
       "      <th>disciplinas 1º semestre (creditadas)</th>\n",
       "      <th>disciplinas 1º semestre (matriculadas)</th>\n",
       "      <th>disciplinas 1º semestre (avaliações)</th>\n",
       "      <th>disciplinas 1º semestre (aprovadas)</th>\n",
       "      <th>disciplinas 1º semestre (notas)</th>\n",
       "      <th>disciplinas 1º semestre (sem avaliações)</th>\n",
       "      <th>disciplinas 2º semestre (creditadas)</th>\n",
       "      <th>disciplinas 2º semestre (matriculadas)</th>\n",
       "      <th>disciplinas 2º semestre (avaliações)</th>\n",
       "      <th>disciplinas 2º semestre (aprovadas)</th>\n",
       "      <th>disciplinas 2º semestre (notas)</th>\n",
       "      <th>disciplinas 2º semestre (sem avaliações)</th>\n",
       "    </tr>\n",
       "  </thead>\n",
       "  <tbody>\n",
       "    <tr>\n",
       "      <th>count</th>\n",
       "      <td>4424.000000</td>\n",
       "      <td>4424.000000</td>\n",
       "      <td>4424.000000</td>\n",
       "      <td>4424.000000</td>\n",
       "      <td>4424.000000</td>\n",
       "      <td>4424.000000</td>\n",
       "      <td>4424.000000</td>\n",
       "      <td>4424.000000</td>\n",
       "      <td>4424.000000</td>\n",
       "      <td>4424.000000</td>\n",
       "      <td>4424.000000</td>\n",
       "      <td>4424.000000</td>\n",
       "      <td>4424.000000</td>\n",
       "      <td>4424.000000</td>\n",
       "      <td>4424.000000</td>\n",
       "      <td>4424.000000</td>\n",
       "    </tr>\n",
       "    <tr>\n",
       "      <th>mean</th>\n",
       "      <td>23.265145</td>\n",
       "      <td>11.566139</td>\n",
       "      <td>1.228029</td>\n",
       "      <td>0.001969</td>\n",
       "      <td>0.709991</td>\n",
       "      <td>6.270570</td>\n",
       "      <td>8.299051</td>\n",
       "      <td>4.706600</td>\n",
       "      <td>10.640822</td>\n",
       "      <td>0.137658</td>\n",
       "      <td>0.541817</td>\n",
       "      <td>6.232143</td>\n",
       "      <td>8.063291</td>\n",
       "      <td>4.435805</td>\n",
       "      <td>10.230206</td>\n",
       "      <td>0.150316</td>\n",
       "    </tr>\n",
       "    <tr>\n",
       "      <th>std</th>\n",
       "      <td>7.587816</td>\n",
       "      <td>2.663850</td>\n",
       "      <td>1.382711</td>\n",
       "      <td>2.269935</td>\n",
       "      <td>2.360507</td>\n",
       "      <td>2.480178</td>\n",
       "      <td>4.179106</td>\n",
       "      <td>3.094238</td>\n",
       "      <td>4.843663</td>\n",
       "      <td>0.690880</td>\n",
       "      <td>1.918546</td>\n",
       "      <td>2.195951</td>\n",
       "      <td>3.947951</td>\n",
       "      <td>3.014764</td>\n",
       "      <td>5.210808</td>\n",
       "      <td>0.753774</td>\n",
       "    </tr>\n",
       "    <tr>\n",
       "      <th>min</th>\n",
       "      <td>17.000000</td>\n",
       "      <td>7.600000</td>\n",
       "      <td>-0.800000</td>\n",
       "      <td>-4.060000</td>\n",
       "      <td>0.000000</td>\n",
       "      <td>0.000000</td>\n",
       "      <td>0.000000</td>\n",
       "      <td>0.000000</td>\n",
       "      <td>0.000000</td>\n",
       "      <td>0.000000</td>\n",
       "      <td>0.000000</td>\n",
       "      <td>0.000000</td>\n",
       "      <td>0.000000</td>\n",
       "      <td>0.000000</td>\n",
       "      <td>0.000000</td>\n",
       "      <td>0.000000</td>\n",
       "    </tr>\n",
       "    <tr>\n",
       "      <th>25%</th>\n",
       "      <td>19.000000</td>\n",
       "      <td>9.400000</td>\n",
       "      <td>0.300000</td>\n",
       "      <td>-1.700000</td>\n",
       "      <td>0.000000</td>\n",
       "      <td>5.000000</td>\n",
       "      <td>6.000000</td>\n",
       "      <td>3.000000</td>\n",
       "      <td>11.000000</td>\n",
       "      <td>0.000000</td>\n",
       "      <td>0.000000</td>\n",
       "      <td>5.000000</td>\n",
       "      <td>6.000000</td>\n",
       "      <td>2.000000</td>\n",
       "      <td>10.750000</td>\n",
       "      <td>0.000000</td>\n",
       "    </tr>\n",
       "    <tr>\n",
       "      <th>50%</th>\n",
       "      <td>20.000000</td>\n",
       "      <td>11.100000</td>\n",
       "      <td>1.400000</td>\n",
       "      <td>0.320000</td>\n",
       "      <td>0.000000</td>\n",
       "      <td>6.000000</td>\n",
       "      <td>8.000000</td>\n",
       "      <td>5.000000</td>\n",
       "      <td>12.285714</td>\n",
       "      <td>0.000000</td>\n",
       "      <td>0.000000</td>\n",
       "      <td>6.000000</td>\n",
       "      <td>8.000000</td>\n",
       "      <td>5.000000</td>\n",
       "      <td>12.200000</td>\n",
       "      <td>0.000000</td>\n",
       "    </tr>\n",
       "    <tr>\n",
       "      <th>75%</th>\n",
       "      <td>25.000000</td>\n",
       "      <td>13.900000</td>\n",
       "      <td>2.600000</td>\n",
       "      <td>1.790000</td>\n",
       "      <td>0.000000</td>\n",
       "      <td>7.000000</td>\n",
       "      <td>10.000000</td>\n",
       "      <td>6.000000</td>\n",
       "      <td>13.400000</td>\n",
       "      <td>0.000000</td>\n",
       "      <td>0.000000</td>\n",
       "      <td>7.000000</td>\n",
       "      <td>10.000000</td>\n",
       "      <td>6.000000</td>\n",
       "      <td>13.333333</td>\n",
       "      <td>0.000000</td>\n",
       "    </tr>\n",
       "    <tr>\n",
       "      <th>max</th>\n",
       "      <td>70.000000</td>\n",
       "      <td>16.200000</td>\n",
       "      <td>3.700000</td>\n",
       "      <td>3.510000</td>\n",
       "      <td>20.000000</td>\n",
       "      <td>26.000000</td>\n",
       "      <td>45.000000</td>\n",
       "      <td>26.000000</td>\n",
       "      <td>18.875000</td>\n",
       "      <td>12.000000</td>\n",
       "      <td>19.000000</td>\n",
       "      <td>23.000000</td>\n",
       "      <td>33.000000</td>\n",
       "      <td>20.000000</td>\n",
       "      <td>18.571429</td>\n",
       "      <td>12.000000</td>\n",
       "    </tr>\n",
       "  </tbody>\n",
       "</table>\n",
       "</div>"
      ],
      "text/plain": [
       "       Idade na matrícula  Taxa de desemprego  Taxa de inflação          PIB  \\\n",
       "count         4424.000000         4424.000000       4424.000000  4424.000000   \n",
       "mean            23.265145           11.566139          1.228029     0.001969   \n",
       "std              7.587816            2.663850          1.382711     2.269935   \n",
       "min             17.000000            7.600000         -0.800000    -4.060000   \n",
       "25%             19.000000            9.400000          0.300000    -1.700000   \n",
       "50%             20.000000           11.100000          1.400000     0.320000   \n",
       "75%             25.000000           13.900000          2.600000     1.790000   \n",
       "max             70.000000           16.200000          3.700000     3.510000   \n",
       "\n",
       "       disciplinas 1º semestre (creditadas)  \\\n",
       "count                           4424.000000   \n",
       "mean                               0.709991   \n",
       "std                                2.360507   \n",
       "min                                0.000000   \n",
       "25%                                0.000000   \n",
       "50%                                0.000000   \n",
       "75%                                0.000000   \n",
       "max                               20.000000   \n",
       "\n",
       "       disciplinas 1º semestre (matriculadas)  \\\n",
       "count                             4424.000000   \n",
       "mean                                 6.270570   \n",
       "std                                  2.480178   \n",
       "min                                  0.000000   \n",
       "25%                                  5.000000   \n",
       "50%                                  6.000000   \n",
       "75%                                  7.000000   \n",
       "max                                 26.000000   \n",
       "\n",
       "       disciplinas 1º semestre (avaliações)  \\\n",
       "count                           4424.000000   \n",
       "mean                               8.299051   \n",
       "std                                4.179106   \n",
       "min                                0.000000   \n",
       "25%                                6.000000   \n",
       "50%                                8.000000   \n",
       "75%                               10.000000   \n",
       "max                               45.000000   \n",
       "\n",
       "       disciplinas 1º semestre (aprovadas)  disciplinas 1º semestre (notas)  \\\n",
       "count                          4424.000000                      4424.000000   \n",
       "mean                              4.706600                        10.640822   \n",
       "std                               3.094238                         4.843663   \n",
       "min                               0.000000                         0.000000   \n",
       "25%                               3.000000                        11.000000   \n",
       "50%                               5.000000                        12.285714   \n",
       "75%                               6.000000                        13.400000   \n",
       "max                              26.000000                        18.875000   \n",
       "\n",
       "       disciplinas 1º semestre (sem avaliações)  \\\n",
       "count                               4424.000000   \n",
       "mean                                   0.137658   \n",
       "std                                    0.690880   \n",
       "min                                    0.000000   \n",
       "25%                                    0.000000   \n",
       "50%                                    0.000000   \n",
       "75%                                    0.000000   \n",
       "max                                   12.000000   \n",
       "\n",
       "       disciplinas 2º semestre (creditadas)  \\\n",
       "count                           4424.000000   \n",
       "mean                               0.541817   \n",
       "std                                1.918546   \n",
       "min                                0.000000   \n",
       "25%                                0.000000   \n",
       "50%                                0.000000   \n",
       "75%                                0.000000   \n",
       "max                               19.000000   \n",
       "\n",
       "       disciplinas 2º semestre (matriculadas)  \\\n",
       "count                             4424.000000   \n",
       "mean                                 6.232143   \n",
       "std                                  2.195951   \n",
       "min                                  0.000000   \n",
       "25%                                  5.000000   \n",
       "50%                                  6.000000   \n",
       "75%                                  7.000000   \n",
       "max                                 23.000000   \n",
       "\n",
       "       disciplinas 2º semestre (avaliações)  \\\n",
       "count                           4424.000000   \n",
       "mean                               8.063291   \n",
       "std                                3.947951   \n",
       "min                                0.000000   \n",
       "25%                                6.000000   \n",
       "50%                                8.000000   \n",
       "75%                               10.000000   \n",
       "max                               33.000000   \n",
       "\n",
       "       disciplinas 2º semestre (aprovadas)  disciplinas 2º semestre (notas)  \\\n",
       "count                          4424.000000                      4424.000000   \n",
       "mean                              4.435805                        10.230206   \n",
       "std                               3.014764                         5.210808   \n",
       "min                               0.000000                         0.000000   \n",
       "25%                               2.000000                        10.750000   \n",
       "50%                               5.000000                        12.200000   \n",
       "75%                               6.000000                        13.333333   \n",
       "max                              20.000000                        18.571429   \n",
       "\n",
       "       disciplinas 2º semestre (sem avaliações)  \n",
       "count                               4424.000000  \n",
       "mean                                   0.150316  \n",
       "std                                    0.753774  \n",
       "min                                    0.000000  \n",
       "25%                                    0.000000  \n",
       "50%                                    0.000000  \n",
       "75%                                    0.000000  \n",
       "max                                   12.000000  "
      ]
     },
     "execution_count": 3,
     "metadata": {},
     "output_type": "execute_result"
    }
   ],
   "source": [
    "df.describe()"
   ]
  },
  {
   "cell_type": "markdown",
   "metadata": {},
   "source": [
    "Os principais insights podem ser resumidos da seguinte forma:\n",
    "- Idade Média: A idade média dos estudantes na matrícula é de aproximadamente 23 anos, sendo a idade mínima 17 anos e a idade máxima 70 anos.\n",
    "- Taxa de Desemprego: A taxa média de desemprego entre os estudantes é de cerca de 11.57%, com valores mínimo e máximo de 7.6% e 16.2%, respectivamente.\n",
    "- Taxa de Inflação: A taxa média de inflação é de 1.23%, com valores mínimo e máximo de -0.8% e 3.7%, respectivamente.\n",
    "- PIB: O PIB médio dos estudantes é muito baixo, com uma média próxima de 0, com valores mínimo e máximo de -4.06 e 3.5, respectivamente.\n",
    "- Desempenho Acadêmico: Os estudantes têm, em média, cerca de 6 disciplinas matriculadas por semestre, com média de notas de 10.64 no primeiro semestre e 10.23 no segundo semestre. A média de disciplinas aprovadas é maior no primeiro semestre (4.7) em comparação com o primeiro (4.43)\n",
    "\n",
    "Esses insights sugerem uma diversidade significativa entre os estudantes em termos de idade, desempenho acadêmico e contexto econômico. A compreensão dessas variabilidades pode ser útil para a tomada de decisões e políticas educacionais.\n",
    "\n",
    "### Colunas categóricas\n",
    "Também é possível obtermos algumas informações das colunas categóricas.\n",
    "\n",
    "A função `describe()` retorna cálculos mais adequados para esse tipo de dados, como a contagem de valores distintos (unique), a moda (top) e a frequência da mesma (freq):\n",
    "\n",
    "> Moda, neste caso, é a categoria mais frequente."
   ]
  },
  {
   "cell_type": "code",
   "execution_count": 4,
   "metadata": {},
   "outputs": [
    {
     "data": {
      "text/html": [
       "<div>\n",
       "<style scoped>\n",
       "    .dataframe tbody tr th:only-of-type {\n",
       "        vertical-align: middle;\n",
       "    }\n",
       "\n",
       "    .dataframe tbody tr th {\n",
       "        vertical-align: top;\n",
       "    }\n",
       "\n",
       "    .dataframe thead th {\n",
       "        text-align: right;\n",
       "    }\n",
       "</style>\n",
       "<table border=\"1\" class=\"dataframe\">\n",
       "  <thead>\n",
       "    <tr style=\"text-align: right;\">\n",
       "      <th></th>\n",
       "      <th>Estado civil</th>\n",
       "      <th>Migração</th>\n",
       "      <th>Sexo</th>\n",
       "      <th>Estrangeiro</th>\n",
       "      <th>Necessidades educacionais especiais</th>\n",
       "      <th>Devedor</th>\n",
       "      <th>Taxas de matrícula em dia</th>\n",
       "      <th>Bolsista</th>\n",
       "      <th>Curso</th>\n",
       "      <th>Período</th>\n",
       "      <th>Qualificação prévia</th>\n",
       "      <th>Target</th>\n",
       "    </tr>\n",
       "  </thead>\n",
       "  <tbody>\n",
       "    <tr>\n",
       "      <th>count</th>\n",
       "      <td>4424</td>\n",
       "      <td>4424</td>\n",
       "      <td>4424</td>\n",
       "      <td>4424</td>\n",
       "      <td>4424</td>\n",
       "      <td>4424</td>\n",
       "      <td>4424</td>\n",
       "      <td>4424</td>\n",
       "      <td>4424</td>\n",
       "      <td>4424</td>\n",
       "      <td>4424</td>\n",
       "      <td>4424</td>\n",
       "    </tr>\n",
       "    <tr>\n",
       "      <th>unique</th>\n",
       "      <td>6</td>\n",
       "      <td>2</td>\n",
       "      <td>2</td>\n",
       "      <td>2</td>\n",
       "      <td>2</td>\n",
       "      <td>2</td>\n",
       "      <td>2</td>\n",
       "      <td>2</td>\n",
       "      <td>17</td>\n",
       "      <td>2</td>\n",
       "      <td>17</td>\n",
       "      <td>3</td>\n",
       "    </tr>\n",
       "    <tr>\n",
       "      <th>top</th>\n",
       "      <td>Solteiro</td>\n",
       "      <td>Sim</td>\n",
       "      <td>Feminino</td>\n",
       "      <td>Não</td>\n",
       "      <td>Não</td>\n",
       "      <td>Não</td>\n",
       "      <td>Sim</td>\n",
       "      <td>Não</td>\n",
       "      <td>Enfermagem</td>\n",
       "      <td>Diurno</td>\n",
       "      <td>Educação secundária</td>\n",
       "      <td>Graduado</td>\n",
       "    </tr>\n",
       "    <tr>\n",
       "      <th>freq</th>\n",
       "      <td>3919</td>\n",
       "      <td>2426</td>\n",
       "      <td>2868</td>\n",
       "      <td>4314</td>\n",
       "      <td>4373</td>\n",
       "      <td>3921</td>\n",
       "      <td>3896</td>\n",
       "      <td>3325</td>\n",
       "      <td>766</td>\n",
       "      <td>3941</td>\n",
       "      <td>3717</td>\n",
       "      <td>2209</td>\n",
       "    </tr>\n",
       "  </tbody>\n",
       "</table>\n",
       "</div>"
      ],
      "text/plain": [
       "       Estado civil Migração      Sexo Estrangeiro  \\\n",
       "count          4424     4424      4424        4424   \n",
       "unique            6        2         2           2   \n",
       "top        Solteiro      Sim  Feminino         Não   \n",
       "freq           3919     2426      2868        4314   \n",
       "\n",
       "       Necessidades educacionais especiais Devedor Taxas de matrícula em dia  \\\n",
       "count                                 4424    4424                      4424   \n",
       "unique                                   2       2                         2   \n",
       "top                                    Não     Não                       Sim   \n",
       "freq                                  4373    3921                      3896   \n",
       "\n",
       "       Bolsista       Curso Período  Qualificação prévia    Target  \n",
       "count      4424        4424    4424                 4424      4424  \n",
       "unique        2          17       2                   17         3  \n",
       "top         Não  Enfermagem  Diurno  Educação secundária  Graduado  \n",
       "freq       3325         766    3941                 3717      2209  "
      ]
     },
     "execution_count": 4,
     "metadata": {},
     "output_type": "execute_result"
    }
   ],
   "source": [
    "colunas_categoricas = ['Estado civil', 'Migração', 'Sexo', 'Estrangeiro', 'Necessidades educacionais especiais', 'Devedor',  'Taxas de matrícula em dia', 'Bolsista', 'Curso', 'Período', 'Qualificação prévia', 'Target']\n",
    "\n",
    "df[colunas_categoricas].describe()"
   ]
  },
  {
   "cell_type": "markdown",
   "metadata": {},
   "source": [
    "O resultado revela insights sobre o perfil dos estudantes. A maioria deles é solteira, do sexo feminino, não é estrangeiro, nem possui necessidades educacionais especiais. A maior parte não é devedora, está com as taxas de matrícula em dia e não é bolsista. O curso mais comum é Enfermagem e a maioria dos estudantes está no período diurno. Em relação a qualificação prévia, a maioria possui em educação secundária (ensino médio). Quanto ao status \"target\", a maioria dos estudantes estão como graduados."
   ]
  },
  {
   "cell_type": "markdown",
   "metadata": {},
   "source": [
    "## 2 - Ampliando a exploração dos dados\n",
    "Nos vídeos anteriores, exploramos os dados por meio do cálculo de frequências e da elaboração de gráficos. Abordamos uma série de aspectos, porém, algumas variáveis ainda não foram analisadas. Agora, seu desafio consiste em uma análise abrangente das seguintes variáveis:\n",
    "- Migração\n",
    "- Necessidades educacionais especiais\n",
    "- Taxa de desemprego\n",
    "- Taxa de inflação\n",
    "- PIB\n",
    "- Qualificação prévia\n",
    "\n",
    "Sua tarefa é analisar esses dados com base nas informações disponíveis em cada coluna, apresentando as conclusões de forma clara e compreensível. Você pode realizar cálculos de frequência ou criar gráficos para facilitar a visualização das tendências e insights relevantes.\n",
    "\n",
    "Não se esqueça que você pode analisar essas informações em relação à variável “target” que diz que os estudantes são graduados, matriculados ou desistentes."
   ]
  },
  {
   "cell_type": "code",
   "execution_count": 5,
   "metadata": {},
   "outputs": [],
   "source": [
    "import seaborn as sns\n",
    "import matplotlib.pyplot as plt"
   ]
  },
  {
   "cell_type": "markdown",
   "metadata": {},
   "source": [
    "### Migração"
   ]
  },
  {
   "cell_type": "code",
   "execution_count": 6,
   "metadata": {},
   "outputs": [
    {
     "data": {
      "image/png": "[encoded data removed]",
      "text/plain": [
       "<Figure size 432x288 with 1 Axes>"
      ]
     },
     "metadata": {
      "needs_background": "light"
     },
     "output_type": "display_data"
    }
   ],
   "source": [
    "sns.countplot(x='Migração', hue='Target', data=df)\n",
    "plt.show()"
   ]
  },
  {
   "cell_type": "markdown",
   "metadata": {},
   "source": [
    "Notavelmente, na categoria de Migração “Sim”, a quantidade de graduados supera as outras categorias, indicando um alto sucesso no processo educacional. Em contrapartida, na categoria de Migração “Não”, as barras de desistentes e graduados são quase equivalentes, sugerindo um desafio na retenção de estudantes nesse contexto específico. Essas informações destacam a importância de estratégias de apoio à permanência dos alunos em instituições de ensino."
   ]
  },
  {
   "cell_type": "markdown",
   "metadata": {},
   "source": [
    "### Necessidades educacionais especiais"
   ]
  },
  {
   "cell_type": "code",
   "execution_count": 7,
   "metadata": {},
   "outputs": [
    {
     "data": {
      "text/plain": [
       "Não    98.847197\n",
       "Sim     1.152803\n",
       "Name: Necessidades educacionais especiais, dtype: float64"
      ]
     },
     "execution_count": 7,
     "metadata": {},
     "output_type": "execute_result"
    }
   ],
   "source": [
    "df['Necessidades educacionais especiais'].value_counts(normalize=True)*100"
   ]
  },
  {
   "cell_type": "markdown",
   "metadata": {},
   "source": [
    "O resultado mostra que apenas 1.15% do estudantes possuem necessidades educacionais especiais"
   ]
  },
  {
   "cell_type": "code",
   "execution_count": 8,
   "metadata": {},
   "outputs": [
    {
     "data": {
      "text/plain": [
       "Target       Necessidades educacionais especiais\n",
       "Desistente   Não                                    98.803659\n",
       "             Sim                                     1.196341\n",
       "Graduado     Não                                    98.958805\n",
       "             Sim                                     1.041195\n",
       "Matriculado  Não                                    98.614610\n",
       "             Sim                                     1.385390\n",
       "Name: Necessidades educacionais especiais, dtype: float64"
      ]
     },
     "execution_count": 8,
     "metadata": {},
     "output_type": "execute_result"
    }
   ],
   "source": [
    "df.groupby('Target')['Necessidades educacionais especiais'].value_counts(normalize=True)*100"
   ]
  },
  {
   "cell_type": "markdown",
   "metadata": {},
   "source": [
    "Os resultados mostram a distribuição das categorias \"Necessidades educacionais especiais\" em relação aos diferentes grupos de \"Target\". Esses números indicam que a presença de necessidades educacionais especiais é relativamente baixa em todos os grupos de \"Target\", com a maioria dos estudantes não apresentando tais necessidades."
   ]
  },
  {
   "cell_type": "markdown",
   "metadata": {},
   "source": [
    "### Taxa de desemprego"
   ]
  },
  {
   "cell_type": "code",
   "execution_count": 9,
   "metadata": {},
   "outputs": [
    {
     "data": {
      "image/png": "[encoded data removed]",
      "text/plain": [
       "<Figure size 432x288 with 1 Axes>"
      ]
     },
     "metadata": {
      "needs_background": "light"
     },
     "output_type": "display_data"
    }
   ],
   "source": [
    "sns.boxplot(x='Target', y='Taxa de desemprego', data=df)\n",
    "plt.show()"
   ]
  },
  {
   "cell_type": "markdown",
   "metadata": {},
   "source": [
    "### Taxa de inflação"
   ]
  },
  {
   "cell_type": "code",
   "execution_count": 10,
   "metadata": {},
   "outputs": [
    {
     "data": {
      "image/png": "[encoded data removed]",
      "text/plain": [
       "<Figure size 432x288 with 1 Axes>"
      ]
     },
     "metadata": {
      "needs_background": "light"
     },
     "output_type": "display_data"
    }
   ],
   "source": [
    "sns.boxplot(x='Target', y='Taxa de inflação', data=df)\n",
    "plt.show()"
   ]
  },
  {
   "cell_type": "markdown",
   "metadata": {},
   "source": [
    "### PIB"
   ]
  },
  {
   "cell_type": "code",
   "execution_count": 11,
   "metadata": {},
   "outputs": [
    {
     "data": {
      "image/png": "[encoded data removed]",
      "text/plain": [
       "<Figure size 432x288 with 1 Axes>"
      ]
     },
     "metadata": {
      "needs_background": "light"
     },
     "output_type": "display_data"
    }
   ],
   "source": [
    "sns.boxplot(x='Target', y='PIB', data=df)\n",
    "plt.show()"
   ]
  },
  {
   "cell_type": "markdown",
   "metadata": {},
   "source": [
    "### Qualificação prévia"
   ]
  },
  {
   "cell_type": "code",
   "execution_count": 12,
   "metadata": {},
   "outputs": [
    {
     "data": {
      "text/plain": [
       "Educação secundária                                         84.018987\n",
       "Curso de especialização tecnológica                          4.950271\n",
       "Educação básica 3º ciclo (9º/10º/11º ano) ou equivalente     3.661844\n",
       "Educação superior - licenciatura                             2.848101\n",
       "Outro - 11º ano de escolaridade                              1.017179\n",
       "Educação superior - licenciatura (1º ciclo)                  0.904159\n",
       "Curso técnico superior profissional                          0.813743\n",
       "Educação superior - bacharelado                              0.519892\n",
       "Frequência de educação superior                              0.361664\n",
       "12º ano de escolaridade - não concluído                      0.248644\n",
       "Educação superior - mestrado                                 0.180832\n",
       "Educação básica 2º ciclo (6º/7º/8º ano) ou equivalente       0.158228\n",
       "Educação superior - mestrado (2º ciclo)                      0.135624\n",
       "11º ano de escolaridade - não concluído                      0.090416\n",
       "10º ano de escolaridade - não concluído                      0.045208\n",
       "Educação superior - doutorado                                0.022604\n",
       "10º ano de escolaridade                                      0.022604\n",
       "Name: Qualificação prévia, dtype: float64"
      ]
     },
     "execution_count": 12,
     "metadata": {},
     "output_type": "execute_result"
    }
   ],
   "source": [
    "df['Qualificação prévia'].value_counts(normalize=True)*100"
   ]
  },
  {
   "cell_type": "markdown",
   "metadata": {},
   "source": [
    "O resultado revela que a maioria das pessoas possui educação secundária, representando 84.02%, enquanto cursos de especialização tecnológica e níveis de educação básica do 3º ciclo seguem com porcentagens de 4.95% e 3.66%, respectivamente. Níveis mais elevados de educação, como licenciaturas e pós-graduações, apresentam percentagens baixas, destacando a predominância da educação secundária entre os estudantes analisados."
   ]
  },
  {
   "cell_type": "markdown",
   "metadata": {},
   "source": [
    "## 3 - Utilizando outro classificador\n",
    "Nesta aula, empregamos o algoritmo Random Forest Classifier para a classificação dos nossos dados. No entanto, agora é o momento de aprofundar seu conhecimento e explorar outro classificador, a fim de avaliar como os resultados podem variar com essa abordagem diferente.\n",
    "\n",
    "Mas qual algoritmo escolher?\n",
    "\n",
    "Na [documentação](https://scikit-learn.org/stable/modules/multiclass.html) do sckit-learn temos temos diversas opções e vamos recomendar algumas delas aqui:\n",
    "- tree.DecisionTreeClassifier\n",
    "- tree.ExtraTreeClassifier\n",
    "- neighbors.KNeighborsClassifier\n",
    "- linear_model.LogisticRegression (setting multi_class=”multinomial”)\n",
    "- linear_model.RidgeClassifier\n",
    "- ensemble.GradientBoostingClassifier\n",
    "Antes de decidir qual algoritmo utilizar, é fundamental aprofundar-se no estudo de cada um deles. Além disso, é importante considerar se existem etapas adicionais de pré-processamento de dados que precisam ser realizadas antes de iniciar o treinamento do modelo no caso de algoritmos lineares como Logistic Regression e Ridge Classifier.\n",
    "\n",
    "Algoritmos lineares são algoritmos de aprendizado de máquina que se baseiam em modelos matemáticos lineares para fazer previsões. Esses modelos têm a propriedade de que a relação entre as variáveis de entrada (features) e a variável de saída (target) é representada de forma linear. Isso significa que as mudanças nas features têm um efeito proporcional nas previsões.\n",
    "\n",
    "E aí, preparado(a) para resolver esse desafio?"
   ]
  },
  {
   "cell_type": "markdown",
   "metadata": {},
   "source": [
    "Aqui, apresentamos uma sugestão de algoritmo: o GradientBoostingClassifier. No entanto, você está convidado(a) a experimentar qualquer outro algoritmo de sua escolha e compartilhar os resultados conosco!\n",
    "\n",
    "O GradientBoostingClassifier é um algoritmo de aprendizado de máquina amplamente utilizado para tarefas de classificação. Ele faz parte da família de algoritmos de impulso (boosting) e é conhecido por sua capacidade de melhorar gradualmente o desempenho do modelo, combinando várias árvores de decisão fracas em um modelo mais robusto e preciso."
   ]
  },
  {
   "cell_type": "code",
   "execution_count": 13,
   "metadata": {},
   "outputs": [],
   "source": [
    "from sklearn.preprocessing import OneHotEncoder\n",
    "\n",
    "colunas_categoricas = ['Migração', 'Sexo','Estrangeiro', 'Necessidades educacionais especiais', 'Devedor',\n",
    "                     'Taxas de matrícula em dia', 'Bolsista', 'Período','Estado civil', 'Curso', 'Qualificação prévia']\n",
    "\n",
    "# Selecionando apenas as colunas categóricas do dataframe\n",
    "df_categorico = df[colunas_categoricas]\n",
    "\n",
    "# Inicializando o OneHotEncoder\n",
    "encoder = OneHotEncoder(drop='if_binary')\n",
    "\n",
    "# Ajustando e transformando os dados, criando um novo dataframe com as colunas codificadas\n",
    "df_encoded = pd.DataFrame(encoder.fit_transform(df_categorico).toarray(),\n",
    "                          columns=encoder.get_feature_names_out(colunas_categoricas))\n",
    "\n",
    "# Combinando as colunas codificadas com as colunas não codificadas do dataframe original\n",
    "df_final = pd.concat([df.drop(colunas_categoricas, axis=1), df_encoded], axis=1)"
   ]
  },
  {
   "cell_type": "code",
   "execution_count": 14,
   "metadata": {},
   "outputs": [],
   "source": [
    "X = df_final.drop('Target', axis=1)\n",
    "y = df_final['Target']"
   ]
  },
  {
   "cell_type": "code",
   "execution_count": 15,
   "metadata": {},
   "outputs": [],
   "source": [
    "from sklearn.model_selection import train_test_split"
   ]
  },
  {
   "cell_type": "code",
   "execution_count": 16,
   "metadata": {},
   "outputs": [],
   "source": [
    "X, X_teste, y, y_teste = train_test_split(X, y, test_size=0.15, stratify=y, random_state=0)\n",
    "X_treino, X_val, y_treino, y_val = train_test_split(X, y, stratify=y, random_state=0)"
   ]
  },
  {
   "cell_type": "code",
   "execution_count": 17,
   "metadata": {},
   "outputs": [
    {
     "name": "stdout",
     "output_type": "stream",
     "text": [
      "Acurácia de treino: 0.8411347517730496\n",
      "Acurácia de validação: 0.7691489361702127\n"
     ]
    }
   ],
   "source": [
    "from sklearn.ensemble import GradientBoostingClassifier\n",
    "\n",
    "modelo_gb = GradientBoostingClassifier(random_state=0)\n",
    "modelo_gb.fit(X_treino, y_treino)\n",
    "y_pred = modelo_gb.predict(X_val)\n",
    "print(f'Acurácia de treino: {modelo_gb.score(X_treino, y_treino)}')\n",
    "print(f'Acurácia de validação: {modelo_gb.score(X_val, y_val)}')"
   ]
  },
  {
   "cell_type": "markdown",
   "metadata": {},
   "source": [
    "## 4 - Analisando as métricas com o outro classificador\n",
    "No desafio da aula anterior, você treinou os dados utilizando um algoritmo de classificação diferente e registrou os valores de acurácia tanto para o conjunto de treinamento quanto para o conjunto de validação.\n",
    "\n",
    "Agora é a hora de aprofundar nossa análise e avaliar o desempenho real desse modelo.\n",
    "\n",
    "O desafio agora consiste em balancear os dados e utilizar o mesmo algoritmo que você usou no desafio anterior para treinar o modelo. Após o treinamento com os dados balanceados, será necessário gerar a matriz de confusão e obter o relatório de métricas de desempenho. Em seguida, será fundamental comparar esses resultados com os dados que foram apresentados durante a aula.\n",
    "\n",
    "Então, qual dos modelos se mostra mais eficaz em termos de desempenho?"
   ]
  },
  {
   "cell_type": "code",
   "execution_count": null,
   "metadata": {},
   "outputs": [],
   "source": [
    "from imblearn.over_sampling import SMOTE\n",
    "oversample = SMOTE(random_state=0)\n",
    "X_balanceado, y_balanceado = oversample.fit_resample(X_treino, y_treino)"
   ]
  },
  {
   "cell_type": "code",
   "execution_count": null,
   "metadata": {},
   "outputs": [],
   "source": [
    "from sklearn.ensemble import GradientBoostingClassifier\n",
    "modelo_gb = GradientBoostingClassifier(random_state=0)\n",
    "modelo_gb.fit(X_balanceado, y_balanceado)\n",
    "y_pred = modelo_gb.predict(X_val)"
   ]
  },
  {
   "cell_type": "code",
   "execution_count": null,
   "metadata": {},
   "outputs": [],
   "source": [
    "from sklearn.metrics import ConfusionMatrixDisplay\n",
    "ConfusionMatrixDisplay.from_estimator(modelo_gb, X_val, y_val, normalize = 'true', cmap = 'Blues');"
   ]
  },
  {
   "cell_type": "code",
   "execution_count": null,
   "metadata": {},
   "outputs": [],
   "source": [
    "from sklearn.metrics import classification_report\n",
    "\n",
    "report = classification_report(y_val, y_pred)\n",
    "print(\"Relatório de Classificação:\\n\", report)"
   ]
  },
  {
   "cell_type": "markdown",
   "metadata": {},
   "source": [
    "## 5 - Realizando a classificação com outro dataset\n",
    "Ao longo deste curso, adquirimos habilidades essenciais para a exploração de dados e o pré-processamento necessário para treinar um modelo de classificação. Compreendemos como avaliar o desempenho de modelos multiclasse e abordar o desafio do desequilíbrio nos dados. Além disso, realizamos validação cruzada e submetemos nosso modelo a dados que ele nunca havia encontrado antes. Foi uma jornada intensa, não é mesmo?\n",
    "\n",
    "Agora, você está preparado(a) para se aventurar no desenvolvimento de projetos de classificação envolvendo mais de duas categorias. O próximo desafio vai permitir que você aprofunde ainda mais seus conhecimentos, aplicando tudo o que aprendeu aqui em um outro conjunto de dados.\n",
    "\n",
    "O desafio final consiste em utilizar um conjunto de dados, proveniente do [Kaggle](https://www.kaggle.com/datasets/yasserh/wine-quality-dataset), que contém informações detalhadas sobre várias características químicas de vinhos produzidos por uma vinícola. O dataset original teve as colunas traduzidas para português e os vinhos foram classificados em três categorias: Ruim, Mediano e Bom.\n",
    "\n",
    "Agora, sua tarefa é construir um modelo de classificação multiclasse capaz de prever a qualidade dos vinhos com base nessas características químicas. Isso ajudará a equipe da vinícola a identificar rapidamente os vinhos que precisam de ajustes na produção ou que podem ser destacados como excepcionais.\n",
    "\n",
    "O dataset está disponível para na seguinte url: https://raw.githubusercontent.com/alura-cursos/classificacao_multiclasse/main/Dados/df_vinho.csv"
   ]
  },
  {
   "cell_type": "markdown",
   "metadata": {},
   "source": [
    "Para construir este modelo, você precisará realizar as seguintes etapas:\n",
    "1. Ler a URL utilizando a biblioteca pandas e armazenar os dados em uma variável.\n",
    "2. Visualizar o DataFrame para verificar a presença de dados nulos e determinar se é necessário realizar algum pré-processamento.\n",
    "3. Separar as features em uma variável X e a coluna-alvo em uma variável y.\n",
    "4. Dividir os dados em conjuntos de treinamento, validação e teste.\n",
    "5. Treinar o algoritmo de classificação Random Forest utilizando os dados de treinamento.\n",
    "6. Avaliar o desempenho do modelo por meio da matriz de confusão e de um relatório de métricas.\n",
    "7. Avaliar a necessidade de balanceamento dos dados. Caso seja necessário, realizar o balanceamento e treinar o modelo novamente.\n",
    "8. Realizar validação cruzada para garantir a robustez do modelo.\n",
    "9. Testar o modelo com dados de teste que nunca foram previamente observados pelo modelo.\n",
    "10. Este desafio pode parecer abrangente, mas com todo o conhecimento adquirido ao longo do curso, você estará apto(a) a concluí-lo com sucesso!"
   ]
  },
  {
   "cell_type": "code",
   "execution_count": 18,
   "metadata": {},
   "outputs": [],
   "source": [
    "import pandas as pd"
   ]
  },
  {
   "cell_type": "code",
   "execution_count": 20,
   "metadata": {},
   "outputs": [
    {
     "data": {
      "text/html": [
       "<div>\n",
       "<style scoped>\n",
       "    .dataframe tbody tr th:only-of-type {\n",
       "        vertical-align: middle;\n",
       "    }\n",
       "\n",
       "    .dataframe tbody tr th {\n",
       "        vertical-align: top;\n",
       "    }\n",
       "\n",
       "    .dataframe thead th {\n",
       "        text-align: right;\n",
       "    }\n",
       "</style>\n",
       "<table border=\"1\" class=\"dataframe\">\n",
       "  <thead>\n",
       "    <tr style=\"text-align: right;\">\n",
       "      <th></th>\n",
       "      <th>acidez fixa</th>\n",
       "      <th>acidez volátil</th>\n",
       "      <th>ácido cítrico</th>\n",
       "      <th>açúcar residual</th>\n",
       "      <th>cloretos</th>\n",
       "      <th>dióxido de enxofre livre</th>\n",
       "      <th>dióxido de enxofre total</th>\n",
       "      <th>densidade</th>\n",
       "      <th>pH</th>\n",
       "      <th>sulfatos</th>\n",
       "      <th>álcool</th>\n",
       "      <th>qualidade</th>\n",
       "    </tr>\n",
       "  </thead>\n",
       "  <tbody>\n",
       "    <tr>\n",
       "      <th>0</th>\n",
       "      <td>7.4</td>\n",
       "      <td>0.70</td>\n",
       "      <td>0.00</td>\n",
       "      <td>1.9</td>\n",
       "      <td>0.076</td>\n",
       "      <td>11.0</td>\n",
       "      <td>34.0</td>\n",
       "      <td>0.9978</td>\n",
       "      <td>3.51</td>\n",
       "      <td>0.56</td>\n",
       "      <td>9.4</td>\n",
       "      <td>mediano</td>\n",
       "    </tr>\n",
       "    <tr>\n",
       "      <th>1</th>\n",
       "      <td>7.8</td>\n",
       "      <td>0.88</td>\n",
       "      <td>0.00</td>\n",
       "      <td>2.6</td>\n",
       "      <td>0.098</td>\n",
       "      <td>25.0</td>\n",
       "      <td>67.0</td>\n",
       "      <td>0.9968</td>\n",
       "      <td>3.20</td>\n",
       "      <td>0.68</td>\n",
       "      <td>9.8</td>\n",
       "      <td>mediano</td>\n",
       "    </tr>\n",
       "    <tr>\n",
       "      <th>2</th>\n",
       "      <td>7.8</td>\n",
       "      <td>0.76</td>\n",
       "      <td>0.04</td>\n",
       "      <td>2.3</td>\n",
       "      <td>0.092</td>\n",
       "      <td>15.0</td>\n",
       "      <td>54.0</td>\n",
       "      <td>0.9970</td>\n",
       "      <td>3.26</td>\n",
       "      <td>0.65</td>\n",
       "      <td>9.8</td>\n",
       "      <td>mediano</td>\n",
       "    </tr>\n",
       "    <tr>\n",
       "      <th>3</th>\n",
       "      <td>11.2</td>\n",
       "      <td>0.28</td>\n",
       "      <td>0.56</td>\n",
       "      <td>1.9</td>\n",
       "      <td>0.075</td>\n",
       "      <td>17.0</td>\n",
       "      <td>60.0</td>\n",
       "      <td>0.9980</td>\n",
       "      <td>3.16</td>\n",
       "      <td>0.58</td>\n",
       "      <td>9.8</td>\n",
       "      <td>mediano</td>\n",
       "    </tr>\n",
       "    <tr>\n",
       "      <th>4</th>\n",
       "      <td>7.4</td>\n",
       "      <td>0.66</td>\n",
       "      <td>0.00</td>\n",
       "      <td>1.8</td>\n",
       "      <td>0.075</td>\n",
       "      <td>13.0</td>\n",
       "      <td>40.0</td>\n",
       "      <td>0.9978</td>\n",
       "      <td>3.51</td>\n",
       "      <td>0.56</td>\n",
       "      <td>9.4</td>\n",
       "      <td>mediano</td>\n",
       "    </tr>\n",
       "  </tbody>\n",
       "</table>\n",
       "</div>"
      ],
      "text/plain": [
       "   acidez fixa  acidez volátil  ácido cítrico  açúcar residual  cloretos  \\\n",
       "0          7.4            0.70           0.00              1.9     0.076   \n",
       "1          7.8            0.88           0.00              2.6     0.098   \n",
       "2          7.8            0.76           0.04              2.3     0.092   \n",
       "3         11.2            0.28           0.56              1.9     0.075   \n",
       "4          7.4            0.66           0.00              1.8     0.075   \n",
       "\n",
       "   dióxido de enxofre livre   dióxido de enxofre total  densidade    pH  \\\n",
       "0                       11.0                      34.0     0.9978  3.51   \n",
       "1                       25.0                      67.0     0.9968  3.20   \n",
       "2                       15.0                      54.0     0.9970  3.26   \n",
       "3                       17.0                      60.0     0.9980  3.16   \n",
       "4                       13.0                      40.0     0.9978  3.51   \n",
       "\n",
       "   sulfatos  álcool qualidade  \n",
       "0      0.56     9.4   mediano  \n",
       "1      0.68     9.8   mediano  \n",
       "2      0.65     9.8   mediano  \n",
       "3      0.58     9.8   mediano  \n",
       "4      0.56     9.4   mediano  "
      ]
     },
     "execution_count": 20,
     "metadata": {},
     "output_type": "execute_result"
    }
   ],
   "source": [
    "url = 'https://raw.githubusercontent.com/alura-cursos/classificacao_multiclasse/main/Dados/df_vinho.csv'\n",
    "df = pd.read_csv(url)\n",
    "df.head()"
   ]
  },
  {
   "cell_type": "code",
   "execution_count": 21,
   "metadata": {},
   "outputs": [
    {
     "name": "stdout",
     "output_type": "stream",
     "text": [
      "<class 'pandas.core.frame.DataFrame'>\n",
      "RangeIndex: 1359 entries, 0 to 1358\n",
      "Data columns (total 12 columns):\n",
      " #   Column                     Non-Null Count  Dtype  \n",
      "---  ------                     --------------  -----  \n",
      " 0   acidez fixa                1359 non-null   float64\n",
      " 1   acidez volátil             1359 non-null   float64\n",
      " 2   ácido cítrico              1359 non-null   float64\n",
      " 3   açúcar residual            1359 non-null   float64\n",
      " 4   cloretos                   1359 non-null   float64\n",
      " 5   dióxido de enxofre livre   1359 non-null   float64\n",
      " 6   dióxido de enxofre total   1359 non-null   float64\n",
      " 7   densidade                  1359 non-null   float64\n",
      " 8   pH                         1359 non-null   float64\n",
      " 9   sulfatos                   1359 non-null   float64\n",
      " 10  álcool                     1359 non-null   float64\n",
      " 11  qualidade                  1359 non-null   object \n",
      "dtypes: float64(11), object(1)\n",
      "memory usage: 127.5+ KB\n"
     ]
    }
   ],
   "source": [
    "df.info()"
   ]
  },
  {
   "cell_type": "markdown",
   "metadata": {},
   "source": [
    "Não há dados nulos, e apenas a coluna qualidade é uma variável categórica. Ela será o nosso *target*, a coluna que possui as classes que queremos classificar"
   ]
  },
  {
   "cell_type": "code",
   "execution_count": 24,
   "metadata": {},
   "outputs": [],
   "source": [
    "X = df.drop('qualidade', axis=1)\n",
    "y = df['qualidade']"
   ]
  },
  {
   "cell_type": "code",
   "execution_count": 25,
   "metadata": {},
   "outputs": [],
   "source": [
    "from sklearn.model_selection import train_test_split"
   ]
  },
  {
   "cell_type": "code",
   "execution_count": 26,
   "metadata": {},
   "outputs": [],
   "source": [
    "X, X_teste, y, y_teste = train_test_split(X, y, test_size=0.15, stratify=y, random_state=0)\n",
    "X_treino, X_val, y_treino, y_val = train_test_split(X, y, stratify=y, random_state=0)"
   ]
  },
  {
   "cell_type": "code",
   "execution_count": 27,
   "metadata": {},
   "outputs": [
    {
     "name": "stdout",
     "output_type": "stream",
     "text": [
      "Acurácia de treino: 0.8868360277136259\n",
      "Acurácia de validação: 0.8304498269896193\n"
     ]
    }
   ],
   "source": [
    "from sklearn.ensemble import RandomForestClassifier\n",
    "\n",
    "modelo_rf = RandomForestClassifier(random_state=0, max_depth=5)\n",
    "modelo_rf.fit(X_treino, y_treino)\n",
    "y_pred = modelo_rf.predict(X_val)\n",
    "\n",
    "print(f'Acurácia de treino: {modelo_rf.score(X_treino, y_treino)}')\n",
    "print(f'Acurácia de validação: {modelo_rf.score(X_val, y_val)}')"
   ]
  },
  {
   "cell_type": "code",
   "execution_count": 34,
   "metadata": {},
   "outputs": [
    {
     "data": {
      "image/png": "[encoded data removed]",
      "text/plain": [
       "<Figure size 432x288 with 2 Axes>"
      ]
     },
     "metadata": {
      "needs_background": "light"
     },
     "output_type": "display_data"
    }
   ],
   "source": [
    "from sklearn.metrics import ConfusionMatrixDisplay\n",
    "ConfusionMatrixDisplay.from_estimator(modelo_rf, X_val, y_val, normalize='true', cmap='Blues');"
   ]
  },
  {
   "cell_type": "code",
   "execution_count": 36,
   "metadata": {},
   "outputs": [
    {
     "name": "stdout",
     "output_type": "stream",
     "text": [
      "Relatório de Classificação:\n",
      "               precision    recall  f1-score   support\n",
      "\n",
      "         bom       0.64      0.23      0.34        39\n",
      "     mediano       0.84      0.98      0.90       236\n",
      "        ruim       0.00      0.00      0.00        14\n",
      "\n",
      "    accuracy                           0.83       289\n",
      "   macro avg       0.49      0.40      0.41       289\n",
      "weighted avg       0.77      0.83      0.78       289\n",
      "\n"
     ]
    },
    {
     "name": "stderr",
     "output_type": "stream",
     "text": [
      "c:\\Users\\kai_o\\AppData\\Local\\Programs\\Python\\Python37\\lib\\site-packages\\sklearn\\metrics\\_classification.py:1318: UndefinedMetricWarning: Precision and F-score are ill-defined and being set to 0.0 in labels with no predicted samples. Use `zero_division` parameter to control this behavior.\n",
      "  _warn_prf(average, modifier, msg_start, len(result))\n",
      "c:\\Users\\kai_o\\AppData\\Local\\Programs\\Python\\Python37\\lib\\site-packages\\sklearn\\metrics\\_classification.py:1318: UndefinedMetricWarning: Precision and F-score are ill-defined and being set to 0.0 in labels with no predicted samples. Use `zero_division` parameter to control this behavior.\n",
      "  _warn_prf(average, modifier, msg_start, len(result))\n",
      "c:\\Users\\kai_o\\AppData\\Local\\Programs\\Python\\Python37\\lib\\site-packages\\sklearn\\metrics\\_classification.py:1318: UndefinedMetricWarning: Precision and F-score are ill-defined and being set to 0.0 in labels with no predicted samples. Use `zero_division` parameter to control this behavior.\n",
      "  _warn_prf(average, modifier, msg_start, len(result))\n"
     ]
    }
   ],
   "source": [
    "from sklearn.metrics import classification_report\n",
    "\n",
    "report = classification_report(y_val, y_pred)\n",
    "print(\"Relatório de Classificação:\\n\", report)"
   ]
  },
  {
   "cell_type": "code",
   "execution_count": 37,
   "metadata": {},
   "outputs": [
    {
     "data": {
      "text/plain": [
       "mediano    709\n",
       "bom        117\n",
       "ruim        40\n",
       "Name: qualidade, dtype: int64"
      ]
     },
     "execution_count": 37,
     "metadata": {},
     "output_type": "execute_result"
    }
   ],
   "source": [
    "y_treino.value_counts()"
   ]
  },
  {
   "cell_type": "code",
   "execution_count": null,
   "metadata": {},
   "outputs": [],
   "source": [
    "from imblearn.over_sampling import SMOTE\n",
    "\n",
    "oversample = SMOTE(random_state=0)\n",
    "X_balanceado, y_balanceado = oversample.fit_resample(X_treino, y_treino)\n",
    "modelo = RandomForestClassifier(random_state=0, max_depth=5)\n",
    "modelo.fit(X_balanceado, y_balanceado)\n",
    "y_pred = modelo.predict(X_val)\n",
    "print(classification_report(y_val, y_pred))\n",
    "ConfusionMatrixDisplay.from_predictions(y_val, y_pred, normalize='true', cmap='Blues');"
   ]
  },
  {
   "cell_type": "code",
   "execution_count": null,
   "metadata": {},
   "outputs": [],
   "source": [
    "from imblearn.pipeline import Pipeline as imbpipeline\n",
    "\n",
    "modelo = RandomForestClassifier(max_depth = 10)\n",
    "pipeline = imbpipeline([('oversample', SMOTE()), ('floresta', modelo)])"
   ]
  },
  {
   "cell_type": "code",
   "execution_count": null,
   "metadata": {},
   "outputs": [],
   "source": [
    "from sklearn.model_selection import cross_validate, StratifiedKFold\n",
    "\n",
    "skf = StratifiedKFold(n_splits=5, shuffle=True, random_state=0)\n",
    "cv_resultados = cross_validate(pipeline, X, y, cv=skf, scoring='recall_weighted')\n",
    "cv_resultados['test_score']"
   ]
  },
  {
   "cell_type": "code",
   "execution_count": null,
   "metadata": {},
   "outputs": [],
   "source": [
    "media = cv_resultados['test_score'].mean()\n",
    "desvio_padrao = cv_resultados['test_score'].std()\n",
    "print(f'Intervalo de confiança: [{media-2*desvio_padrao}, {min(media+2*desvio_padrao, 1.0)}]')"
   ]
  },
  {
   "cell_type": "code",
   "execution_count": null,
   "metadata": {},
   "outputs": [],
   "source": [
    "oversample = SMOTE(random_state=0)\n",
    "X_balanceado, y_balanceado = oversample.fit_resample(X, y)\n",
    "modelo = RandomForestClassifier(random_state=0, max_depth=10)\n",
    "modelo.fit(X_balanceado, y_balanceado)\n",
    "y_pred = modelo.predict(X_teste)\n",
    "\n",
    "print(classification_report(y_teste, y_pred))\n",
    "ConfusionMatrixDisplay.from_predictions(y_teste, y_pred, normalize='true', cmap='Blues');"
   ]
  }
 ],
 "metadata": {
  "kernelspec": {
   "display_name": "Python 3",
   "language": "python",
   "name": "python3"
  },
  "language_info": {
   "codemirror_mode": {
    "name": "ipython",
    "version": 3
   },
   "file_extension": ".py",
   "mimetype": "text/x-python",
   "name": "python",
   "nbconvert_exporter": "python",
   "pygments_lexer": "ipython3",
   "version": "3.7.6"
  }
 },
 "nbformat": 4,
 "nbformat_minor": 2
}
